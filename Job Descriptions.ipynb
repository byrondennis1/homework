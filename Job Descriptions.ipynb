{
 "cells": [
  {
   "cell_type": "markdown",
   "metadata": {},
   "source": [
    "# Byron Dennis - Assignment 4\n",
    "Applying data mining algorithms to text!"
   ]
  },
  {
   "cell_type": "markdown",
   "metadata": {},
   "source": [
    "### Overview\n",
    "\n",
    "For this assignment I chose to use a dataset with job posting to see if it would be possible to predict job titles based on job requirements.  For the purposes of this analysis I selected a handful of job titles to focus on.\n",
    "\n",
    "'Accountant','Lawyer','Software Developer','Project Manager','Sales manager','Chief Accountant','Web Developer','Java Developer','Office Manager'\n",
    "\n",
    "I was curious to see if the model would have trouble differentiating chief accountants and accountants.  I also thought the model may have trouble with web developers, java developers, and software developers.\n",
    "\n",
    "https://www.kaggle.com/madhab/jobposts\n",
    "\n",
    "The dataset consists of 19,000 job postings that were posted through the Armenian human resource portal CareerCenter. The data was extracted from the Yahoo! mailing group https://groups.yahoo.com/neo/groups/careercenter-am. This was the only online human resource portal in the early 2000s. A job posting usually has some structure, although some fields of the posting are not necessarily filled out by the client (poster). The data was cleaned by removing posts that were not job related or had no structure. The data consists of job posts from 2004-2015 \n"
   ]
  },
  {
   "cell_type": "markdown",
   "metadata": {},
   "source": [
    "## Question 1\n",
    "Write a short description of the results of these “baseline” models. Make sure your answer is no longer than four paragraphs, and should at minimum answer these questions:\n",
    "- What decisions did you make when creating your feature space? Why?\n",
    "- How do these classifiers address your question?\n",
    "- How did your models perform? What performance measure did you use?  Why? \n",
    "- Are you happy with the results?  Why or why not?"
   ]
  },
  {
   "cell_type": "markdown",
   "metadata": {},
   "source": [
    "## Answer 1"
   ]
  },
  {
   "cell_type": "markdown",
   "metadata": {},
   "source": [
    "#### Base Line Model Performance"
   ]
  },
  {
   "cell_type": "markdown",
   "metadata": {},
   "source": [
    "The three baseline models used to predict job titles based on job requirements were a logistic regression, decision tree, and a K Nearest Neigbor model.  Logistic regression models estimate log odds for each observation that can be turned into probabilities to make a predictions.  Decision trees find the features that provide the most information to make a prediction and create an \"if then\" logic to classify data.  The KNN model identifies the specified number of observations (k) that are closest to the target and classifies based on those observations.\n",
    "\n",
    "The accuracy of the baseline models were a good starting point, but need additional work.  The logistic regression was an early stand out with 84% accuracy which was five percentage points greater than the next best model (Decision Tree).  The overall precision and recall were almost identical to the model accuracy, but as I suspected each classifier had trouble differentiating the various types of developers and accountants.  When the logistic regression predicted a job posting to be for a web developer it was only correct 66% of the time (precision).  The recall statistic for Java Developers was 62% which tells us that only 62% of total number of Java Developers were classified correctly.  The ineraction between precision and recall for Java Developers and Web Developers leads me to believe that Web Developers are being classified as Java Developers.\n",
    "\n",
    "My initial feature space was created by removing common english words that seemed to provided little or no value such as \"we\", \"our\" and \"he\".  There were also more specific job description words that were removed that provided no value to the analysis (e.g. llc, company, work, seeking, position, looking , candidate, incumbent and activities).  A additional option I applied to my initial feature space was to exclude words that appeared in 90% or more of the job descriptions.  When words appear in the majority of job descriptions they do not add any predictive value to the models and add additional noise when trying to figure out which words are truly important.  The final option I applied was to use counts rather than binary word indicators as I thought the frequency of certain words could be useful to the models."
   ]
  },
  {
   "cell_type": "code",
   "execution_count": 68,
   "metadata": {
    "collapsed": false
   },
   "outputs": [
    {
     "data": {
      "text/html": [
       "<div>\n",
       "<table border=\"1\" class=\"dataframe\">\n",
       "  <thead>\n",
       "    <tr style=\"text-align: right;\">\n",
       "      <th></th>\n",
       "      <th>Model</th>\n",
       "      <th>Accuracy</th>\n",
       "    </tr>\n",
       "  </thead>\n",
       "  <tbody>\n",
       "    <tr>\n",
       "      <th>0</th>\n",
       "      <td>Decision Tree (initial)</td>\n",
       "      <td>0.789474</td>\n",
       "    </tr>\n",
       "    <tr>\n",
       "      <th>1</th>\n",
       "      <td>Logistic Regression initial</td>\n",
       "      <td>0.839009</td>\n",
       "    </tr>\n",
       "    <tr>\n",
       "      <th>2</th>\n",
       "      <td>K Nearest Neighbors initial (k=3)</td>\n",
       "      <td>0.718266</td>\n",
       "    </tr>\n",
       "  </tbody>\n",
       "</table>\n",
       "</div>"
      ],
      "text/plain": [
       "                               Model  Accuracy\n",
       "0            Decision Tree (initial)  0.789474\n",
       "1        Logistic Regression initial  0.839009\n",
       "2  K Nearest Neighbors initial (k=3)  0.718266"
      ]
     },
     "execution_count": 68,
     "metadata": {},
     "output_type": "execute_result"
    }
   ],
   "source": [
    "summarydf1"
   ]
  },
  {
   "cell_type": "markdown",
   "metadata": {},
   "source": [
    "#### Initial Logistic Regression Metrics"
   ]
  },
  {
   "cell_type": "code",
   "execution_count": 61,
   "metadata": {
    "collapsed": false
   },
   "outputs": [
    {
     "name": "stdout",
     "output_type": "stream",
     "text": [
      "                    precision    recall  f1-score   support\n",
      "\n",
      "        Accountant       0.81      0.87      0.84        87\n",
      "  Chief Accountant       0.76      0.71      0.74        49\n",
      "    Java Developer       0.89      0.62      0.73        26\n",
      "            Lawyer       1.00      1.00      1.00        45\n",
      "    Office Manager       1.00      0.90      0.95        20\n",
      "   Project Manager       1.00      0.89      0.94        35\n",
      "Software Developer       0.75      0.79      0.77        34\n",
      "     Web Developer       0.66      0.85      0.74        27\n",
      "\n",
      "       avg / total       0.85      0.84      0.84       323\n",
      "\n"
     ]
    }
   ],
   "source": [
    "print(metrics.classification_report(clf2_expected, clf2_predicted))"
   ]
  },
  {
   "cell_type": "markdown",
   "metadata": {},
   "source": [
    "## Question 2\n",
    "Write a short description of the improvement you were able to make in your prediction. Make sure your answer is no longer than four paragraphs, and should at minimum answer these questions:\n",
    "- What combination of classifiers and settings did you use and why?\n",
    "- Which model fit “best” and what metric did you use for the comparison? Why? \n",
    "- Are you happy with the results? Why or why not?  What could you do to improve on the “best” model’s performance?\n"
   ]
  },
  {
   "cell_type": "markdown",
   "metadata": {},
   "source": [
    "## Answer 2\n",
    "After making several changes to my baseline models I was able to increase overall model accuracy from 84% to 87% using the logistic regression.  Precision and recall both increased from 85% to 87%.  I am still not satisfied with the final model because it still struggles to classify developers (especially java developers) and could use improvement when predicting chief accountants.  \n",
    "\n",
    "To improve the model fit I tried a variety of preprocessing options as well as different count vectorizer settings.  My first test was to find the optimal k for the KNN model to see if that would improve the KNN model.  It turns out that the optimal k reported was 1 which makes me uncomfortable because so little information is being taken into account to make a prediction.  The performance of the KNN model was only slightly improved by using the \"optimal\" k, so I decided to focus soley on improving the logistic regression model.\n",
    "\n",
    "The most impactful changes I made were changing my test/train ratio and using the binary setting for the count vectorizer.  The baseline models were developed using a 70/30 split for testing and training.  The dataset I was using only included 1,074 records.  Changing the test/train split to 80/20 gave the model more information which led to increased accuracy.  I believe using binary values from the count vectorizer improved the model because it allowed key words that were mentioned less often too have greater importance in the model. \n",
    "\n",
    "Other options I tried included removing additional stopwords, stemming (reduced model performance) and using tfidf weights.  One additional action that could be taken to improve the model would be to identify the words that the developer positions have in common and which words are exclusive to each position to see if there are additional changes that can be made to the stopwords that would improve the model.  I am concerned that some of the innaccuracy can be attributed to poor job description data."
   ]
  },
  {
   "cell_type": "code",
   "execution_count": 125,
   "metadata": {
    "collapsed": false
   },
   "outputs": [
    {
     "data": {
      "text/html": [
       "<div>\n",
       "<table border=\"1\" class=\"dataframe\">\n",
       "  <thead>\n",
       "    <tr style=\"text-align: right;\">\n",
       "      <th></th>\n",
       "      <th>Model</th>\n",
       "      <th>Accuracy</th>\n",
       "    </tr>\n",
       "  </thead>\n",
       "  <tbody>\n",
       "    <tr>\n",
       "      <th>0</th>\n",
       "      <td>Decision Tree (initial)</td>\n",
       "      <td>0.789474</td>\n",
       "    </tr>\n",
       "    <tr>\n",
       "      <th>1</th>\n",
       "      <td>Logistic Regression initial</td>\n",
       "      <td>0.839009</td>\n",
       "    </tr>\n",
       "    <tr>\n",
       "      <th>2</th>\n",
       "      <td>K Nearest Neighbors initial (k=3)</td>\n",
       "      <td>0.718266</td>\n",
       "    </tr>\n",
       "    <tr>\n",
       "      <th>3</th>\n",
       "      <td>K Nearest Neighbors (k=1 optimal)</td>\n",
       "      <td>0.733746</td>\n",
       "    </tr>\n",
       "    <tr>\n",
       "      <th>4</th>\n",
       "      <td>Logistic Regression binary CV</td>\n",
       "      <td>0.851393</td>\n",
       "    </tr>\n",
       "    <tr>\n",
       "      <th>5</th>\n",
       "      <td>Decision Tree binary CV</td>\n",
       "      <td>0.743034</td>\n",
       "    </tr>\n",
       "    <tr>\n",
       "      <th>6</th>\n",
       "      <td>Logistic Regression 80/20, binary = True</td>\n",
       "      <td>0.869767</td>\n",
       "    </tr>\n",
       "    <tr>\n",
       "      <th>7</th>\n",
       "      <td>Logistic Regression 80/20, binary, Stem</td>\n",
       "      <td>0.832558</td>\n",
       "    </tr>\n",
       "    <tr>\n",
       "      <th>8</th>\n",
       "      <td>Logistic Regression 80/20, Stem, stopwords</td>\n",
       "      <td>0.818605</td>\n",
       "    </tr>\n",
       "    <tr>\n",
       "      <th>9</th>\n",
       "      <td>Logistic Regression 80/20, tfidf</td>\n",
       "      <td>0.818605</td>\n",
       "    </tr>\n",
       "    <tr>\n",
       "      <th>10</th>\n",
       "      <td>Logistic Regression 80/20, dict, new stopwords, binary</td>\n",
       "      <td>0.865116</td>\n",
       "    </tr>\n",
       "  </tbody>\n",
       "</table>\n",
       "</div>"
      ],
      "text/plain": [
       "                                                     Model  Accuracy\n",
       "0                                  Decision Tree (initial)  0.789474\n",
       "1                              Logistic Regression initial  0.839009\n",
       "2                        K Nearest Neighbors initial (k=3)  0.718266\n",
       "3                        K Nearest Neighbors (k=1 optimal)  0.733746\n",
       "4                            Logistic Regression binary CV  0.851393\n",
       "5                                  Decision Tree binary CV  0.743034\n",
       "6                 Logistic Regression 80/20, binary = True  0.869767\n",
       "7                  Logistic Regression 80/20, binary, Stem  0.832558\n",
       "8               Logistic Regression 80/20, Stem, stopwords  0.818605\n",
       "9                         Logistic Regression 80/20, tfidf  0.818605\n",
       "10  Logistic Regression 80/20, dict, new stopwords, binary  0.865116"
      ]
     },
     "execution_count": 125,
     "metadata": {},
     "output_type": "execute_result"
    }
   ],
   "source": [
    "summarydf"
   ]
  },
  {
   "cell_type": "markdown",
   "metadata": {},
   "source": [
    "#### Best Logistic Regression Model Metrics"
   ]
  },
  {
   "cell_type": "code",
   "execution_count": 127,
   "metadata": {
    "collapsed": false
   },
   "outputs": [
    {
     "name": "stdout",
     "output_type": "stream",
     "text": [
      "                    precision    recall  f1-score   support\n",
      "\n",
      "        Accountant       0.87      0.91      0.89        57\n",
      "  Chief Accountant       0.82      0.79      0.81        34\n",
      "    Java Developer       0.83      0.59      0.69        17\n",
      "            Lawyer       1.00      1.00      1.00        28\n",
      "    Office Manager       1.00      0.93      0.97        15\n",
      "   Project Manager       1.00      0.90      0.95        21\n",
      "Software Developer       0.74      0.92      0.82        25\n",
      "     Web Developer       0.78      0.78      0.78        18\n",
      "\n",
      "       avg / total       0.87      0.87      0.87       215\n",
      "\n"
     ]
    }
   ],
   "source": [
    "print(metrics.classification_report(clf5_expected, clf5_predicted))"
   ]
  },
  {
   "cell_type": "markdown",
   "metadata": {},
   "source": [
    "## Question 3\n",
    "Write a short description of the outcome of your clustering exercise. Make sure your answer is no longer than four paragraphs, and should at minimum answer these questions:\n",
    "- How many clusters did you “find”? Why did you select that number? \n",
    "- Can you easily describe your clusters with a text label?  If so, what are the labels and how do they help?  If not, why not? \n"
   ]
  },
  {
   "cell_type": "markdown",
   "metadata": {},
   "source": [
    "## Answer 3"
   ]
  },
  {
   "cell_type": "markdown",
   "metadata": {},
   "source": [
    "I chose to look for 8 clusters because that is the number of distinct job titles that were included in my data set.  After running the clustering model I created a summary with the count of each job description within each cluster.  Some clusters were clearly separated.  For example, one cluster contained almost all of the lawyers and another cluster contained all of the developer positions (web, software and java developers).  However, 5 separate clusters were created that included accountants and  chief accountants.  The analysis also grouped project managers and office managers together.\n",
    "\n",
    "I cannot easily describe all of the clusters based on the groupings of job descriptions because multiple clusters were created for the same job descriptions.  Even though the clusters are not clearly defined at this point two things could come out of this analysis.  I could try to change the number of clusters from 8 to a lesser number to see if the jobs would be classified in a more meaningful way (i.e. one cluster for accounts, one cluster for developers, etc.).  I could also leave the clusters in their current state and further evaluate the difference is in job descriptions to see if the job descriptions need more clarification or title changes.  Perhaps the cluster results are indicating vague job descriptions or poorly classified job requirements."
   ]
  },
  {
   "cell_type": "markdown",
   "metadata": {},
   "source": [
    "## Task 1 - Baseline Models"
   ]
  },
  {
   "cell_type": "code",
   "execution_count": 38,
   "metadata": {
    "collapsed": false
   },
   "outputs": [],
   "source": [
    "# Housekeeping\n",
    "\n",
    "import pandas as pd\n",
    "import numpy as np\n",
    "from __future__ import division\n",
    "\n",
    "from sklearn.feature_extraction.text import CountVectorizer, TfidfVectorizer\n",
    "from sklearn.model_selection import train_test_split\n",
    "import nltk\n",
    "\n",
    "pd.set_option('display.max_colwidth', 18000)\n",
    "\n",
    "pathname = \"C:/Users/byron/OneDrive/Documents/Text Mining/Job_Posts/\""
   ]
  },
  {
   "cell_type": "code",
   "execution_count": 78,
   "metadata": {
    "collapsed": false
   },
   "outputs": [
    {
     "name": "stdout",
     "output_type": "stream",
     "text": [
      "(19001, 24)\n",
      "['jobpost', 'date', 'Title', 'Company', 'AnnouncementCode', 'Term', 'Eligibility', 'Audience', 'StartDate', 'Duration', 'Location', 'JobDescription', 'JobRequirment', 'RequiredQual', 'Salary', 'ApplicationP', 'OpeningDate', 'Deadline', 'Notes', 'AboutC', 'Attach', 'Year', 'Month', 'IT']\n"
     ]
    }
   ],
   "source": [
    "# Get data\n",
    "\n",
    "df = pd.read_csv(pathname + \"data job posts.csv\")\n",
    "\n",
    "print(df.shape)\n",
    "print(list(df))\n"
   ]
  },
  {
   "cell_type": "code",
   "execution_count": 79,
   "metadata": {
    "collapsed": false,
    "scrolled": false
   },
   "outputs": [],
   "source": [
    "#df.head()"
   ]
  },
  {
   "cell_type": "code",
   "execution_count": 80,
   "metadata": {
    "collapsed": false
   },
   "outputs": [
    {
     "name": "stdout",
     "output_type": "stream",
     "text": [
      "(1074, 24)\n"
     ]
    }
   ],
   "source": [
    "# Remove NAs\n",
    "jobdf = df[df.JobRequirment.notnull()]\n",
    "\n",
    "# Choose specific job titles to classify\n",
    "\n",
    "value_list = ['Accountant','Lawyer','Software Developer','Project Manager','Sales manager','Chief Accountant','Web Developer','Java Developer','Office Manager']\n",
    "jobdf = jobdf[jobdf.Title.isin(value_list)]\n",
    "\n",
    "print(jobdf.shape)"
   ]
  },
  {
   "cell_type": "code",
   "execution_count": 81,
   "metadata": {
    "collapsed": false
   },
   "outputs": [],
   "source": [
    "#jobdf.JobRequirment.head()"
   ]
  },
  {
   "cell_type": "code",
   "execution_count": 82,
   "metadata": {
    "collapsed": false
   },
   "outputs": [
    {
     "name": "stdout",
     "output_type": "stream",
     "text": [
      "(1074, 3493)\n"
     ]
    }
   ],
   "source": [
    "# Initial Vectorizer Review\n",
    "prelim = CountVectorizer(stop_words='english', max_df = .9)\n",
    "prelim_dm = prelim.fit_transform(jobdf['JobRequirment'])\n",
    "\n",
    "print(prelim_dm.shape)\n",
    "\n",
    "names = prelim.get_feature_names()\n",
    "\n",
    "count = np.sum(prelim_dm.toarray(), axis = 0).tolist()\n",
    "\n",
    "count_df = pd.DataFrame(count, index = names, columns = ['count'])\n",
    "\n",
    "#count_df.sort_values(['count'], ascending = False).head(20)"
   ]
  },
  {
   "cell_type": "code",
   "execution_count": 83,
   "metadata": {
    "collapsed": false
   },
   "outputs": [],
   "source": [
    "# Custom Stop Words\n",
    "\n",
    "from nltk.corpus import stopwords\n",
    "\n",
    "nltk_stopwords = stopwords.words(\"english\")\n",
    "\n",
    "my_stopwords = nltk_stopwords + ['llc','company','work','seeking','position','looking','candidate'\n",
    "                                 ,'incumbent','activities']"
   ]
  },
  {
   "cell_type": "code",
   "execution_count": 128,
   "metadata": {
    "collapsed": false
   },
   "outputs": [
    {
     "name": "stdout",
     "output_type": "stream",
     "text": [
      "(1074, 3550)\n"
     ]
    }
   ],
   "source": [
    "# instantiate vectorizer(s)\n",
    "cv = CountVectorizer(stop_words=my_stopwords,\n",
    "                     max_df=.9)\n",
    "\n",
    "tfidf = TfidfVectorizer(stop_words=my_stopwords,\n",
    "                     max_df=.9)\n",
    "\n",
    "\n",
    "# fit text\n",
    "cv_dm = cv.fit_transform(jobdf['JobRequirment'])\n",
    "tfidf_dm = tfidf.fit_transform(jobdf['JobRequirment'])\n",
    "\n",
    "print(cv_dm.shape)\n",
    "\n",
    "names = cv.get_feature_names()\n",
    "\n",
    "count = np.sum(cv_dm.toarray(), axis = 0).tolist()\n",
    "\n",
    "count_df = pd.DataFrame(count, index = names, columns = ['count'])\n",
    "\n",
    "#count_df.sort_values(['count'], ascending = False).head(20)\n",
    "\n",
    "# print(names)"
   ]
  },
  {
   "cell_type": "code",
   "execution_count": 85,
   "metadata": {
    "collapsed": false
   },
   "outputs": [
    {
     "name": "stdout",
     "output_type": "stream",
     "text": [
      "<class 'numpy.ndarray'>\n",
      "<class 'numpy.ndarray'>\n",
      "(751, 3560)\n",
      "(323, 3560)\n",
      "(751,)\n",
      "(323,)\n"
     ]
    }
   ],
   "source": [
    "# train test split\n",
    "# data are X, labels are y\n",
    "from sklearn.model_selection import train_test_split\n",
    "\n",
    "X = cv_dm.toarray() \n",
    "print(type(X))\n",
    "\n",
    "y = jobdf['Title'].values #this is an array of labels\n",
    "print(type(y))\n",
    "\n",
    "X_train, X_test, y_train, y_test = train_test_split(X, y, test_size=0.3, random_state=42) #random_state is set seed\n",
    "\n",
    "# function creates 4 output structures - order matters\n",
    "print(X_train.shape)\n",
    "print(X_test.shape)\n",
    "print(y_train.shape)\n",
    "print(y_test.shape)"
   ]
  },
  {
   "cell_type": "markdown",
   "metadata": {},
   "source": [
    "## Decision Tree"
   ]
  },
  {
   "cell_type": "code",
   "execution_count": 86,
   "metadata": {
    "collapsed": false
   },
   "outputs": [
    {
     "name": "stdout",
     "output_type": "stream",
     "text": [
      "DecisionTreeClassifier(class_weight=None, criterion='gini', max_depth=None,\n",
      "            max_features=None, max_leaf_nodes=None,\n",
      "            min_impurity_split=1e-07, min_samples_leaf=1,\n",
      "            min_samples_split=2, min_weight_fraction_leaf=0.0,\n",
      "            presort=False, random_state=42, splitter='best')\n",
      "0.789473684211\n",
      "accuracy: 0.789473684211\n",
      "                    precision    recall  f1-score   support\n",
      "\n",
      "        Accountant       0.77      0.76      0.76        87\n",
      "  Chief Accountant       0.60      0.73      0.66        49\n",
      "    Java Developer       0.94      0.58      0.71        26\n",
      "            Lawyer       1.00      0.96      0.98        45\n",
      "    Office Manager       0.94      0.80      0.86        20\n",
      "   Project Manager       1.00      0.77      0.87        35\n",
      "Software Developer       0.81      0.76      0.79        34\n",
      "     Web Developer       0.62      0.96      0.75        27\n",
      "\n",
      "       avg / total       0.82      0.79      0.79       323\n",
      "\n"
     ]
    }
   ],
   "source": [
    "from sklearn import metrics\n",
    "from sklearn.tree import DecisionTreeClassifier\n",
    "\n",
    "clf1_nm = \"Decision Tree (initial)\"\n",
    "\n",
    "model = DecisionTreeClassifier(random_state = 42)\n",
    "print(model)\n",
    "model.fit(X_train, y_train)\n",
    "\n",
    "# make predictions\n",
    "clf1_expected = y_test\n",
    "clf1_predicted = model.predict(X_test)\n",
    "\n",
    "print(model.score(X_test, y_test))\n",
    "\n",
    "# summarize the fit of the model\n",
    "print(\"accuracy: \" + str(metrics.accuracy_score(clf1_expected, clf1_predicted)))\n",
    "print(metrics.classification_report(clf1_expected, clf1_predicted))"
   ]
  },
  {
   "cell_type": "markdown",
   "metadata": {},
   "source": [
    "## Logistic Regression"
   ]
  },
  {
   "cell_type": "code",
   "execution_count": 87,
   "metadata": {
    "collapsed": false
   },
   "outputs": [
    {
     "name": "stdout",
     "output_type": "stream",
     "text": [
      "LogisticRegression(C=1.0, class_weight=None, dual=False, fit_intercept=True,\n",
      "          intercept_scaling=1, max_iter=100, multi_class='ovr', n_jobs=1,\n",
      "          penalty='l2', random_state=42, solver='liblinear', tol=0.0001,\n",
      "          verbose=0, warm_start=False)\n",
      "0.839009287926\n",
      "accuracy: 0.839009287926\n",
      "                    precision    recall  f1-score   support\n",
      "\n",
      "        Accountant       0.81      0.87      0.84        87\n",
      "  Chief Accountant       0.76      0.71      0.74        49\n",
      "    Java Developer       0.89      0.62      0.73        26\n",
      "            Lawyer       1.00      1.00      1.00        45\n",
      "    Office Manager       1.00      0.90      0.95        20\n",
      "   Project Manager       1.00      0.89      0.94        35\n",
      "Software Developer       0.75      0.79      0.77        34\n",
      "     Web Developer       0.66      0.85      0.74        27\n",
      "\n",
      "       avg / total       0.85      0.84      0.84       323\n",
      "\n"
     ]
    }
   ],
   "source": [
    "# Logistic Regression\n",
    "from sklearn.linear_model import LogisticRegression\n",
    "\n",
    "clf2_nm = \"Logistic Regression initial\"\n",
    "\n",
    "# fit a logistic regression model to the data\n",
    "model = LogisticRegression(random_state = 42)\n",
    "print(model)\n",
    "model.fit(X_train, y_train)\n",
    "\n",
    "# make predictions\n",
    "clf2_expected = y_test\n",
    "clf2_predicted = model.predict(X_test)\n",
    "\n",
    "print(model.score(X_test, y_test))\n",
    "\n",
    "# summarize the fit of the model\n",
    "print(\"accuracy: \" + str(metrics.accuracy_score(clf2_expected, clf2_predicted)))\n",
    "print(metrics.classification_report(clf2_expected, clf2_predicted))"
   ]
  },
  {
   "cell_type": "markdown",
   "metadata": {},
   "source": [
    "## K Nearest Neighbors"
   ]
  },
  {
   "cell_type": "code",
   "execution_count": 88,
   "metadata": {
    "collapsed": false
   },
   "outputs": [
    {
     "name": "stdout",
     "output_type": "stream",
     "text": [
      "0.71826625387\n",
      "accuracy: 0.71826625387\n",
      "                    precision    recall  f1-score   support\n",
      "\n",
      "        Accountant       0.71      0.89      0.79        87\n",
      "  Chief Accountant       0.69      0.69      0.69        49\n",
      "    Java Developer       0.56      0.58      0.57        26\n",
      "            Lawyer       1.00      0.84      0.92        45\n",
      "    Office Manager       1.00      0.30      0.46        20\n",
      "   Project Manager       1.00      0.46      0.63        35\n",
      "Software Developer       0.73      0.71      0.72        34\n",
      "     Web Developer       0.49      0.81      0.61        27\n",
      "\n",
      "       avg / total       0.77      0.72      0.71       323\n",
      "\n"
     ]
    }
   ],
   "source": [
    "# KNN\n",
    "from sklearn.neighbors import KNeighborsClassifier\n",
    "\n",
    "knn1_nm = \"K Nearest Neighbors initial (k=3)\"\n",
    "\n",
    "# fit KNN\n",
    "model = KNeighborsClassifier(n_neighbors=3)\n",
    "model.fit(X_train, y_train) \n",
    "\n",
    "# make predictions\n",
    "knn1_expected = y_test\n",
    "knn1_predicted = model.predict(X_test)\n",
    "\n",
    "print(model.score(X_test, y_test))\n",
    "\n",
    "# summarize the fit of the model\n",
    "print(\"accuracy: \" + str(metrics.accuracy_score(knn1_expected, knn1_predicted)))\n",
    "print(metrics.classification_report(knn1_expected, knn1_predicted))"
   ]
  },
  {
   "cell_type": "markdown",
   "metadata": {},
   "source": [
    "## Initial Model Performance"
   ]
  },
  {
   "cell_type": "code",
   "execution_count": 89,
   "metadata": {
    "collapsed": false
   },
   "outputs": [
    {
     "data": {
      "text/html": [
       "<div>\n",
       "<table border=\"1\" class=\"dataframe\">\n",
       "  <thead>\n",
       "    <tr style=\"text-align: right;\">\n",
       "      <th></th>\n",
       "      <th>Model</th>\n",
       "      <th>Accuracy</th>\n",
       "    </tr>\n",
       "  </thead>\n",
       "  <tbody>\n",
       "    <tr>\n",
       "      <th>0</th>\n",
       "      <td>Decision Tree (initial)</td>\n",
       "      <td>0.789474</td>\n",
       "    </tr>\n",
       "    <tr>\n",
       "      <th>1</th>\n",
       "      <td>Logistic Regression initial</td>\n",
       "      <td>0.839009</td>\n",
       "    </tr>\n",
       "    <tr>\n",
       "      <th>2</th>\n",
       "      <td>K Nearest Neighbors initial (k=3)</td>\n",
       "      <td>0.718266</td>\n",
       "    </tr>\n",
       "  </tbody>\n",
       "</table>\n",
       "</div>"
      ],
      "text/plain": [
       "                               Model  Accuracy\n",
       "0            Decision Tree (initial)  0.789474\n",
       "1        Logistic Regression initial  0.839009\n",
       "2  K Nearest Neighbors initial (k=3)  0.718266"
      ]
     },
     "execution_count": 89,
     "metadata": {},
     "output_type": "execute_result"
    }
   ],
   "source": [
    "clf1_accuracy = metrics.accuracy_score(clf1_expected, clf1_predicted)\n",
    "clf2_accuracy = metrics.accuracy_score(clf2_expected, clf2_predicted)\n",
    "knn1_accuracy = metrics.accuracy_score(knn1_expected, knn1_predicted)\n",
    "\n",
    "model_name = [clf1_nm, clf2_nm, knn1_nm]\n",
    "model_accuracy = [clf1_accuracy, clf2_accuracy, knn1_accuracy]\n",
    "\n",
    "summarydf1 = pd.DataFrame(model_name, columns=['Model'])\n",
    "summarydf1['Accuracy']=(model_accuracy)\n",
    "summarydf1"
   ]
  },
  {
   "cell_type": "markdown",
   "metadata": {},
   "source": [
    "## Task 2 - Improve Model Performance"
   ]
  },
  {
   "cell_type": "markdown",
   "metadata": {},
   "source": [
    "### Accuracy could be better.  Developer jobs seem to be a problem.  First let's try to optimize KNN."
   ]
  },
  {
   "cell_type": "code",
   "execution_count": 90,
   "metadata": {
    "collapsed": false
   },
   "outputs": [],
   "source": [
    "# KNN Cross Validation\n",
    "\n",
    "from sklearn.model_selection import cross_val_score\n",
    "# creating odd list of K for KNN\n",
    "myList = list(range(1,35))\n",
    "\n",
    "# subsetting just the odd ones\n",
    "neighbors = list(filter(lambda x: x % 2 != 0, myList))\n",
    "\n",
    "# empty list that will hold cv scores\n",
    "cv_scores = []\n",
    "\n",
    "#takes some time, get a soda...\n",
    "# perform 10-fold cross validation\n",
    "for k in neighbors:\n",
    "    knn = KNeighborsClassifier(n_neighbors=k)\n",
    "    scores = cross_val_score(knn, X_train, y_train, cv=10, scoring='accuracy')\n",
    "    cv_scores.append(scores.mean())"
   ]
  },
  {
   "cell_type": "code",
   "execution_count": 91,
   "metadata": {
    "collapsed": false
   },
   "outputs": [
    {
     "name": "stdout",
     "output_type": "stream",
     "text": [
      "The optimal number of neighbors is 1\n"
     ]
    },
    {
     "data": {
      "image/png": "[encoded data removed]",
      "text/plain": [
       "<matplotlib.figure.Figure at 0x16a79d6d4a8>"
      ]
     },
     "metadata": {},
     "output_type": "display_data"
    }
   ],
   "source": [
    "import matplotlib as mpl\n",
    "import matplotlib.pyplot as plt\n",
    "\n",
    "# changing to misclassification error\n",
    "MSE = [1 - x for x in cv_scores]\n",
    "\n",
    "# determining best k\n",
    "optimal_k = neighbors[MSE.index(min(MSE))]\n",
    "print(\"The optimal number of neighbors is %d\" % optimal_k)\n",
    "\n",
    "# plot misclassification error vs k\n",
    "plt.plot(neighbors, MSE)\n",
    "plt.xlabel('Number of Neighbors K')\n",
    "plt.ylabel('Misclassification Error')\n",
    "plt.show()"
   ]
  },
  {
   "cell_type": "code",
   "execution_count": 92,
   "metadata": {
    "collapsed": false
   },
   "outputs": [
    {
     "name": "stdout",
     "output_type": "stream",
     "text": [
      "0.733746130031\n",
      "accuracy: 0.733746130031\n",
      "                    precision    recall  f1-score   support\n",
      "\n",
      "        Accountant       0.72      0.82      0.76        87\n",
      "  Chief Accountant       0.67      0.71      0.69        49\n",
      "    Java Developer       0.64      0.62      0.63        26\n",
      "            Lawyer       1.00      0.87      0.93        45\n",
      "    Office Manager       1.00      0.35      0.52        20\n",
      "   Project Manager       0.95      0.54      0.69        35\n",
      "Software Developer       0.62      0.85      0.72        34\n",
      "     Web Developer       0.62      0.78      0.69        27\n",
      "\n",
      "       avg / total       0.77      0.73      0.73       323\n",
      "\n"
     ]
    }
   ],
   "source": [
    "# New Models\n",
    "\n",
    "knn2_nm = \"K Nearest Neighbors (k=1 optimal)\"\n",
    "\n",
    "# fit KNN\n",
    "model = KNeighborsClassifier(n_neighbors=1)\n",
    "model.fit(X_train, y_train) \n",
    "\n",
    "# make predictions\n",
    "knn2_expected = y_test\n",
    "knn2_predicted = model.predict(X_test)\n",
    "\n",
    "print(model.score(X_test, y_test))\n",
    "\n",
    "# summarize the fit of the model\n",
    "print(\"accuracy: \" + str(metrics.accuracy_score(knn2_expected, knn2_predicted)))\n",
    "print(metrics.classification_report(knn2_expected, knn2_predicted))\n",
    "\n",
    "knn2_accuracy = metrics.accuracy_score(knn2_expected, knn2_predicted)"
   ]
  },
  {
   "cell_type": "markdown",
   "metadata": {},
   "source": [
    "### KNN is better, but not good enough.   Let's try changing our vectorizer settings."
   ]
  },
  {
   "cell_type": "code",
   "execution_count": 93,
   "metadata": {
    "collapsed": false
   },
   "outputs": [
    {
     "name": "stdout",
     "output_type": "stream",
     "text": [
      "(1074, 3560)\n"
     ]
    }
   ],
   "source": [
    "# What happens if we use binary instead of counts?\n",
    "\n",
    "# instantiate vectorizer(s)\n",
    "cv2 = CountVectorizer(stop_words=my_stopwords,\n",
    "                     max_df=.9, binary = True)\n",
    "\n",
    "tfidf2 = TfidfVectorizer(stop_words=my_stopwords,\n",
    "                     max_df=.9, binary = True)\n",
    "\n",
    "\n",
    "# fit text\n",
    "cv_dm2 = cv2.fit_transform(jobdf['JobRequirment'])\n",
    "tfidf_dm2 = tfidf2.fit_transform(jobdf['JobRequirment'])\n",
    "\n",
    "print(cv_dm2.shape)"
   ]
  },
  {
   "cell_type": "code",
   "execution_count": 94,
   "metadata": {
    "collapsed": false
   },
   "outputs": [
    {
     "name": "stdout",
     "output_type": "stream",
     "text": [
      "<class 'numpy.ndarray'>\n",
      "<class 'numpy.ndarray'>\n",
      "(751, 3560)\n",
      "(323, 3560)\n",
      "(751,)\n",
      "(323,)\n"
     ]
    }
   ],
   "source": [
    "# Test / Train Split\n",
    "\n",
    "X2 = cv_dm2.toarray() \n",
    "print(type(X))\n",
    "\n",
    "y2 = jobdf['Title'].values #this is an array of labels\n",
    "print(type(y))\n",
    "\n",
    "X_train2, X_test2, y_train2, y_test2 = train_test_split(X2, y2, test_size=0.3, random_state=42) #random_state is set seed\n",
    "\n",
    "# function creates 4 output structures - order matters\n",
    "print(X_train2.shape)\n",
    "print(X_test2.shape)\n",
    "print(y_train2.shape)\n",
    "print(y_test2.shape)"
   ]
  },
  {
   "cell_type": "code",
   "execution_count": 95,
   "metadata": {
    "collapsed": false
   },
   "outputs": [
    {
     "name": "stdout",
     "output_type": "stream",
     "text": [
      "LogisticRegression(C=1.0, class_weight=None, dual=False, fit_intercept=True,\n",
      "          intercept_scaling=1, max_iter=100, multi_class='ovr', n_jobs=1,\n",
      "          penalty='l2', random_state=42, solver='liblinear', tol=0.0001,\n",
      "          verbose=0, warm_start=False)\n",
      "0.851393188854\n",
      "accuracy: 0.851393188854\n",
      "                    precision    recall  f1-score   support\n",
      "\n",
      "        Accountant       0.88      0.85      0.87        87\n",
      "  Chief Accountant       0.74      0.82      0.78        49\n",
      "    Java Developer       0.80      0.62      0.70        26\n",
      "            Lawyer       1.00      1.00      1.00        45\n",
      "    Office Manager       1.00      0.95      0.97        20\n",
      "   Project Manager       1.00      0.89      0.94        35\n",
      "Software Developer       0.75      0.79      0.77        34\n",
      "     Web Developer       0.68      0.85      0.75        27\n",
      "\n",
      "       avg / total       0.86      0.85      0.85       323\n",
      "\n"
     ]
    }
   ],
   "source": [
    "clf3_nm = \"Logistic Regression binary CV\"\n",
    "\n",
    "# fit a logistic regression model to the data\n",
    "model = LogisticRegression(random_state = 42)\n",
    "print(model)\n",
    "model.fit(X_train2, y_train2)\n",
    "\n",
    "# make predictions\n",
    "clf3_expected = y_test2\n",
    "clf3_predicted = model.predict(X_test2)\n",
    "\n",
    "print(model.score(X_test2, y_test2))\n",
    "\n",
    "# summarize the fit of the model\n",
    "print(\"accuracy: \" + str(metrics.accuracy_score(clf3_expected, clf3_predicted)))\n",
    "print(metrics.classification_report(clf3_expected, clf3_predicted))\n",
    "\n",
    "clf3_accuracy = metrics.accuracy_score(clf3_expected, clf3_predicted)"
   ]
  },
  {
   "cell_type": "code",
   "execution_count": 96,
   "metadata": {
    "collapsed": false
   },
   "outputs": [
    {
     "name": "stdout",
     "output_type": "stream",
     "text": [
      "DecisionTreeClassifier(class_weight=None, criterion='gini', max_depth=None,\n",
      "            max_features=None, max_leaf_nodes=None,\n",
      "            min_impurity_split=1e-07, min_samples_leaf=1,\n",
      "            min_samples_split=2, min_weight_fraction_leaf=0.0,\n",
      "            presort=False, random_state=42, splitter='best')\n",
      "0.743034055728\n",
      "accuracy: 0.743034055728\n",
      "                    precision    recall  f1-score   support\n",
      "\n",
      "        Accountant       0.74      0.72      0.73        87\n",
      "  Chief Accountant       0.60      0.73      0.66        49\n",
      "    Java Developer       0.72      0.50      0.59        26\n",
      "            Lawyer       0.95      0.93      0.94        45\n",
      "    Office Manager       0.81      0.65      0.72        20\n",
      "   Project Manager       0.89      0.71      0.79        35\n",
      "Software Developer       0.83      0.74      0.78        34\n",
      "     Web Developer       0.55      0.85      0.67        27\n",
      "\n",
      "       avg / total       0.76      0.74      0.75       323\n",
      "\n"
     ]
    }
   ],
   "source": [
    "clf4_nm = \"Decision Tree binary CV\"\n",
    "\n",
    "model = DecisionTreeClassifier(random_state = 42)\n",
    "print(model)\n",
    "model.fit(X_train2, y_train2)\n",
    "\n",
    "# make predictions\n",
    "clf4_expected = y_test2\n",
    "clf4_predicted = model.predict(X_test2)\n",
    "\n",
    "print(model.score(X_test2, y_test2))\n",
    "\n",
    "# summarize the fit of the model\n",
    "print(\"accuracy: \" + str(metrics.accuracy_score(clf4_expected, clf4_predicted)))\n",
    "print(metrics.classification_report(clf4_expected, clf4_predicted))\n",
    "\n",
    "clf4_accuracy = metrics.accuracy_score(clf4_expected, clf4_predicted)"
   ]
  },
  {
   "cell_type": "markdown",
   "metadata": {},
   "source": [
    "### Check results from using binary vector settings"
   ]
  },
  {
   "cell_type": "code",
   "execution_count": 97,
   "metadata": {
    "collapsed": false
   },
   "outputs": [
    {
     "data": {
      "text/html": [
       "<div>\n",
       "<table border=\"1\" class=\"dataframe\">\n",
       "  <thead>\n",
       "    <tr style=\"text-align: right;\">\n",
       "      <th></th>\n",
       "      <th>Model</th>\n",
       "      <th>Accuracy</th>\n",
       "    </tr>\n",
       "  </thead>\n",
       "  <tbody>\n",
       "    <tr>\n",
       "      <th>0</th>\n",
       "      <td>Decision Tree (initial)</td>\n",
       "      <td>0.789474</td>\n",
       "    </tr>\n",
       "    <tr>\n",
       "      <th>1</th>\n",
       "      <td>Logistic Regression initial</td>\n",
       "      <td>0.839009</td>\n",
       "    </tr>\n",
       "    <tr>\n",
       "      <th>2</th>\n",
       "      <td>K Nearest Neighbors initial (k=3)</td>\n",
       "      <td>0.718266</td>\n",
       "    </tr>\n",
       "    <tr>\n",
       "      <th>3</th>\n",
       "      <td>K Nearest Neighbors (k=1 optimal)</td>\n",
       "      <td>0.733746</td>\n",
       "    </tr>\n",
       "    <tr>\n",
       "      <th>4</th>\n",
       "      <td>Logistic Regression binary CV</td>\n",
       "      <td>0.851393</td>\n",
       "    </tr>\n",
       "    <tr>\n",
       "      <th>5</th>\n",
       "      <td>Decision Tree binary CV</td>\n",
       "      <td>0.743034</td>\n",
       "    </tr>\n",
       "  </tbody>\n",
       "</table>\n",
       "</div>"
      ],
      "text/plain": [
       "                               Model  Accuracy\n",
       "0            Decision Tree (initial)  0.789474\n",
       "1        Logistic Regression initial  0.839009\n",
       "2  K Nearest Neighbors initial (k=3)  0.718266\n",
       "3  K Nearest Neighbors (k=1 optimal)  0.733746\n",
       "4      Logistic Regression binary CV  0.851393\n",
       "5            Decision Tree binary CV  0.743034"
      ]
     },
     "execution_count": 97,
     "metadata": {},
     "output_type": "execute_result"
    }
   ],
   "source": [
    "model_name = [clf1_nm, clf2_nm, knn1_nm, knn2_nm, clf3_nm, clf4_nm]\n",
    "model_accuracy = [clf1_accuracy, clf2_accuracy, knn1_accuracy, knn2_accuracy, clf3_accuracy, clf4_accuracy]\n",
    "\n",
    "summarydf = pd.DataFrame(model_name, columns=['Model'])\n",
    "summarydf['Accuracy']=(model_accuracy)\n",
    "summarydf"
   ]
  },
  {
   "cell_type": "markdown",
   "metadata": {},
   "source": [
    "### How about a bigger training set since the data set is small?"
   ]
  },
  {
   "cell_type": "code",
   "execution_count": 98,
   "metadata": {
    "collapsed": false
   },
   "outputs": [
    {
     "name": "stdout",
     "output_type": "stream",
     "text": [
      "<class 'numpy.ndarray'>\n",
      "<class 'numpy.ndarray'>\n",
      "(859, 3560)\n",
      "(215, 3560)\n",
      "(859,)\n",
      "(215,)\n"
     ]
    }
   ],
   "source": [
    "# Test / Train Split\n",
    "\n",
    "X3 = cv_dm2.toarray() \n",
    "print(type(X))\n",
    "\n",
    "y3 = jobdf['Title'].values #this is an array of labels\n",
    "print(type(y))\n",
    "\n",
    "X_train3, X_test3, y_train3, y_test3 = train_test_split(X3, y3, test_size=0.2, random_state=42) #random_state is set seed\n",
    "\n",
    "# function creates 4 output structures - order matters\n",
    "print(X_train3.shape)\n",
    "print(X_test3.shape)\n",
    "print(y_train3.shape)\n",
    "print(y_test3.shape)"
   ]
  },
  {
   "cell_type": "code",
   "execution_count": 99,
   "metadata": {
    "collapsed": false
   },
   "outputs": [
    {
     "name": "stdout",
     "output_type": "stream",
     "text": [
      "LogisticRegression(C=1.0, class_weight=None, dual=False, fit_intercept=True,\n",
      "          intercept_scaling=1, max_iter=100, multi_class='ovr', n_jobs=1,\n",
      "          penalty='l2', random_state=42, solver='liblinear', tol=0.0001,\n",
      "          verbose=0, warm_start=False)\n",
      "0.86976744186\n",
      "accuracy: 0.86976744186\n",
      "                    precision    recall  f1-score   support\n",
      "\n",
      "        Accountant       0.87      0.91      0.89        57\n",
      "  Chief Accountant       0.82      0.79      0.81        34\n",
      "    Java Developer       0.83      0.59      0.69        17\n",
      "            Lawyer       1.00      1.00      1.00        28\n",
      "    Office Manager       1.00      0.93      0.97        15\n",
      "   Project Manager       1.00      0.90      0.95        21\n",
      "Software Developer       0.74      0.92      0.82        25\n",
      "     Web Developer       0.78      0.78      0.78        18\n",
      "\n",
      "       avg / total       0.87      0.87      0.87       215\n",
      "\n"
     ]
    }
   ],
   "source": [
    "clf5_nm = \"Logistic Regression 80/20, binary = True\"\n",
    "\n",
    "# fit a logistic regression model to the data\n",
    "model = LogisticRegression(random_state = 42)\n",
    "print(model)\n",
    "model.fit(X_train3, y_train3)\n",
    "\n",
    "# make predictions\n",
    "clf5_expected = y_test3\n",
    "clf5_predicted = model.predict(X_test3)\n",
    "\n",
    "print(model.score(X_test3, y_test3))\n",
    "\n",
    "# summarize the fit of the model\n",
    "print(\"accuracy: \" + str(metrics.accuracy_score(clf5_expected, clf5_predicted)))\n",
    "print(metrics.classification_report(clf5_expected, clf5_predicted))\n",
    "\n",
    "clf5_accuracy = metrics.accuracy_score(clf5_expected, clf5_predicted)"
   ]
  },
  {
   "cell_type": "markdown",
   "metadata": {},
   "source": [
    "### What about stemming?"
   ]
  },
  {
   "cell_type": "code",
   "execution_count": 100,
   "metadata": {
    "collapsed": false
   },
   "outputs": [],
   "source": [
    "# What happens if we use stemming?\n",
    "\n",
    "from nltk.stem.porter import PorterStemmer\n",
    "ps = PorterStemmer()\n",
    "\n",
    "jobdf['pstem'] = jobdf[\"JobRequirment\"].apply(lambda x: [ps.stem(y) for y in x.split()])\n",
    "jobdf['pstem']= [\" \".join(token) for token in jobdf['pstem']]\n",
    "#jobdf.head()"
   ]
  },
  {
   "cell_type": "code",
   "execution_count": 129,
   "metadata": {
    "collapsed": false
   },
   "outputs": [
    {
     "name": "stdout",
     "output_type": "stream",
     "text": [
      "(1074, 3220)\n"
     ]
    }
   ],
   "source": [
    "# instantiate vectorizer(s)\n",
    "\n",
    "# fit text\n",
    "cv_dm = cv2.fit_transform(jobdf['pstem'])\n",
    "tfidf_dm = tfidf2.fit_transform(jobdf['pstem'])\n",
    "\n",
    "print(cv_dm.shape)\n",
    "\n",
    "names = cv2.get_feature_names()\n",
    "\n",
    "count = np.sum(cv_dm.toarray(), axis = 0).tolist()\n",
    "\n",
    "count_df = pd.DataFrame(count, index = names, columns = ['count'])\n",
    "\n",
    "#count_df.sort_values(['count'], ascending = False).head(20)\n",
    "\n",
    "\n",
    "# print(names)"
   ]
  },
  {
   "cell_type": "code",
   "execution_count": 103,
   "metadata": {
    "collapsed": false
   },
   "outputs": [
    {
     "name": "stdout",
     "output_type": "stream",
     "text": [
      "<class 'numpy.ndarray'>\n",
      "<class 'numpy.ndarray'>\n",
      "(859, 3220)\n",
      "(215, 3220)\n",
      "(859,)\n",
      "(215,)\n"
     ]
    }
   ],
   "source": [
    "# Test / Train Split\n",
    "\n",
    "X = cv_dm.toarray() \n",
    "print(type(X))\n",
    "\n",
    "y = jobdf['Title'].values #this is an array of labels\n",
    "print(type(y))\n",
    "\n",
    "X_train, X_test, y_train, y_test = train_test_split(X, y, test_size=0.2, random_state=42) #random_state is set seed\n",
    "\n",
    "# function creates 4 output structures - order matters\n",
    "print(X_train.shape)\n",
    "print(X_test.shape)\n",
    "print(y_train.shape)\n",
    "print(y_test.shape)"
   ]
  },
  {
   "cell_type": "code",
   "execution_count": 104,
   "metadata": {
    "collapsed": false
   },
   "outputs": [
    {
     "name": "stdout",
     "output_type": "stream",
     "text": [
      "LogisticRegression(C=1.0, class_weight=None, dual=False, fit_intercept=True,\n",
      "          intercept_scaling=1, max_iter=100, multi_class='ovr', n_jobs=1,\n",
      "          penalty='l2', random_state=42, solver='liblinear', tol=0.0001,\n",
      "          verbose=0, warm_start=False)\n",
      "0.832558139535\n",
      "accuracy: 0.832558139535\n",
      "                    precision    recall  f1-score   support\n",
      "\n",
      "        Accountant       0.81      0.84      0.83        57\n",
      "  Chief Accountant       0.74      0.76      0.75        34\n",
      "    Java Developer       0.82      0.53      0.64        17\n",
      "            Lawyer       1.00      0.96      0.98        28\n",
      "    Office Manager       1.00      0.87      0.93        15\n",
      "   Project Manager       0.95      0.95      0.95        21\n",
      "Software Developer       0.73      0.88      0.80        25\n",
      "     Web Developer       0.74      0.78      0.76        18\n",
      "\n",
      "       avg / total       0.84      0.83      0.83       215\n",
      "\n"
     ]
    }
   ],
   "source": [
    "clf6_nm = \"Logistic Regression 80/20, binary, Stem\"\n",
    "\n",
    "# fit a logistic regression model to the data\n",
    "model = LogisticRegression(random_state = 42)\n",
    "print(model)\n",
    "model.fit(X_train, y_train)\n",
    "\n",
    "# make predictions\n",
    "clf6_expected = y_test\n",
    "clf6_predicted = model.predict(X_test)\n",
    "\n",
    "print(model.score(X_test, y_test))\n",
    "\n",
    "# summarize the fit of the model\n",
    "print(\"accuracy: \" + str(metrics.accuracy_score(clf6_expected, clf6_predicted)))\n",
    "print(metrics.classification_report(clf6_expected, clf6_predicted))\n",
    "\n",
    "clf6_accuracy = metrics.accuracy_score(clf6_expected, clf6_predicted)"
   ]
  },
  {
   "cell_type": "markdown",
   "metadata": {},
   "source": [
    "### Lost accuracy.  I think this is because stopwords were not removed prior to stemming.  Try again."
   ]
  },
  {
   "cell_type": "code",
   "execution_count": 105,
   "metadata": {
    "collapsed": false
   },
   "outputs": [],
   "source": [
    "# What happens if we remove stopwords before using stemming?\n",
    "from nltk.corpus import words\n",
    "\n",
    "#lowercase\n",
    "jobdf = jobdf.apply(lambda x: x.astype(str).str.lower())\n",
    "\n",
    "jobdf['cleantext']=jobdf['JobRequirment']\n",
    "jobdf['cleantext']=jobdf.cleantext.apply(lambda x: ' '.join([word for word in x.split() if word not in my_stopwords]))\n",
    "\n",
    "from nltk.stem.porter import PorterStemmer\n",
    "ps = PorterStemmer()\n",
    "\n",
    "jobdf['pstemclean'] = jobdf[\"cleantext\"].apply(lambda x: [ps.stem(n) for n in x.split()])\n",
    "jobdf['pstemclean']= [\" \".join(token) for token in jobdf['pstemclean']]\n",
    "#jobdf.head()"
   ]
  },
  {
   "cell_type": "code",
   "execution_count": 106,
   "metadata": {
    "collapsed": false
   },
   "outputs": [],
   "source": [
    "#jobdf['pstemclean'].head()"
   ]
  },
  {
   "cell_type": "code",
   "execution_count": 130,
   "metadata": {
    "collapsed": false
   },
   "outputs": [
    {
     "name": "stdout",
     "output_type": "stream",
     "text": [
      "(1074, 3210)\n"
     ]
    }
   ],
   "source": [
    "# instantiate vectorizer(s)\n",
    "\n",
    "# fit text\n",
    "cv_dm = cv2.fit_transform(jobdf['pstemclean'])\n",
    "tfidf_dm = tfidf2.fit_transform(jobdf['pstemclean'])\n",
    "\n",
    "print(cv_dm.shape)\n",
    "\n",
    "names = cv2.get_feature_names()\n",
    "\n",
    "count = np.sum(cv_dm.toarray(), axis = 0).tolist()\n",
    "\n",
    "count_df = pd.DataFrame(count, index = names, columns = ['count'])\n",
    "\n",
    "#count_df.sort_values(['count'], ascending = False).head(20)\n",
    "\n",
    "\n",
    "# print(names)"
   ]
  },
  {
   "cell_type": "code",
   "execution_count": 110,
   "metadata": {
    "collapsed": false
   },
   "outputs": [
    {
     "name": "stdout",
     "output_type": "stream",
     "text": [
      "<class 'numpy.ndarray'>\n",
      "<class 'numpy.ndarray'>\n",
      "(859, 3210)\n",
      "(215, 3210)\n",
      "(859,)\n",
      "(215,)\n"
     ]
    }
   ],
   "source": [
    "# Test / Train Split\n",
    "\n",
    "X = cv_dm.toarray() \n",
    "print(type(X))\n",
    "\n",
    "y = jobdf['Title'].values #this is an array of labels\n",
    "print(type(y))\n",
    "\n",
    "X_train, X_test, y_train, y_test = train_test_split(X, y, test_size=0.2, random_state=42) #random_state is set seed\n",
    "\n",
    "# function creates 4 output structures - order matters\n",
    "print(X_train.shape)\n",
    "print(X_test.shape)\n",
    "print(y_train.shape)\n",
    "print(y_test.shape)"
   ]
  },
  {
   "cell_type": "code",
   "execution_count": 111,
   "metadata": {
    "collapsed": false
   },
   "outputs": [
    {
     "name": "stdout",
     "output_type": "stream",
     "text": [
      "LogisticRegression(C=1.0, class_weight=None, dual=False, fit_intercept=True,\n",
      "          intercept_scaling=1, max_iter=100, multi_class='ovr', n_jobs=1,\n",
      "          penalty='l2', random_state=42, solver='liblinear', tol=0.0001,\n",
      "          verbose=0, warm_start=False)\n",
      "0.818604651163\n",
      "accuracy: 0.818604651163\n",
      "                    precision    recall  f1-score   support\n",
      "\n",
      "        accountant       0.81      0.81      0.81        57\n",
      "  chief accountant       0.70      0.76      0.73        34\n",
      "    java developer       0.80      0.47      0.59        17\n",
      "            lawyer       1.00      0.96      0.98        28\n",
      "    office manager       1.00      0.87      0.93        15\n",
      "   project manager       0.95      0.95      0.95        21\n",
      "software developer       0.71      0.88      0.79        25\n",
      "     web developer       0.74      0.78      0.76        18\n",
      "\n",
      "       avg / total       0.83      0.82      0.82       215\n",
      "\n"
     ]
    }
   ],
   "source": [
    "clf7_nm = \"Logistic Regression 80/20, Stem, stopwords\"\n",
    "\n",
    "# fit a logistic regression model to the data\n",
    "model = LogisticRegression(random_state = 42)\n",
    "print(model)\n",
    "model.fit(X_train, y_train)\n",
    "\n",
    "# make predictions\n",
    "clf7_expected = y_test\n",
    "clf7_predicted = model.predict(X_test)\n",
    "\n",
    "print(model.score(X_test, y_test))\n",
    "\n",
    "# summarize the fit of the model\n",
    "print(\"accuracy: \" + str(metrics.accuracy_score(clf7_expected, clf7_predicted)))\n",
    "print(metrics.classification_report(clf7_expected, clf7_predicted))\n",
    "\n",
    "clf7_accuracy = metrics.accuracy_score(clf7_expected, clf7_predicted)"
   ]
  },
  {
   "cell_type": "markdown",
   "metadata": {},
   "source": [
    "### Try different vectorizer"
   ]
  },
  {
   "cell_type": "code",
   "execution_count": 112,
   "metadata": {
    "collapsed": false
   },
   "outputs": [
    {
     "name": "stdout",
     "output_type": "stream",
     "text": [
      "(1074, 3560)\n"
     ]
    }
   ],
   "source": [
    "# instantiate vectorizer(s)\n",
    "cv = CountVectorizer(stop_words=my_stopwords,\n",
    "                     max_df=.9,\n",
    "                    binary = True)\n",
    "\n",
    "tfidf = TfidfVectorizer(stop_words=my_stopwords,\n",
    "                     max_df=.9,\n",
    "                       binary = True)\n",
    "\n",
    "\n",
    "# fit text\n",
    "cv_dm = cv.fit_transform(jobdf['JobRequirment'])\n",
    "tfidf_dm = tfidf.fit_transform(jobdf['JobRequirment'])\n",
    "\n",
    "print(cv_dm.shape)"
   ]
  },
  {
   "cell_type": "code",
   "execution_count": 113,
   "metadata": {
    "collapsed": false
   },
   "outputs": [
    {
     "name": "stdout",
     "output_type": "stream",
     "text": [
      "<class 'numpy.ndarray'>\n",
      "<class 'numpy.ndarray'>\n",
      "(859, 3560)\n",
      "(215, 3560)\n",
      "(859,)\n",
      "(215,)\n"
     ]
    }
   ],
   "source": [
    "# Test / Train Split\n",
    "\n",
    "X = tfidf_dm.toarray() \n",
    "print(type(X))\n",
    "\n",
    "y = jobdf['Title'].values #this is an array of labels\n",
    "print(type(y))\n",
    "\n",
    "X_train, X_test, y_train, y_test = train_test_split(X, y, test_size=0.2, random_state=42) #random_state is set seed\n",
    "\n",
    "# function creates 4 output structures - order matters\n",
    "print(X_train.shape)\n",
    "print(X_test.shape)\n",
    "print(y_train.shape)\n",
    "print(y_test.shape)"
   ]
  },
  {
   "cell_type": "code",
   "execution_count": 114,
   "metadata": {
    "collapsed": false
   },
   "outputs": [
    {
     "name": "stdout",
     "output_type": "stream",
     "text": [
      "LogisticRegression(C=1.0, class_weight=None, dual=False, fit_intercept=True,\n",
      "          intercept_scaling=1, max_iter=100, multi_class='ovr', n_jobs=1,\n",
      "          penalty='l2', random_state=42, solver='liblinear', tol=0.0001,\n",
      "          verbose=0, warm_start=False)\n",
      "0.818604651163\n",
      "accuracy: 0.818604651163\n",
      "                    precision    recall  f1-score   support\n",
      "\n",
      "        accountant       0.74      0.95      0.83        57\n",
      "  chief accountant       0.88      0.65      0.75        34\n",
      "    java developer       0.70      0.41      0.52        17\n",
      "            lawyer       1.00      1.00      1.00        28\n",
      "    office manager       1.00      0.67      0.80        15\n",
      "   project manager       0.95      0.95      0.95        21\n",
      "software developer       0.71      0.80      0.75        25\n",
      "     web developer       0.75      0.83      0.79        18\n",
      "\n",
      "       avg / total       0.83      0.82      0.81       215\n",
      "\n"
     ]
    }
   ],
   "source": [
    "clf8_nm = \"Logistic Regression 80/20, tfidf\"\n",
    "\n",
    "# fit a logistic regression model to the data\n",
    "model = LogisticRegression(random_state = 42)\n",
    "print(model)\n",
    "model.fit(X_train, y_train)\n",
    "\n",
    "# make predictions\n",
    "clf8_expected = y_test\n",
    "clf8_predicted = model.predict(X_test)\n",
    "\n",
    "print(model.score(X_test, y_test))\n",
    "\n",
    "# summarize the fit of the model\n",
    "print(\"accuracy: \" + str(metrics.accuracy_score(clf8_expected, clf8_predicted)))\n",
    "print(metrics.classification_report(clf8_expected, clf8_predicted))\n",
    "\n",
    "clf8_accuracy = metrics.accuracy_score(clf8_expected, clf8_predicted)"
   ]
  },
  {
   "cell_type": "markdown",
   "metadata": {},
   "source": [
    "### Perhaps some custom replacement will help with accuracy"
   ]
  },
  {
   "cell_type": "code",
   "execution_count": 115,
   "metadata": {
    "collapsed": false,
    "scrolled": false
   },
   "outputs": [],
   "source": [
    "#print(names)"
   ]
  },
  {
   "cell_type": "code",
   "execution_count": 116,
   "metadata": {
    "collapsed": true
   },
   "outputs": [],
   "source": [
    "#additional stop words that may improve the model\n",
    "add_stop = ['00', '09', '10', '14', '18', '20', '2000', '2006', '2007', '2008', '2009', '2010', '220', '228', '24', '3g', '3rd','aghekyan','armenia', 'armenian', 'armenias',\n",
    " 'ffective','armentel','arzni','boghossian', 'bono', 'asdg','candidate', 'candidates', 'canditate']\n",
    "\n",
    "my_stopwords = my_stopwords + add_stop"
   ]
  },
  {
   "cell_type": "code",
   "execution_count": 117,
   "metadata": {
    "collapsed": true
   },
   "outputs": [],
   "source": [
    "import re\n",
    "\n",
    "job_dict = {'coordinates':'coordinate','coordinating':'coordinate','entries':'entry','challenges':'challenge',\n",
    "            'challenging':'challenge','compilation':'compile', 'compiling':'compile', 'completed':'complete', 'completely':'complete',\n",
    "            'completeness':'complete', 'completing':'complete', 'completion':'complete','cooperation':'cooperate','generally':'general',\n",
    "           'bookeeping':'book', 'bookkeeper':'book', 'bookkeeping':'book', 'books':'book','complexity':'complex','compliance':'compliant',\n",
    "            'complies':'compliant','comply':'compliant','complying':'compliant','reconciles':'reconcile', 'reconciliation':'reconcile',\n",
    "            'reconciling':'reconcile','\\r\\n':' ','-':' ','\\r':' ','\\n':' '}\n",
    "\n",
    "\n",
    "def multiple_replace(dict, text): \n",
    "  \"\"\" Replace in 'text' all occurences of any key in the given\n",
    "  dictionary by its corresponding value.  Returns the new tring.\"\"\" \n",
    "  text = str(text).lower()\n",
    "\n",
    "  # Create a regular expression  from the dictionary keys\n",
    "  regex = re.compile(\"(%s)\" % \"|\".join(map(re.escape, dict.keys())))\n",
    "\n",
    "  # For each match, look-up corresponding value in dictionary\n",
    "  return regex.sub(lambda mo: dict[mo.string[mo.start():mo.end()]], text)"
   ]
  },
  {
   "cell_type": "code",
   "execution_count": 118,
   "metadata": {
    "collapsed": false
   },
   "outputs": [],
   "source": [
    "jobdf['cleantext'] = jobdf.JobRequirment.apply(lambda x: multiple_replace(job_dict, x))"
   ]
  },
  {
   "cell_type": "code",
   "execution_count": 119,
   "metadata": {
    "collapsed": false
   },
   "outputs": [],
   "source": [
    "# remove punctuation\n",
    "\n",
    "#import string\n",
    "\n",
    "#jobdf['cleantext'] = \"\".join(l for l in jobdf['cleantext'] if l not in string.punctuation)\n"
   ]
  },
  {
   "cell_type": "code",
   "execution_count": 120,
   "metadata": {
    "collapsed": false
   },
   "outputs": [],
   "source": [
    "#jobdf['cleantext'].head()"
   ]
  },
  {
   "cell_type": "code",
   "execution_count": 121,
   "metadata": {
    "collapsed": false
   },
   "outputs": [
    {
     "name": "stdout",
     "output_type": "stream",
     "text": [
      "(1074, 3529)\n"
     ]
    }
   ],
   "source": [
    "# instantiate vectorizer(s)\n",
    "cv = CountVectorizer(stop_words=my_stopwords,\n",
    "                     max_df=.9,\n",
    "                    binary = True)\n",
    "\n",
    "tfidf = TfidfVectorizer(stop_words=my_stopwords,\n",
    "                     max_df=.9,\n",
    "                       binary = True)\n",
    "\n",
    "# fit text\n",
    "cv_dm = cv.fit_transform(jobdf['cleantext'])\n",
    "tfidf_dm = cv.fit_transform(jobdf['cleantext'])\n",
    "\n",
    "job_dm = tfidf_dm.toarray()\n",
    "\n",
    "print(cv_dm.shape)\n",
    "\n",
    "#names = cv.get_feature_names()\n",
    "\n",
    "#count = np.sum(cv_dm.toarray(), axis = 0).tolist()\n",
    "\n",
    "#count_df = pd.DataFrame(count, index = names, columns = ['count'])\n",
    "\n",
    "#count_df.sort_values(['count'], ascending = False).head(20)\n"
   ]
  },
  {
   "cell_type": "code",
   "execution_count": 122,
   "metadata": {
    "collapsed": false
   },
   "outputs": [
    {
     "name": "stdout",
     "output_type": "stream",
     "text": [
      "<class 'numpy.ndarray'>\n",
      "<class 'numpy.ndarray'>\n",
      "(859, 3529)\n",
      "(215, 3529)\n",
      "(859,)\n",
      "(215,)\n"
     ]
    }
   ],
   "source": [
    "# Test / Train Split\n",
    "\n",
    "X = cv_dm.toarray() \n",
    "print(type(X))\n",
    "\n",
    "y = jobdf['Title'].values #this is an array of labels\n",
    "print(type(y))\n",
    "\n",
    "X_train, X_test, y_train, y_test = train_test_split(X, y, test_size=0.2, random_state=42) #random_state is set seed\n",
    "\n",
    "# function creates 4 output structures - order matters\n",
    "print(X_train.shape)\n",
    "print(X_test.shape)\n",
    "print(y_train.shape)\n",
    "print(y_test.shape)"
   ]
  },
  {
   "cell_type": "code",
   "execution_count": 123,
   "metadata": {
    "collapsed": false
   },
   "outputs": [
    {
     "name": "stdout",
     "output_type": "stream",
     "text": [
      "LogisticRegression(C=1.0, class_weight=None, dual=False, fit_intercept=True,\n",
      "          intercept_scaling=1, max_iter=100, multi_class='ovr', n_jobs=1,\n",
      "          penalty='l2', random_state=42, solver='liblinear', tol=0.0001,\n",
      "          verbose=0, warm_start=False)\n",
      "0.86511627907\n",
      "accuracy: 0.86511627907\n",
      "                    precision    recall  f1-score   support\n",
      "\n",
      "        accountant       0.87      0.91      0.89        57\n",
      "  chief accountant       0.82      0.79      0.81        34\n",
      "    java developer       0.90      0.53      0.67        17\n",
      "            lawyer       1.00      1.00      1.00        28\n",
      "    office manager       1.00      0.93      0.97        15\n",
      "   project manager       0.95      0.90      0.93        21\n",
      "software developer       0.74      0.92      0.82        25\n",
      "     web developer       0.74      0.78      0.76        18\n",
      "\n",
      "       avg / total       0.87      0.87      0.86       215\n",
      "\n"
     ]
    }
   ],
   "source": [
    "clf9_nm = \"Logistic Regression 80/20, dict, new stopwords, binary\"\n",
    "\n",
    "# fit a logistic regression model to the data\n",
    "model = LogisticRegression(random_state = 42)\n",
    "print(model)\n",
    "model.fit(X_train, y_train)\n",
    "\n",
    "# make predictions\n",
    "clf9_expected = y_test\n",
    "clf9_predicted = model.predict(X_test)\n",
    "\n",
    "print(model.score(X_test, y_test))\n",
    "\n",
    "# summarize the fit of the model\n",
    "print(\"accuracy: \" + str(metrics.accuracy_score(clf9_expected, clf9_predicted)))\n",
    "print(metrics.classification_report(clf9_expected, clf9_predicted))\n",
    "\n",
    "clf9_accuracy = metrics.accuracy_score(clf9_expected, clf9_predicted)"
   ]
  },
  {
   "cell_type": "markdown",
   "metadata": {},
   "source": [
    "## Which model was the best?"
   ]
  },
  {
   "cell_type": "code",
   "execution_count": 124,
   "metadata": {
    "collapsed": false
   },
   "outputs": [
    {
     "data": {
      "text/html": [
       "<div>\n",
       "<table border=\"1\" class=\"dataframe\">\n",
       "  <thead>\n",
       "    <tr style=\"text-align: right;\">\n",
       "      <th></th>\n",
       "      <th>Model</th>\n",
       "      <th>Accuracy</th>\n",
       "    </tr>\n",
       "  </thead>\n",
       "  <tbody>\n",
       "    <tr>\n",
       "      <th>0</th>\n",
       "      <td>Decision Tree (initial)</td>\n",
       "      <td>0.789474</td>\n",
       "    </tr>\n",
       "    <tr>\n",
       "      <th>1</th>\n",
       "      <td>Logistic Regression initial</td>\n",
       "      <td>0.839009</td>\n",
       "    </tr>\n",
       "    <tr>\n",
       "      <th>2</th>\n",
       "      <td>K Nearest Neighbors initial (k=3)</td>\n",
       "      <td>0.718266</td>\n",
       "    </tr>\n",
       "    <tr>\n",
       "      <th>3</th>\n",
       "      <td>K Nearest Neighbors (k=1 optimal)</td>\n",
       "      <td>0.733746</td>\n",
       "    </tr>\n",
       "    <tr>\n",
       "      <th>4</th>\n",
       "      <td>Logistic Regression binary CV</td>\n",
       "      <td>0.851393</td>\n",
       "    </tr>\n",
       "    <tr>\n",
       "      <th>5</th>\n",
       "      <td>Decision Tree binary CV</td>\n",
       "      <td>0.743034</td>\n",
       "    </tr>\n",
       "    <tr>\n",
       "      <th>6</th>\n",
       "      <td>Logistic Regression 80/20, binary = True</td>\n",
       "      <td>0.869767</td>\n",
       "    </tr>\n",
       "    <tr>\n",
       "      <th>7</th>\n",
       "      <td>Logistic Regression 80/20, binary, Stem</td>\n",
       "      <td>0.832558</td>\n",
       "    </tr>\n",
       "    <tr>\n",
       "      <th>8</th>\n",
       "      <td>Logistic Regression 80/20, Stem, stopwords</td>\n",
       "      <td>0.818605</td>\n",
       "    </tr>\n",
       "    <tr>\n",
       "      <th>9</th>\n",
       "      <td>Logistic Regression 80/20, tfidf</td>\n",
       "      <td>0.818605</td>\n",
       "    </tr>\n",
       "    <tr>\n",
       "      <th>10</th>\n",
       "      <td>Logistic Regression 80/20, dict, new stopwords, binary</td>\n",
       "      <td>0.865116</td>\n",
       "    </tr>\n",
       "  </tbody>\n",
       "</table>\n",
       "</div>"
      ],
      "text/plain": [
       "                                                     Model  Accuracy\n",
       "0                                  Decision Tree (initial)  0.789474\n",
       "1                              Logistic Regression initial  0.839009\n",
       "2                        K Nearest Neighbors initial (k=3)  0.718266\n",
       "3                        K Nearest Neighbors (k=1 optimal)  0.733746\n",
       "4                            Logistic Regression binary CV  0.851393\n",
       "5                                  Decision Tree binary CV  0.743034\n",
       "6                 Logistic Regression 80/20, binary = True  0.869767\n",
       "7                  Logistic Regression 80/20, binary, Stem  0.832558\n",
       "8               Logistic Regression 80/20, Stem, stopwords  0.818605\n",
       "9                         Logistic Regression 80/20, tfidf  0.818605\n",
       "10  Logistic Regression 80/20, dict, new stopwords, binary  0.865116"
      ]
     },
     "execution_count": 124,
     "metadata": {},
     "output_type": "execute_result"
    }
   ],
   "source": [
    "model_name = [clf1_nm, clf2_nm, knn1_nm, knn2_nm, clf3_nm, clf4_nm, clf5_nm, clf6_nm, clf7_nm, clf8_nm, clf9_nm]\n",
    "model_accuracy = [clf1_accuracy, clf2_accuracy, knn1_accuracy, knn2_accuracy, clf3_accuracy, clf4_accuracy, clf5_accuracy, clf6_accuracy, clf7_accuracy, clf8_accuracy, clf9_accuracy]\n",
    "\n",
    "summarydf = pd.DataFrame(model_name, columns=['Model'])\n",
    "summarydf['Accuracy']=(model_accuracy)\n",
    "summarydf"
   ]
  },
  {
   "cell_type": "markdown",
   "metadata": {},
   "source": [
    "## Task 3 - K Cluster"
   ]
  },
  {
   "cell_type": "code",
   "execution_count": 26,
   "metadata": {
    "collapsed": false
   },
   "outputs": [],
   "source": [
    "#how many clusters? this takes some time\n",
    "\n",
    "from sklearn.cluster import KMeans\n",
    "\n",
    "# finding an optimal value for k\n",
    "k_range = range(1,15)\n",
    "k_means_set = [KMeans(n_clusters=k,init='k-means++', max_iter=100, random_state = 42).fit(job_dm) for k in k_range]\n",
    "centroids_list = [km_result.cluster_centers_ for km_result in k_means_set]"
   ]
  },
  {
   "cell_type": "code",
   "execution_count": 33,
   "metadata": {
    "collapsed": false
   },
   "outputs": [
    {
     "name": "stdout",
     "output_type": "stream",
     "text": [
      "[40736.850093109322, 38842.336625729484, 38142.729841131419, 37800.623629931069, 36988.295668000515, 36802.010100074294, 36271.186586563374, 36211.865802503613, 35849.570937094904, 35455.699938821184, 35274.209293426153, 34960.591948314512, 34598.867028532695, 34605.614455878756]\n",
      "[  5.45696821e-10   1.89451347e+03   2.59412025e+03   2.93622646e+03\n",
      "   3.74855443e+03   3.93483999e+03   4.46566351e+03   4.52498429e+03\n",
      "   4.88727916e+03   5.28115015e+03   5.46264080e+03   5.77625814e+03\n",
      "   6.13798306e+03   6.13123564e+03]\n"
     ]
    }
   ],
   "source": [
    "# calc euclidean dist from each point to each cluster center\n",
    "from scipy.spatial.distance import cdist, pdist\n",
    "\n",
    "k_euclid = [cdist(job_dm, thing, 'euclidean') for thing in centroids_list]\n",
    "distance_set = [np.min(k_euc, axis=1) for k_euc in k_euclid]\n",
    "\n",
    "# total within-cluster sum of squares\n",
    "wcss = [np.sum(distance**2) for distance in distance_set]\n",
    "\n",
    "# total sum of squares\n",
    "tss  = np.sum(pdist(job_dm)**2) / job_dm.shape[0]\n",
    "\n",
    "# between cluster sum of squares\n",
    "bss = tss - wcss\n",
    "\n",
    "print(wcss)\n",
    "print(bss)"
   ]
  },
  {
   "cell_type": "code",
   "execution_count": 32,
   "metadata": {
    "collapsed": false
   },
   "outputs": [
    {
     "data": {
      "image/png": "[encoded data removed]",
      "text/plain": [
       "<matplotlib.figure.Figure at 0x16a6fafbcc0>"
      ]
     },
     "execution_count": 32,
     "metadata": {},
     "output_type": "execute_result"
    }
   ],
   "source": [
    "# plot elbow chart\n",
    "import matplotlib as mpl\n",
    "import matplotlib.pyplot as plt\n",
    "\n",
    "\n",
    "fig = plt.figure()\n",
    "ax = fig.add_subplot(111)\n",
    "ax.plot(k_range, bss/tss*100, '^-')\n",
    "ax.set_ylim((0,100))\n",
    "plt.grid(True)\n",
    "plt.xlabel('K n_clusters')\n",
    "plt.ylabel('% Variance Explained')\n",
    "plt.title('% Var Explained vs K')\n",
    "\n",
    "fig"
   ]
  },
  {
   "cell_type": "code",
   "execution_count": 71,
   "metadata": {
    "collapsed": false
   },
   "outputs": [
    {
     "name": "stdout",
     "output_type": "stream",
     "text": [
      "Initialization complete\n",
      "Iteration  0, inertia 1806.606\n",
      "Iteration  1, inertia 967.466\n",
      "Iteration  2, inertia 958.202\n",
      "Iteration  3, inertia 953.876\n",
      "Iteration  4, inertia 951.672\n",
      "Iteration  5, inertia 949.839\n",
      "Iteration  6, inertia 948.230\n",
      "Iteration  7, inertia 946.728\n",
      "Iteration  8, inertia 945.462\n",
      "Iteration  9, inertia 944.931\n",
      "Iteration 10, inertia 944.741\n",
      "Iteration 11, inertia 944.719\n",
      "Iteration 12, inertia 944.710\n",
      "Converged at iteration 12: center shift 0.000000e+00 within tolerance 2.670418e-08\n",
      "4    266\n",
      "2    196\n",
      "0    185\n",
      "5    139\n",
      "3    112\n",
      "7     91\n",
      "6     46\n",
      "1     39\n",
      "Name: clusters, dtype: int64\n"
     ]
    }
   ],
   "source": [
    "\n",
    "\n",
    "tfidf = TfidfVectorizer(stop_words=my_stopwords, max_df=.9, binary = True)\n",
    "tfidf_dm = tfidf.fit_transform(jobdf['JobRequirment'])\n",
    "\n",
    "My_k = 8\n",
    "km = KMeans(n_clusters=My_k, init='k-means++', max_iter=100, n_init=1, random_state = 42, verbose=True)\n",
    "km.fit(tfidf_dm)\n",
    "\n",
    "clusters = km.labels_.tolist()\n",
    "\n",
    "jobdf['clusters'] = clusters\n",
    "print(jobdf['clusters'].value_counts())"
   ]
  },
  {
   "cell_type": "code",
   "execution_count": 76,
   "metadata": {
    "collapsed": false
   },
   "outputs": [
    {
     "data": {
      "text/html": [
       "<div>\n",
       "<table border=\"1\" class=\"dataframe\">\n",
       "  <thead>\n",
       "    <tr style=\"text-align: right;\">\n",
       "      <th></th>\n",
       "      <th>clusters</th>\n",
       "      <th>Title</th>\n",
       "      <th>counts</th>\n",
       "    </tr>\n",
       "  </thead>\n",
       "  <tbody>\n",
       "    <tr>\n",
       "      <th>0</th>\n",
       "      <td>0</td>\n",
       "      <td>Accountant</td>\n",
       "      <td>1</td>\n",
       "    </tr>\n",
       "    <tr>\n",
       "      <th>3</th>\n",
       "      <td>0</td>\n",
       "      <td>Project Manager</td>\n",
       "      <td>2</td>\n",
       "    </tr>\n",
       "    <tr>\n",
       "      <th>2</th>\n",
       "      <td>0</td>\n",
       "      <td>Office Manager</td>\n",
       "      <td>41</td>\n",
       "    </tr>\n",
       "    <tr>\n",
       "      <th>1</th>\n",
       "      <td>0</td>\n",
       "      <td>Lawyer</td>\n",
       "      <td>141</td>\n",
       "    </tr>\n",
       "    <tr>\n",
       "      <th>4</th>\n",
       "      <td>1</td>\n",
       "      <td>Accountant</td>\n",
       "      <td>11</td>\n",
       "    </tr>\n",
       "    <tr>\n",
       "      <th>5</th>\n",
       "      <td>1</td>\n",
       "      <td>Chief Accountant</td>\n",
       "      <td>28</td>\n",
       "    </tr>\n",
       "    <tr>\n",
       "      <th>9</th>\n",
       "      <td>2</td>\n",
       "      <td>Project Manager</td>\n",
       "      <td>11</td>\n",
       "    </tr>\n",
       "    <tr>\n",
       "      <th>8</th>\n",
       "      <td>2</td>\n",
       "      <td>Office Manager</td>\n",
       "      <td>35</td>\n",
       "    </tr>\n",
       "    <tr>\n",
       "      <th>6</th>\n",
       "      <td>2</td>\n",
       "      <td>Accountant</td>\n",
       "      <td>74</td>\n",
       "    </tr>\n",
       "    <tr>\n",
       "      <th>7</th>\n",
       "      <td>2</td>\n",
       "      <td>Chief Accountant</td>\n",
       "      <td>76</td>\n",
       "    </tr>\n",
       "    <tr>\n",
       "      <th>12</th>\n",
       "      <td>3</td>\n",
       "      <td>Office Manager</td>\n",
       "      <td>1</td>\n",
       "    </tr>\n",
       "    <tr>\n",
       "      <th>11</th>\n",
       "      <td>3</td>\n",
       "      <td>Chief Accountant</td>\n",
       "      <td>31</td>\n",
       "    </tr>\n",
       "    <tr>\n",
       "      <th>10</th>\n",
       "      <td>3</td>\n",
       "      <td>Accountant</td>\n",
       "      <td>80</td>\n",
       "    </tr>\n",
       "    <tr>\n",
       "      <th>14</th>\n",
       "      <td>4</td>\n",
       "      <td>Chief Accountant</td>\n",
       "      <td>2</td>\n",
       "    </tr>\n",
       "    <tr>\n",
       "      <th>16</th>\n",
       "      <td>4</td>\n",
       "      <td>Lawyer</td>\n",
       "      <td>3</td>\n",
       "    </tr>\n",
       "    <tr>\n",
       "      <th>13</th>\n",
       "      <td>4</td>\n",
       "      <td>Accountant</td>\n",
       "      <td>4</td>\n",
       "    </tr>\n",
       "    <tr>\n",
       "      <th>17</th>\n",
       "      <td>4</td>\n",
       "      <td>Office Manager</td>\n",
       "      <td>4</td>\n",
       "    </tr>\n",
       "    <tr>\n",
       "      <th>15</th>\n",
       "      <td>4</td>\n",
       "      <td>Java Developer</td>\n",
       "      <td>42</td>\n",
       "    </tr>\n",
       "    <tr>\n",
       "      <th>19</th>\n",
       "      <td>4</td>\n",
       "      <td>Software Developer</td>\n",
       "      <td>55</td>\n",
       "    </tr>\n",
       "    <tr>\n",
       "      <th>20</th>\n",
       "      <td>4</td>\n",
       "      <td>Web Developer</td>\n",
       "      <td>60</td>\n",
       "    </tr>\n",
       "    <tr>\n",
       "      <th>18</th>\n",
       "      <td>4</td>\n",
       "      <td>Project Manager</td>\n",
       "      <td>96</td>\n",
       "    </tr>\n",
       "    <tr>\n",
       "      <th>22</th>\n",
       "      <td>5</td>\n",
       "      <td>Chief Accountant</td>\n",
       "      <td>48</td>\n",
       "    </tr>\n",
       "    <tr>\n",
       "      <th>21</th>\n",
       "      <td>5</td>\n",
       "      <td>Accountant</td>\n",
       "      <td>91</td>\n",
       "    </tr>\n",
       "    <tr>\n",
       "      <th>24</th>\n",
       "      <td>6</td>\n",
       "      <td>Chief Accountant</td>\n",
       "      <td>15</td>\n",
       "    </tr>\n",
       "    <tr>\n",
       "      <th>23</th>\n",
       "      <td>6</td>\n",
       "      <td>Accountant</td>\n",
       "      <td>31</td>\n",
       "    </tr>\n",
       "    <tr>\n",
       "      <th>27</th>\n",
       "      <td>7</td>\n",
       "      <td>Web Developer</td>\n",
       "      <td>24</td>\n",
       "    </tr>\n",
       "    <tr>\n",
       "      <th>25</th>\n",
       "      <td>7</td>\n",
       "      <td>Java Developer</td>\n",
       "      <td>31</td>\n",
       "    </tr>\n",
       "    <tr>\n",
       "      <th>26</th>\n",
       "      <td>7</td>\n",
       "      <td>Software Developer</td>\n",
       "      <td>36</td>\n",
       "    </tr>\n",
       "  </tbody>\n",
       "</table>\n",
       "</div>"
      ],
      "text/plain": [
       "    clusters               Title  counts\n",
       "0          0          Accountant       1\n",
       "3          0     Project Manager       2\n",
       "2          0      Office Manager      41\n",
       "1          0              Lawyer     141\n",
       "4          1          Accountant      11\n",
       "5          1    Chief Accountant      28\n",
       "9          2     Project Manager      11\n",
       "8          2      Office Manager      35\n",
       "6          2          Accountant      74\n",
       "7          2    Chief Accountant      76\n",
       "12         3      Office Manager       1\n",
       "11         3    Chief Accountant      31\n",
       "10         3          Accountant      80\n",
       "14         4    Chief Accountant       2\n",
       "16         4              Lawyer       3\n",
       "13         4          Accountant       4\n",
       "17         4      Office Manager       4\n",
       "15         4      Java Developer      42\n",
       "19         4  Software Developer      55\n",
       "20         4       Web Developer      60\n",
       "18         4     Project Manager      96\n",
       "22         5    Chief Accountant      48\n",
       "21         5          Accountant      91\n",
       "24         6    Chief Accountant      15\n",
       "23         6          Accountant      31\n",
       "27         7       Web Developer      24\n",
       "25         7      Java Developer      31\n",
       "26         7  Software Developer      36"
      ]
     },
     "execution_count": 76,
     "metadata": {},
     "output_type": "execute_result"
    }
   ],
   "source": [
    "clust_8 = jobdf.groupby(['clusters', 'Title']).size().reset_index(name='counts').sort_values(['clusters','counts'])\n",
    "\n",
    "clust_8"
   ]
  },
  {
   "cell_type": "code",
   "execution_count": null,
   "metadata": {
    "collapsed": true
   },
   "outputs": [],
   "source": []
  }
 ],
 "metadata": {
  "kernelspec": {
   "display_name": "Python 3",
   "language": "python",
   "name": "python3"
  },
  "language_info": {
   "codemirror_mode": {
    "name": "ipython",
    "version": 3
   },
   "file_extension": ".py",
   "mimetype": "text/x-python",
   "name": "python",
   "nbconvert_exporter": "python",
   "pygments_lexer": "ipython3",
   "version": "3.6.0"
  }
 },
 "nbformat": 4,
 "nbformat_minor": 2
}
