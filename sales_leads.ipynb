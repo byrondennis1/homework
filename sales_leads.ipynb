{
 "cells": [
  {
   "cell_type": "markdown",
   "metadata": {},
   "source": [
    "## Byron Dennis - Final Project"
   ]
  },
  {
   "cell_type": "markdown",
   "metadata": {},
   "source": [
    "### Overview"
   ]
  },
  {
   "cell_type": "markdown",
   "metadata": {},
   "source": [
    "I recently applied for a data scientist position at a company in the KC metro area.  After the initial interview the company asked me to complete a project to see if I was truly capable enough for the job.  The notebook below is a modified version of what I provided to the company.\n",
    "\n",
    "#### This data presented new challeneges for me.\n",
    "1. Inconsistent data types between the train/test set and the holdout set.\n",
    "2. Unknown data formats (birthdate was an excel date value rather than a date)\n",
    "3. Erroneous data (some zip codes were not 5 digits & ages were negative)\n",
    "4. Needed to ensure the data transformation on the train/test set were applied consistently to the holdout set.\n",
    "5. Had to predict values out onto a new data set rather than just training a model.\n",
    "6. AUC was specifically requested as the preferred metric.\n",
    "\n",
    "I was asked to complete this test on a Wednesday just before class and the due date was the following Monday.  I worked on this project at the same time that homework 2 was due and my job was requiring more hours than usual.  I submitted the file back to the company at midnight on the due date.  I received a call back and have a final interview scheduled."
   ]
  },
  {
   "cell_type": "markdown",
   "metadata": {},
   "source": [
    "## Assignment provided by the company"
   ]
  },
  {
   "cell_type": "markdown",
   "metadata": {},
   "source": [
    "Your goal is to build a model which will predict the \"target\" variable. The \"target\" in this case is whether or not a person has purchased something. Attached are two files: 1) one is for training and testing, and 2) the other is the holdout submission set. You should build the best model possible in order to maximize the area under the receiver operating characteristic curve (ROC AUC). ROC AUC should be your scoring parameter. "
   ]
  },
  {
   "cell_type": "markdown",
   "metadata": {},
   "source": [
    "## Import standard packages"
   ]
  },
  {
   "cell_type": "code",
   "execution_count": 1,
   "metadata": {
    "collapsed": true
   },
   "outputs": [],
   "source": [
    "#import packages\n",
    "import pandas as pd\n",
    "import numpy as np\n",
    "import matplotlib.pyplot as plt\n",
    "%matplotlib inline \n",
    "import seaborn as sns\n",
    "\n",
    "from sklearn.model_selection import GridSearchCV\n",
    "from sklearn.model_selection  import train_test_split, cross_val_score, KFold\n",
    "from sklearn.metrics import accuracy_score, precision_score, recall_score, f1_score\n",
    "from sklearn.metrics import roc_curve, auc, confusion_matrix, classification_report\n",
    "from sklearn.metrics import roc_auc_score"
   ]
  },
  {
   "cell_type": "markdown",
   "metadata": {},
   "source": [
    "## Import data"
   ]
  },
  {
   "cell_type": "code",
   "execution_count": 51,
   "metadata": {},
   "outputs": [
    {
     "name": "stdout",
     "output_type": "stream",
     "text": [
      "(137804, 11)\n",
      "(34178, 10)\n"
     ]
    }
   ],
   "source": [
    "#set file path\n",
    "path='c:/Users/byron/Desktop/SVG/data/'\n",
    "\n",
    "#reading in train_test and holdout.  All processing performed for \"train_test\" must also be applied to \"holdout\" \n",
    "train_df=pd.read_csv(path + 'train_test.csv')\n",
    "holdout_df=pd.read_csv(path + 'holdout.csv')\n",
    "\n",
    "print(train_df.shape)\n",
    "print(holdout_df.shape)"
   ]
  },
  {
   "cell_type": "markdown",
   "metadata": {},
   "source": [
    "- There are 137,804 records and 11 columns in the train_test data frame.  One column is the Target which will not be found on the holdout set.\n",
    "\n",
    "- There are 34,178 records and 10 columns in the holdout data frame."
   ]
  },
  {
   "cell_type": "markdown",
   "metadata": {},
   "source": [
    "## Data Preparation"
   ]
  },
  {
   "cell_type": "markdown",
   "metadata": {},
   "source": [
    "1. These fields have formatting differences between the two data sets.\n",
    "     - Created Date Time (not sure what value this field would provide to this analysis)\n",
    "     - Birthdate\n",
    "2. Applicant City does not have a consistent case.  It would probably be better to aggregate the location data to region, state, or 3-digit zip.  If time allows mapping zip code to census data may be beneficial to finding income differences.\n",
    "3. Need to make sure lead source and Neustar Result Code are considered a categories rather than a continuous variables.\n",
    "4. System ID may have some valuable information related to the encounter with the customer, but for this exercise it will be dropped. "
   ]
  },
  {
   "cell_type": "code",
   "execution_count": 52,
   "metadata": {},
   "outputs": [
    {
     "data": {
      "text/html": [
       "<div>\n",
       "<style>\n",
       "    .dataframe thead tr:only-child th {\n",
       "        text-align: right;\n",
       "    }\n",
       "\n",
       "    .dataframe thead th {\n",
       "        text-align: left;\n",
       "    }\n",
       "\n",
       "    .dataframe tbody tr th {\n",
       "        vertical-align: top;\n",
       "    }\n",
       "</style>\n",
       "<table border=\"1\" class=\"dataframe\">\n",
       "  <thead>\n",
       "    <tr style=\"text-align: right;\">\n",
       "      <th></th>\n",
       "      <th>System ID</th>\n",
       "      <th>Created Date Time</th>\n",
       "      <th>Neustar Result Code</th>\n",
       "      <th>Lead Source</th>\n",
       "      <th>Emails</th>\n",
       "      <th>Birthdate</th>\n",
       "      <th>Gender</th>\n",
       "      <th>Applicant State/Province</th>\n",
       "      <th>Applicant Zip/Postal Code</th>\n",
       "      <th>Applicant City</th>\n",
       "      <th>target</th>\n",
       "    </tr>\n",
       "  </thead>\n",
       "  <tbody>\n",
       "    <tr>\n",
       "      <th>0</th>\n",
       "      <td>00Qd000000pILTKEA4</td>\n",
       "      <td>9/1/2016</td>\n",
       "      <td>3.0</td>\n",
       "      <td>80</td>\n",
       "      <td>NaN</td>\n",
       "      <td>15316.0</td>\n",
       "      <td>Female</td>\n",
       "      <td>OH</td>\n",
       "      <td>45230</td>\n",
       "      <td>Cincinnati</td>\n",
       "      <td>NaN</td>\n",
       "    </tr>\n",
       "    <tr>\n",
       "      <th>1</th>\n",
       "      <td>00Qd000000pILTxEAO</td>\n",
       "      <td>9/1/2016</td>\n",
       "      <td>10.0</td>\n",
       "      <td>114</td>\n",
       "      <td>NaN</td>\n",
       "      <td>17863.0</td>\n",
       "      <td>Female</td>\n",
       "      <td>AZ</td>\n",
       "      <td>85122</td>\n",
       "      <td>Casa Grande</td>\n",
       "      <td>NaN</td>\n",
       "    </tr>\n",
       "    <tr>\n",
       "      <th>2</th>\n",
       "      <td>00Qd000000pILU7EAO</td>\n",
       "      <td>9/1/2016</td>\n",
       "      <td>10.0</td>\n",
       "      <td>6</td>\n",
       "      <td>NaN</td>\n",
       "      <td>18099.0</td>\n",
       "      <td>Male</td>\n",
       "      <td>NV</td>\n",
       "      <td>89110</td>\n",
       "      <td>Las Vegas</td>\n",
       "      <td>NaN</td>\n",
       "    </tr>\n",
       "    <tr>\n",
       "      <th>3</th>\n",
       "      <td>00Qd000000pILUHEA4</td>\n",
       "      <td>9/1/2016</td>\n",
       "      <td>10.0</td>\n",
       "      <td>81</td>\n",
       "      <td>NaN</td>\n",
       "      <td>16078.0</td>\n",
       "      <td>Male</td>\n",
       "      <td>OK</td>\n",
       "      <td>73507</td>\n",
       "      <td>Lawton</td>\n",
       "      <td>NaN</td>\n",
       "    </tr>\n",
       "    <tr>\n",
       "      <th>4</th>\n",
       "      <td>00Qd000000pILUREA4</td>\n",
       "      <td>9/1/2016</td>\n",
       "      <td>7.0</td>\n",
       "      <td>81</td>\n",
       "      <td>NaN</td>\n",
       "      <td>17053.0</td>\n",
       "      <td>Female</td>\n",
       "      <td>NV</td>\n",
       "      <td>89523</td>\n",
       "      <td>Reno</td>\n",
       "      <td>NaN</td>\n",
       "    </tr>\n",
       "  </tbody>\n",
       "</table>\n",
       "</div>"
      ],
      "text/plain": [
       "            System ID Created Date Time  Neustar Result Code  Lead Source  \\\n",
       "0  00Qd000000pILTKEA4          9/1/2016                  3.0           80   \n",
       "1  00Qd000000pILTxEAO          9/1/2016                 10.0          114   \n",
       "2  00Qd000000pILU7EAO          9/1/2016                 10.0            6   \n",
       "3  00Qd000000pILUHEA4          9/1/2016                 10.0           81   \n",
       "4  00Qd000000pILUREA4          9/1/2016                  7.0           81   \n",
       "\n",
       "   Emails  Birthdate  Gender Applicant State/Province  \\\n",
       "0     NaN    15316.0  Female                       OH   \n",
       "1     NaN    17863.0  Female                       AZ   \n",
       "2     NaN    18099.0    Male                       NV   \n",
       "3     NaN    16078.0    Male                       OK   \n",
       "4     NaN    17053.0  Female                       NV   \n",
       "\n",
       "  Applicant Zip/Postal Code Applicant City  target  \n",
       "0                     45230     Cincinnati     NaN  \n",
       "1                     85122    Casa Grande     NaN  \n",
       "2                     89110      Las Vegas     NaN  \n",
       "3                     73507         Lawton     NaN  \n",
       "4                     89523           Reno     NaN  "
      ]
     },
     "execution_count": 52,
     "metadata": {},
     "output_type": "execute_result"
    }
   ],
   "source": [
    "train_df.head()"
   ]
  },
  {
   "cell_type": "code",
   "execution_count": 53,
   "metadata": {},
   "outputs": [
    {
     "data": {
      "text/html": [
       "<div>\n",
       "<style>\n",
       "    .dataframe thead tr:only-child th {\n",
       "        text-align: right;\n",
       "    }\n",
       "\n",
       "    .dataframe thead th {\n",
       "        text-align: left;\n",
       "    }\n",
       "\n",
       "    .dataframe tbody tr th {\n",
       "        vertical-align: top;\n",
       "    }\n",
       "</style>\n",
       "<table border=\"1\" class=\"dataframe\">\n",
       "  <thead>\n",
       "    <tr style=\"text-align: right;\">\n",
       "      <th></th>\n",
       "      <th>System ID</th>\n",
       "      <th>Created Date Time</th>\n",
       "      <th>Neustar Result Code</th>\n",
       "      <th>Lead Source</th>\n",
       "      <th>Emails</th>\n",
       "      <th>Birthdate</th>\n",
       "      <th>Gender</th>\n",
       "      <th>Applicant State/Province</th>\n",
       "      <th>Applicant Zip/Postal Code</th>\n",
       "      <th>Applicant City</th>\n",
       "    </tr>\n",
       "  </thead>\n",
       "  <tbody>\n",
       "    <tr>\n",
       "      <th>0</th>\n",
       "      <td>00Qd000000q7hjDEAQ</td>\n",
       "      <td>9/16/2016 13:23</td>\n",
       "      <td>10.0</td>\n",
       "      <td>85</td>\n",
       "      <td>NaN</td>\n",
       "      <td>9/21/1943</td>\n",
       "      <td>Female</td>\n",
       "      <td>TX</td>\n",
       "      <td>75901</td>\n",
       "      <td>Lufkin</td>\n",
       "    </tr>\n",
       "    <tr>\n",
       "      <th>1</th>\n",
       "      <td>00Qd000000pHFGPEA4</td>\n",
       "      <td>9/8/2016 21:21</td>\n",
       "      <td>5.0</td>\n",
       "      <td>102</td>\n",
       "      <td>2.0</td>\n",
       "      <td>10/15/1948</td>\n",
       "      <td>Female</td>\n",
       "      <td>PA</td>\n",
       "      <td>15613</td>\n",
       "      <td>Apollo</td>\n",
       "    </tr>\n",
       "    <tr>\n",
       "      <th>2</th>\n",
       "      <td>00Qd000000q8h9WEAQ</td>\n",
       "      <td>9/28/2016 15:23</td>\n",
       "      <td>7.0</td>\n",
       "      <td>25</td>\n",
       "      <td>NaN</td>\n",
       "      <td>7/24/1951</td>\n",
       "      <td>Male</td>\n",
       "      <td>GA</td>\n",
       "      <td>30474</td>\n",
       "      <td>Vidalia</td>\n",
       "    </tr>\n",
       "    <tr>\n",
       "      <th>3</th>\n",
       "      <td>00Qd000000r5f5TEAQ</td>\n",
       "      <td>10/1/2016 23:25</td>\n",
       "      <td>10.0</td>\n",
       "      <td>80</td>\n",
       "      <td>1.0</td>\n",
       "      <td>11/20/1951</td>\n",
       "      <td>Male</td>\n",
       "      <td>AZ</td>\n",
       "      <td>85748</td>\n",
       "      <td>Tucson</td>\n",
       "    </tr>\n",
       "    <tr>\n",
       "      <th>4</th>\n",
       "      <td>00Qd000000pIkMQEA0</td>\n",
       "      <td>9/8/2016 7:32</td>\n",
       "      <td>10.0</td>\n",
       "      <td>4</td>\n",
       "      <td>NaN</td>\n",
       "      <td>2/2/1952</td>\n",
       "      <td>Female</td>\n",
       "      <td>OH</td>\n",
       "      <td>43154</td>\n",
       "      <td>Stoutsville</td>\n",
       "    </tr>\n",
       "  </tbody>\n",
       "</table>\n",
       "</div>"
      ],
      "text/plain": [
       "            System ID Created Date Time  Neustar Result Code  Lead Source  \\\n",
       "0  00Qd000000q7hjDEAQ   9/16/2016 13:23                 10.0           85   \n",
       "1  00Qd000000pHFGPEA4    9/8/2016 21:21                  5.0          102   \n",
       "2  00Qd000000q8h9WEAQ   9/28/2016 15:23                  7.0           25   \n",
       "3  00Qd000000r5f5TEAQ   10/1/2016 23:25                 10.0           80   \n",
       "4  00Qd000000pIkMQEA0     9/8/2016 7:32                 10.0            4   \n",
       "\n",
       "   Emails   Birthdate  Gender Applicant State/Province  \\\n",
       "0     NaN   9/21/1943  Female                       TX   \n",
       "1     2.0  10/15/1948  Female                       PA   \n",
       "2     NaN   7/24/1951    Male                       GA   \n",
       "3     1.0  11/20/1951    Male                       AZ   \n",
       "4     NaN    2/2/1952  Female                       OH   \n",
       "\n",
       "  Applicant Zip/Postal Code Applicant City  \n",
       "0                     75901         Lufkin  \n",
       "1                     15613         Apollo  \n",
       "2                     30474        Vidalia  \n",
       "3                     85748         Tucson  \n",
       "4                     43154    Stoutsville  "
      ]
     },
     "execution_count": 53,
     "metadata": {},
     "output_type": "execute_result"
    }
   ],
   "source": [
    "holdout_df.head()"
   ]
  },
  {
   "cell_type": "markdown",
   "metadata": {},
   "source": [
    "## Data set tail"
   ]
  },
  {
   "cell_type": "code",
   "execution_count": 54,
   "metadata": {
    "collapsed": true
   },
   "outputs": [],
   "source": [
    "#train_df.tail()"
   ]
  },
  {
   "cell_type": "code",
   "execution_count": 55,
   "metadata": {
    "collapsed": true
   },
   "outputs": [],
   "source": [
    "#holdout_df.tail()"
   ]
  },
  {
   "cell_type": "markdown",
   "metadata": {},
   "source": [
    "#### Seeing variation in data types between files.  Also noticing some variation in the way the data was input."
   ]
  },
  {
   "cell_type": "code",
   "execution_count": 56,
   "metadata": {},
   "outputs": [
    {
     "data": {
      "text/plain": [
       "System ID                     object\n",
       "Created Date Time             object\n",
       "Neustar Result Code          float64\n",
       "Lead Source                    int64\n",
       "Emails                       float64\n",
       "Birthdate                    float64\n",
       "Gender                        object\n",
       "Applicant State/Province      object\n",
       "Applicant Zip/Postal Code     object\n",
       "Applicant City                object\n",
       "target                       float64\n",
       "dtype: object"
      ]
     },
     "execution_count": 56,
     "metadata": {},
     "output_type": "execute_result"
    }
   ],
   "source": [
    "#Review data types for train_test\n",
    "train_df.dtypes"
   ]
  },
  {
   "cell_type": "code",
   "execution_count": 57,
   "metadata": {},
   "outputs": [
    {
     "data": {
      "text/plain": [
       "System ID                     object\n",
       "Created Date Time             object\n",
       "Neustar Result Code          float64\n",
       "Lead Source                    int64\n",
       "Emails                       float64\n",
       "Birthdate                     object\n",
       "Gender                        object\n",
       "Applicant State/Province      object\n",
       "Applicant Zip/Postal Code     object\n",
       "Applicant City                object\n",
       "dtype: object"
      ]
     },
     "execution_count": 57,
     "metadata": {},
     "output_type": "execute_result"
    }
   ],
   "source": [
    "#Review data types for holdout\n",
    "holdout_df.dtypes"
   ]
  },
  {
   "cell_type": "markdown",
   "metadata": {},
   "source": [
    "## Convert birthdate to Age for both files\n",
    "Rather than using birthdate as my column I feel it would be better to convert the column to age and possibly create bins."
   ]
  },
  {
   "cell_type": "markdown",
   "metadata": {},
   "source": [
    "### Define functions to format birthdate and calculate age."
   ]
  },
  {
   "cell_type": "code",
   "execution_count": 58,
   "metadata": {
    "collapsed": true
   },
   "outputs": [],
   "source": [
    "#After researching it appears the numeric date values are excel date values.  Need to convert this to date.\n",
    "#Date conversion function\n",
    "import datetime\n",
    "def xldate_to_datetime(xldate):\n",
    "    try:\n",
    "        xls_early_dt = datetime.datetime(1900, 1, 1)\n",
    "        delta = datetime.timedelta(days=xldate)\n",
    "        return pd.to_datetime(xls_early_dt+delta)\n",
    "    except:\n",
    "        return ''\n",
    "\n",
    "#there may be some leap year issues with the date calc, but should be close enough.\n",
    "\n",
    "#I will also need a function to convert bday to age.\n",
    "from datetime import date\n",
    "def calc_age(bday):\n",
    "    try:\n",
    "        today = date.today()\n",
    "        age = today.year - bday.year - ((today.month, today.day) < (bday.month, bday.day))\n",
    "        return age\n",
    "    except:\n",
    "        return ''"
   ]
  },
  {
   "cell_type": "code",
   "execution_count": 59,
   "metadata": {
    "collapsed": true
   },
   "outputs": [],
   "source": [
    "#Convert birthdate in train_test\n",
    "train_df.Birthdate = train_df.Birthdate.apply(xldate_to_datetime)\n",
    "\n",
    "#Convert birthdate in holdout to correct format\n",
    "holdout_df.Birthdate = pd.to_datetime(holdout_df.Birthdate)\n",
    "\n",
    "#Create new Age columns\n",
    "train_df['Age'] = train_df.Birthdate.apply(calc_age)\n",
    "holdout_df['Age'] = holdout_df.Birthdate.apply(calc_age)"
   ]
  },
  {
   "cell_type": "code",
   "execution_count": 60,
   "metadata": {},
   "outputs": [
    {
     "data": {
      "text/html": [
       "<div>\n",
       "<style>\n",
       "    .dataframe thead tr:only-child th {\n",
       "        text-align: right;\n",
       "    }\n",
       "\n",
       "    .dataframe thead th {\n",
       "        text-align: left;\n",
       "    }\n",
       "\n",
       "    .dataframe tbody tr th {\n",
       "        vertical-align: top;\n",
       "    }\n",
       "</style>\n",
       "<table border=\"1\" class=\"dataframe\">\n",
       "  <thead>\n",
       "    <tr style=\"text-align: right;\">\n",
       "      <th></th>\n",
       "      <th>System ID</th>\n",
       "      <th>Created Date Time</th>\n",
       "      <th>Neustar Result Code</th>\n",
       "      <th>Lead Source</th>\n",
       "      <th>Emails</th>\n",
       "      <th>Birthdate</th>\n",
       "      <th>Gender</th>\n",
       "      <th>Applicant State/Province</th>\n",
       "      <th>Applicant Zip/Postal Code</th>\n",
       "      <th>Applicant City</th>\n",
       "      <th>target</th>\n",
       "      <th>Age</th>\n",
       "    </tr>\n",
       "  </thead>\n",
       "  <tbody>\n",
       "    <tr>\n",
       "      <th>0</th>\n",
       "      <td>00Qd000000pILTKEA4</td>\n",
       "      <td>9/1/2016</td>\n",
       "      <td>3.0</td>\n",
       "      <td>80</td>\n",
       "      <td>NaN</td>\n",
       "      <td>1941-12-08</td>\n",
       "      <td>Female</td>\n",
       "      <td>OH</td>\n",
       "      <td>45230</td>\n",
       "      <td>Cincinnati</td>\n",
       "      <td>NaN</td>\n",
       "      <td>76.0</td>\n",
       "    </tr>\n",
       "    <tr>\n",
       "      <th>1</th>\n",
       "      <td>00Qd000000pILTxEAO</td>\n",
       "      <td>9/1/2016</td>\n",
       "      <td>10.0</td>\n",
       "      <td>114</td>\n",
       "      <td>NaN</td>\n",
       "      <td>1948-11-28</td>\n",
       "      <td>Female</td>\n",
       "      <td>AZ</td>\n",
       "      <td>85122</td>\n",
       "      <td>Casa Grande</td>\n",
       "      <td>NaN</td>\n",
       "      <td>69.0</td>\n",
       "    </tr>\n",
       "  </tbody>\n",
       "</table>\n",
       "</div>"
      ],
      "text/plain": [
       "            System ID Created Date Time  Neustar Result Code  Lead Source  \\\n",
       "0  00Qd000000pILTKEA4          9/1/2016                  3.0           80   \n",
       "1  00Qd000000pILTxEAO          9/1/2016                 10.0          114   \n",
       "\n",
       "   Emails  Birthdate  Gender Applicant State/Province  \\\n",
       "0     NaN 1941-12-08  Female                       OH   \n",
       "1     NaN 1948-11-28  Female                       AZ   \n",
       "\n",
       "  Applicant Zip/Postal Code Applicant City  target   Age  \n",
       "0                     45230     Cincinnati     NaN  76.0  \n",
       "1                     85122    Casa Grande     NaN  69.0  "
      ]
     },
     "execution_count": 60,
     "metadata": {},
     "output_type": "execute_result"
    }
   ],
   "source": [
    "#Check to see that new columns were added as expected\n",
    "train_df.head(2)"
   ]
  },
  {
   "cell_type": "code",
   "execution_count": 61,
   "metadata": {
    "collapsed": true
   },
   "outputs": [],
   "source": [
    "#holdout_df.head(2)"
   ]
  },
  {
   "cell_type": "code",
   "execution_count": 62,
   "metadata": {},
   "outputs": [
    {
     "data": {
      "text/plain": [
       "count    132437.000000\n",
       "mean         69.041189\n",
       "std           9.404198\n",
       "min         -13.000000\n",
       "25%          66.000000\n",
       "50%          69.000000\n",
       "75%          73.000000\n",
       "max          87.000000\n",
       "Name: Age, dtype: float64"
      ]
     },
     "execution_count": 62,
     "metadata": {},
     "output_type": "execute_result"
    }
   ],
   "source": [
    "#Check statistics on new Age columns\n",
    "train_df.Age.describe()"
   ]
  },
  {
   "cell_type": "code",
   "execution_count": 63,
   "metadata": {
    "collapsed": true
   },
   "outputs": [],
   "source": [
    "#holdout_df.Age.describe()"
   ]
  },
  {
   "cell_type": "markdown",
   "metadata": {},
   "source": [
    "## Combine data sets"
   ]
  },
  {
   "cell_type": "markdown",
   "metadata": {},
   "source": [
    "Predict function will not work as expected if columns are not consistent between both sets.  To mitigate this problem I am combining both the train and holdout sets while creating dummies and other transformations."
   ]
  },
  {
   "cell_type": "code",
   "execution_count": 64,
   "metadata": {},
   "outputs": [
    {
     "data": {
      "text/html": [
       "<div>\n",
       "<style>\n",
       "    .dataframe thead tr:only-child th {\n",
       "        text-align: right;\n",
       "    }\n",
       "\n",
       "    .dataframe thead th {\n",
       "        text-align: left;\n",
       "    }\n",
       "\n",
       "    .dataframe tbody tr th {\n",
       "        vertical-align: top;\n",
       "    }\n",
       "</style>\n",
       "<table border=\"1\" class=\"dataframe\">\n",
       "  <thead>\n",
       "    <tr style=\"text-align: right;\">\n",
       "      <th></th>\n",
       "      <th>Age</th>\n",
       "      <th>Applicant City</th>\n",
       "      <th>Applicant State/Province</th>\n",
       "      <th>Applicant Zip/Postal Code</th>\n",
       "      <th>Birthdate</th>\n",
       "      <th>Created Date Time</th>\n",
       "      <th>Emails</th>\n",
       "      <th>Gender</th>\n",
       "      <th>Lead Source</th>\n",
       "      <th>Neustar Result Code</th>\n",
       "      <th>System ID</th>\n",
       "      <th>label</th>\n",
       "      <th>target</th>\n",
       "    </tr>\n",
       "  </thead>\n",
       "  <tbody>\n",
       "    <tr>\n",
       "      <th>0</th>\n",
       "      <td>76.0</td>\n",
       "      <td>Cincinnati</td>\n",
       "      <td>OH</td>\n",
       "      <td>45230</td>\n",
       "      <td>1941-12-08</td>\n",
       "      <td>9/1/2016</td>\n",
       "      <td>NaN</td>\n",
       "      <td>Female</td>\n",
       "      <td>80</td>\n",
       "      <td>3.0</td>\n",
       "      <td>00Qd000000pILTKEA4</td>\n",
       "      <td>train</td>\n",
       "      <td>NaN</td>\n",
       "    </tr>\n",
       "    <tr>\n",
       "      <th>1</th>\n",
       "      <td>69.0</td>\n",
       "      <td>Casa Grande</td>\n",
       "      <td>AZ</td>\n",
       "      <td>85122</td>\n",
       "      <td>1948-11-28</td>\n",
       "      <td>9/1/2016</td>\n",
       "      <td>NaN</td>\n",
       "      <td>Female</td>\n",
       "      <td>114</td>\n",
       "      <td>10.0</td>\n",
       "      <td>00Qd000000pILTxEAO</td>\n",
       "      <td>train</td>\n",
       "      <td>NaN</td>\n",
       "    </tr>\n",
       "    <tr>\n",
       "      <th>2</th>\n",
       "      <td>68.0</td>\n",
       "      <td>Las Vegas</td>\n",
       "      <td>NV</td>\n",
       "      <td>89110</td>\n",
       "      <td>1949-07-22</td>\n",
       "      <td>9/1/2016</td>\n",
       "      <td>NaN</td>\n",
       "      <td>Male</td>\n",
       "      <td>6</td>\n",
       "      <td>10.0</td>\n",
       "      <td>00Qd000000pILU7EAO</td>\n",
       "      <td>train</td>\n",
       "      <td>NaN</td>\n",
       "    </tr>\n",
       "    <tr>\n",
       "      <th>3</th>\n",
       "      <td>73.0</td>\n",
       "      <td>Lawton</td>\n",
       "      <td>OK</td>\n",
       "      <td>73507</td>\n",
       "      <td>1944-01-09</td>\n",
       "      <td>9/1/2016</td>\n",
       "      <td>NaN</td>\n",
       "      <td>Male</td>\n",
       "      <td>81</td>\n",
       "      <td>10.0</td>\n",
       "      <td>00Qd000000pILUHEA4</td>\n",
       "      <td>train</td>\n",
       "      <td>NaN</td>\n",
       "    </tr>\n",
       "    <tr>\n",
       "      <th>4</th>\n",
       "      <td>71.0</td>\n",
       "      <td>Reno</td>\n",
       "      <td>NV</td>\n",
       "      <td>89523</td>\n",
       "      <td>1946-09-10</td>\n",
       "      <td>9/1/2016</td>\n",
       "      <td>NaN</td>\n",
       "      <td>Female</td>\n",
       "      <td>81</td>\n",
       "      <td>7.0</td>\n",
       "      <td>00Qd000000pILUREA4</td>\n",
       "      <td>train</td>\n",
       "      <td>NaN</td>\n",
       "    </tr>\n",
       "  </tbody>\n",
       "</table>\n",
       "</div>"
      ],
      "text/plain": [
       "    Age Applicant City Applicant State/Province Applicant Zip/Postal Code  \\\n",
       "0  76.0     Cincinnati                       OH                     45230   \n",
       "1  69.0    Casa Grande                       AZ                     85122   \n",
       "2  68.0      Las Vegas                       NV                     89110   \n",
       "3  73.0         Lawton                       OK                     73507   \n",
       "4  71.0           Reno                       NV                     89523   \n",
       "\n",
       "   Birthdate Created Date Time  Emails  Gender  Lead Source  \\\n",
       "0 1941-12-08          9/1/2016     NaN  Female           80   \n",
       "1 1948-11-28          9/1/2016     NaN  Female          114   \n",
       "2 1949-07-22          9/1/2016     NaN    Male            6   \n",
       "3 1944-01-09          9/1/2016     NaN    Male           81   \n",
       "4 1946-09-10          9/1/2016     NaN  Female           81   \n",
       "\n",
       "   Neustar Result Code           System ID  label  target  \n",
       "0                  3.0  00Qd000000pILTKEA4  train     NaN  \n",
       "1                 10.0  00Qd000000pILTxEAO  train     NaN  \n",
       "2                 10.0  00Qd000000pILU7EAO  train     NaN  \n",
       "3                 10.0  00Qd000000pILUHEA4  train     NaN  \n",
       "4                  7.0  00Qd000000pILUREA4  train     NaN  "
      ]
     },
     "execution_count": 64,
     "metadata": {},
     "output_type": "execute_result"
    }
   ],
   "source": [
    "train_df['label'] = 'train'\n",
    "holdout_df['label'] = 'holdout'\n",
    "concat_df = pd.concat([train_df , holdout_df])\n",
    "concat_df.head()"
   ]
  },
  {
   "cell_type": "markdown",
   "metadata": {},
   "source": [
    "#### Notes about new Age columns\n",
    "1. min age is -13.  These are erroneous entries\n",
    "2. avg age is 69 w/ std of 9.  The data set is primarily seniors so children and young adults are likely errors as well\n",
    "3. the train_test statistics are surprisingly similar which raises a flag.  Need to check calculations.\n",
    "\n",
    "#### Reviewed DFs and birthdate/age columns appear to be functioning correctly."
   ]
  },
  {
   "cell_type": "code",
   "execution_count": 65,
   "metadata": {},
   "outputs": [
    {
     "name": "stdout",
     "output_type": "stream",
     "text": [
      "Count of records where age < 21:  1408\n"
     ]
    }
   ],
   "source": [
    "#count number of records where age is less than 21\n",
    "child_cnt=concat_df.Age.loc[concat_df['Age'] < 21].count()\n",
    "\n",
    "print('Count of records where age < 21: ',child_cnt)"
   ]
  },
  {
   "cell_type": "markdown",
   "metadata": {},
   "source": [
    "#### Less than 1% of the records have an age < 21.  Going to replace these age values with Nan for now and will revew further."
   ]
  },
  {
   "cell_type": "code",
   "execution_count": 66,
   "metadata": {},
   "outputs": [
    {
     "data": {
      "text/plain": [
       "Age                                 float64\n",
       "Applicant City                       object\n",
       "Applicant State/Province             object\n",
       "Applicant Zip/Postal Code            object\n",
       "Birthdate                    datetime64[ns]\n",
       "Created Date Time                    object\n",
       "Emails                              float64\n",
       "Gender                               object\n",
       "Lead Source                           int64\n",
       "Neustar Result Code                 float64\n",
       "System ID                            object\n",
       "label                                object\n",
       "target                              float64\n",
       "dtype: object"
      ]
     },
     "execution_count": 66,
     "metadata": {},
     "output_type": "execute_result"
    }
   ],
   "source": [
    "#Need to convert dtype to float from object for calculation to work.\n",
    "concat_df.Age=pd.to_numeric(concat_df.Age)\n",
    "\n",
    "concat_df.dtypes"
   ]
  },
  {
   "cell_type": "code",
   "execution_count": 67,
   "metadata": {},
   "outputs": [
    {
     "name": "stderr",
     "output_type": "stream",
     "text": [
      "C:\\Users\\byron\\Anaconda3\\lib\\site-packages\\pandas\\core\\indexing.py:179: SettingWithCopyWarning: \n",
      "A value is trying to be set on a copy of a slice from a DataFrame\n",
      "\n",
      "See the caveats in the documentation: http://pandas.pydata.org/pandas-docs/stable/indexing.html#indexing-view-versus-copy\n",
      "  self._setitem_with_indexer(indexer, value)\n"
     ]
    }
   ],
   "source": [
    "#replace Age < 21 with NaN\n",
    "concat_df.Age.loc[concat_df['Age'] < 21] = None"
   ]
  },
  {
   "cell_type": "markdown",
   "metadata": {},
   "source": [
    "## Check missing values"
   ]
  },
  {
   "cell_type": "code",
   "execution_count": 68,
   "metadata": {},
   "outputs": [
    {
     "data": {
      "text/plain": [
       "target                       160855\n",
       "Emails                       153304\n",
       "Gender                        47164\n",
       "Applicant City                39664\n",
       "Neustar Result Code           11555\n",
       "Age                            8090\n",
       "Birthdate                      6682\n",
       "Applicant State/Province       1328\n",
       "Applicant Zip/Postal Code      1207\n",
       "label                             0\n",
       "System ID                         0\n",
       "Lead Source                       0\n",
       "Created Date Time                 0\n",
       "dtype: int64"
      ]
     },
     "execution_count": 68,
     "metadata": {},
     "output_type": "execute_result"
    }
   ],
   "source": [
    "concat_df.isnull().sum().sort_values(ascending=False)"
   ]
  },
  {
   "cell_type": "markdown",
   "metadata": {},
   "source": [
    "#### Missing Values Notes\n",
    "1. Every column has missing values except Lead Source, Created Date Time, and System ID.\n",
    "2. Emails is a count.  When email is 0 the field is left blank.  Going to replace all email NaN with 0.  NaN's may be mislabled as 0 in some cases.\n",
    "3. A significant number of records are missing for Gender as well, but this could be a key value.  I will check the distribution of this field and consider imputing a value.\n",
    "4. Neustar needs additional review to determine how to handle.\n",
    "5. Age will be imputed w/ median.  Counts do not equal birthdate.  This is because the birthdate column uses NaT for some errors.\n",
    "5. Possible entire records should be dropped if there are too many missing columns."
   ]
  },
  {
   "cell_type": "markdown",
   "metadata": {},
   "source": [
    "#### Replace email NaN w/ 0"
   ]
  },
  {
   "cell_type": "code",
   "execution_count": 69,
   "metadata": {},
   "outputs": [
    {
     "name": "stderr",
     "output_type": "stream",
     "text": [
      "C:\\Users\\byron\\Anaconda3\\lib\\site-packages\\pandas\\core\\indexing.py:179: SettingWithCopyWarning: \n",
      "A value is trying to be set on a copy of a slice from a DataFrame\n",
      "\n",
      "See the caveats in the documentation: http://pandas.pydata.org/pandas-docs/stable/indexing.html#indexing-view-versus-copy\n",
      "  self._setitem_with_indexer(indexer, value)\n"
     ]
    },
    {
     "data": {
      "text/html": [
       "<div>\n",
       "<style>\n",
       "    .dataframe thead tr:only-child th {\n",
       "        text-align: right;\n",
       "    }\n",
       "\n",
       "    .dataframe thead th {\n",
       "        text-align: left;\n",
       "    }\n",
       "\n",
       "    .dataframe tbody tr th {\n",
       "        vertical-align: top;\n",
       "    }\n",
       "</style>\n",
       "<table border=\"1\" class=\"dataframe\">\n",
       "  <thead>\n",
       "    <tr style=\"text-align: right;\">\n",
       "      <th></th>\n",
       "      <th>Age</th>\n",
       "      <th>Applicant City</th>\n",
       "      <th>Applicant State/Province</th>\n",
       "      <th>Applicant Zip/Postal Code</th>\n",
       "      <th>Birthdate</th>\n",
       "      <th>Created Date Time</th>\n",
       "      <th>Emails</th>\n",
       "      <th>Gender</th>\n",
       "      <th>Lead Source</th>\n",
       "      <th>Neustar Result Code</th>\n",
       "      <th>System ID</th>\n",
       "      <th>label</th>\n",
       "      <th>target</th>\n",
       "    </tr>\n",
       "  </thead>\n",
       "  <tbody>\n",
       "    <tr>\n",
       "      <th>0</th>\n",
       "      <td>76.0</td>\n",
       "      <td>Cincinnati</td>\n",
       "      <td>OH</td>\n",
       "      <td>45230</td>\n",
       "      <td>1941-12-08</td>\n",
       "      <td>9/1/2016</td>\n",
       "      <td>0.0</td>\n",
       "      <td>Female</td>\n",
       "      <td>80</td>\n",
       "      <td>3.0</td>\n",
       "      <td>00Qd000000pILTKEA4</td>\n",
       "      <td>train</td>\n",
       "      <td>NaN</td>\n",
       "    </tr>\n",
       "    <tr>\n",
       "      <th>1</th>\n",
       "      <td>69.0</td>\n",
       "      <td>Casa Grande</td>\n",
       "      <td>AZ</td>\n",
       "      <td>85122</td>\n",
       "      <td>1948-11-28</td>\n",
       "      <td>9/1/2016</td>\n",
       "      <td>0.0</td>\n",
       "      <td>Female</td>\n",
       "      <td>114</td>\n",
       "      <td>10.0</td>\n",
       "      <td>00Qd000000pILTxEAO</td>\n",
       "      <td>train</td>\n",
       "      <td>NaN</td>\n",
       "    </tr>\n",
       "    <tr>\n",
       "      <th>2</th>\n",
       "      <td>68.0</td>\n",
       "      <td>Las Vegas</td>\n",
       "      <td>NV</td>\n",
       "      <td>89110</td>\n",
       "      <td>1949-07-22</td>\n",
       "      <td>9/1/2016</td>\n",
       "      <td>0.0</td>\n",
       "      <td>Male</td>\n",
       "      <td>6</td>\n",
       "      <td>10.0</td>\n",
       "      <td>00Qd000000pILU7EAO</td>\n",
       "      <td>train</td>\n",
       "      <td>NaN</td>\n",
       "    </tr>\n",
       "    <tr>\n",
       "      <th>3</th>\n",
       "      <td>73.0</td>\n",
       "      <td>Lawton</td>\n",
       "      <td>OK</td>\n",
       "      <td>73507</td>\n",
       "      <td>1944-01-09</td>\n",
       "      <td>9/1/2016</td>\n",
       "      <td>0.0</td>\n",
       "      <td>Male</td>\n",
       "      <td>81</td>\n",
       "      <td>10.0</td>\n",
       "      <td>00Qd000000pILUHEA4</td>\n",
       "      <td>train</td>\n",
       "      <td>NaN</td>\n",
       "    </tr>\n",
       "    <tr>\n",
       "      <th>4</th>\n",
       "      <td>71.0</td>\n",
       "      <td>Reno</td>\n",
       "      <td>NV</td>\n",
       "      <td>89523</td>\n",
       "      <td>1946-09-10</td>\n",
       "      <td>9/1/2016</td>\n",
       "      <td>0.0</td>\n",
       "      <td>Female</td>\n",
       "      <td>81</td>\n",
       "      <td>7.0</td>\n",
       "      <td>00Qd000000pILUREA4</td>\n",
       "      <td>train</td>\n",
       "      <td>NaN</td>\n",
       "    </tr>\n",
       "  </tbody>\n",
       "</table>\n",
       "</div>"
      ],
      "text/plain": [
       "    Age Applicant City Applicant State/Province Applicant Zip/Postal Code  \\\n",
       "0  76.0     Cincinnati                       OH                     45230   \n",
       "1  69.0    Casa Grande                       AZ                     85122   \n",
       "2  68.0      Las Vegas                       NV                     89110   \n",
       "3  73.0         Lawton                       OK                     73507   \n",
       "4  71.0           Reno                       NV                     89523   \n",
       "\n",
       "   Birthdate Created Date Time  Emails  Gender  Lead Source  \\\n",
       "0 1941-12-08          9/1/2016     0.0  Female           80   \n",
       "1 1948-11-28          9/1/2016     0.0  Female          114   \n",
       "2 1949-07-22          9/1/2016     0.0    Male            6   \n",
       "3 1944-01-09          9/1/2016     0.0    Male           81   \n",
       "4 1946-09-10          9/1/2016     0.0  Female           81   \n",
       "\n",
       "   Neustar Result Code           System ID  label  target  \n",
       "0                  3.0  00Qd000000pILTKEA4  train     NaN  \n",
       "1                 10.0  00Qd000000pILTxEAO  train     NaN  \n",
       "2                 10.0  00Qd000000pILU7EAO  train     NaN  \n",
       "3                 10.0  00Qd000000pILUHEA4  train     NaN  \n",
       "4                  7.0  00Qd000000pILUREA4  train     NaN  "
      ]
     },
     "execution_count": 69,
     "metadata": {},
     "output_type": "execute_result"
    }
   ],
   "source": [
    "#replace Email NaN with 0\n",
    "#some Email values may have been missing rather than 0.\n",
    "concat_df.Emails.loc[concat_df.Emails.isnull()] = 0\n",
    "concat_df.head()"
   ]
  },
  {
   "cell_type": "markdown",
   "metadata": {},
   "source": [
    "#### Replace Age NaN w/ median"
   ]
  },
  {
   "cell_type": "code",
   "execution_count": 70,
   "metadata": {},
   "outputs": [
    {
     "name": "stderr",
     "output_type": "stream",
     "text": [
      "C:\\Users\\byron\\Anaconda3\\lib\\site-packages\\pandas\\core\\indexing.py:179: SettingWithCopyWarning: \n",
      "A value is trying to be set on a copy of a slice from a DataFrame\n",
      "\n",
      "See the caveats in the documentation: http://pandas.pydata.org/pandas-docs/stable/indexing.html#indexing-view-versus-copy\n",
      "  self._setitem_with_indexer(indexer, value)\n"
     ]
    },
    {
     "data": {
      "text/html": [
       "<div>\n",
       "<style>\n",
       "    .dataframe thead tr:only-child th {\n",
       "        text-align: right;\n",
       "    }\n",
       "\n",
       "    .dataframe thead th {\n",
       "        text-align: left;\n",
       "    }\n",
       "\n",
       "    .dataframe tbody tr th {\n",
       "        vertical-align: top;\n",
       "    }\n",
       "</style>\n",
       "<table border=\"1\" class=\"dataframe\">\n",
       "  <thead>\n",
       "    <tr style=\"text-align: right;\">\n",
       "      <th></th>\n",
       "      <th>Age</th>\n",
       "      <th>Applicant City</th>\n",
       "      <th>Applicant State/Province</th>\n",
       "      <th>Applicant Zip/Postal Code</th>\n",
       "      <th>Birthdate</th>\n",
       "      <th>Created Date Time</th>\n",
       "      <th>Emails</th>\n",
       "      <th>Gender</th>\n",
       "      <th>Lead Source</th>\n",
       "      <th>Neustar Result Code</th>\n",
       "      <th>System ID</th>\n",
       "      <th>label</th>\n",
       "      <th>target</th>\n",
       "    </tr>\n",
       "  </thead>\n",
       "  <tbody>\n",
       "    <tr>\n",
       "      <th>0</th>\n",
       "      <td>76.0</td>\n",
       "      <td>Cincinnati</td>\n",
       "      <td>OH</td>\n",
       "      <td>45230</td>\n",
       "      <td>1941-12-08</td>\n",
       "      <td>9/1/2016</td>\n",
       "      <td>0.0</td>\n",
       "      <td>Female</td>\n",
       "      <td>80</td>\n",
       "      <td>3.0</td>\n",
       "      <td>00Qd000000pILTKEA4</td>\n",
       "      <td>train</td>\n",
       "      <td>NaN</td>\n",
       "    </tr>\n",
       "    <tr>\n",
       "      <th>1</th>\n",
       "      <td>69.0</td>\n",
       "      <td>Casa Grande</td>\n",
       "      <td>AZ</td>\n",
       "      <td>85122</td>\n",
       "      <td>1948-11-28</td>\n",
       "      <td>9/1/2016</td>\n",
       "      <td>0.0</td>\n",
       "      <td>Female</td>\n",
       "      <td>114</td>\n",
       "      <td>10.0</td>\n",
       "      <td>00Qd000000pILTxEAO</td>\n",
       "      <td>train</td>\n",
       "      <td>NaN</td>\n",
       "    </tr>\n",
       "    <tr>\n",
       "      <th>2</th>\n",
       "      <td>68.0</td>\n",
       "      <td>Las Vegas</td>\n",
       "      <td>NV</td>\n",
       "      <td>89110</td>\n",
       "      <td>1949-07-22</td>\n",
       "      <td>9/1/2016</td>\n",
       "      <td>0.0</td>\n",
       "      <td>Male</td>\n",
       "      <td>6</td>\n",
       "      <td>10.0</td>\n",
       "      <td>00Qd000000pILU7EAO</td>\n",
       "      <td>train</td>\n",
       "      <td>NaN</td>\n",
       "    </tr>\n",
       "    <tr>\n",
       "      <th>3</th>\n",
       "      <td>73.0</td>\n",
       "      <td>Lawton</td>\n",
       "      <td>OK</td>\n",
       "      <td>73507</td>\n",
       "      <td>1944-01-09</td>\n",
       "      <td>9/1/2016</td>\n",
       "      <td>0.0</td>\n",
       "      <td>Male</td>\n",
       "      <td>81</td>\n",
       "      <td>10.0</td>\n",
       "      <td>00Qd000000pILUHEA4</td>\n",
       "      <td>train</td>\n",
       "      <td>NaN</td>\n",
       "    </tr>\n",
       "    <tr>\n",
       "      <th>4</th>\n",
       "      <td>71.0</td>\n",
       "      <td>Reno</td>\n",
       "      <td>NV</td>\n",
       "      <td>89523</td>\n",
       "      <td>1946-09-10</td>\n",
       "      <td>9/1/2016</td>\n",
       "      <td>0.0</td>\n",
       "      <td>Female</td>\n",
       "      <td>81</td>\n",
       "      <td>7.0</td>\n",
       "      <td>00Qd000000pILUREA4</td>\n",
       "      <td>train</td>\n",
       "      <td>NaN</td>\n",
       "    </tr>\n",
       "  </tbody>\n",
       "</table>\n",
       "</div>"
      ],
      "text/plain": [
       "    Age Applicant City Applicant State/Province Applicant Zip/Postal Code  \\\n",
       "0  76.0     Cincinnati                       OH                     45230   \n",
       "1  69.0    Casa Grande                       AZ                     85122   \n",
       "2  68.0      Las Vegas                       NV                     89110   \n",
       "3  73.0         Lawton                       OK                     73507   \n",
       "4  71.0           Reno                       NV                     89523   \n",
       "\n",
       "   Birthdate Created Date Time  Emails  Gender  Lead Source  \\\n",
       "0 1941-12-08          9/1/2016     0.0  Female           80   \n",
       "1 1948-11-28          9/1/2016     0.0  Female          114   \n",
       "2 1949-07-22          9/1/2016     0.0    Male            6   \n",
       "3 1944-01-09          9/1/2016     0.0    Male           81   \n",
       "4 1946-09-10          9/1/2016     0.0  Female           81   \n",
       "\n",
       "   Neustar Result Code           System ID  label  target  \n",
       "0                  3.0  00Qd000000pILTKEA4  train     NaN  \n",
       "1                 10.0  00Qd000000pILTxEAO  train     NaN  \n",
       "2                 10.0  00Qd000000pILU7EAO  train     NaN  \n",
       "3                 10.0  00Qd000000pILUHEA4  train     NaN  \n",
       "4                  7.0  00Qd000000pILUREA4  train     NaN  "
      ]
     },
     "execution_count": 70,
     "metadata": {},
     "output_type": "execute_result"
    }
   ],
   "source": [
    "#replace missing values for Age by imputing the median\n",
    "concat_df.Age.loc[concat_df.Age.isnull()] = concat_df.Age.median()\n",
    "concat_df.head()"
   ]
  },
  {
   "cell_type": "markdown",
   "metadata": {},
   "source": [
    "#### Drop columns not adding value"
   ]
  },
  {
   "cell_type": "code",
   "execution_count": 71,
   "metadata": {},
   "outputs": [
    {
     "name": "stdout",
     "output_type": "stream",
     "text": [
      "(171982, 8)\n"
     ]
    }
   ],
   "source": [
    "#Drop System ID, Created Date Time, Applicant City and Birthdate, Appliicant Zip/Postal Code.  \n",
    "#These fields have information captured in other columns or do not provide valueable information.\n",
    "\n",
    "concat_df=concat_df.drop(['System ID','Created Date Time','Applicant City','Birthdate','Applicant Zip/Postal Code'],axis=1)\n",
    "\n",
    "#Note:A random forest was used to see if 3-digit zip had more signal than state.\n",
    "#State had more importance in the random forest so the decision was made to drop zip code. \n",
    "\n",
    "print(concat_df.shape)"
   ]
  },
  {
   "cell_type": "code",
   "execution_count": 72,
   "metadata": {},
   "outputs": [
    {
     "data": {
      "text/html": [
       "<div>\n",
       "<style>\n",
       "    .dataframe thead tr:only-child th {\n",
       "        text-align: right;\n",
       "    }\n",
       "\n",
       "    .dataframe thead th {\n",
       "        text-align: left;\n",
       "    }\n",
       "\n",
       "    .dataframe tbody tr th {\n",
       "        vertical-align: top;\n",
       "    }\n",
       "</style>\n",
       "<table border=\"1\" class=\"dataframe\">\n",
       "  <thead>\n",
       "    <tr style=\"text-align: right;\">\n",
       "      <th></th>\n",
       "      <th>Age</th>\n",
       "      <th>Applicant State/Province</th>\n",
       "      <th>Emails</th>\n",
       "      <th>Gender</th>\n",
       "      <th>Lead Source</th>\n",
       "      <th>Neustar Result Code</th>\n",
       "      <th>label</th>\n",
       "      <th>target</th>\n",
       "    </tr>\n",
       "  </thead>\n",
       "  <tbody>\n",
       "    <tr>\n",
       "      <th>0</th>\n",
       "      <td>76.0</td>\n",
       "      <td>OH</td>\n",
       "      <td>0.0</td>\n",
       "      <td>Female</td>\n",
       "      <td>80</td>\n",
       "      <td>3.0</td>\n",
       "      <td>train</td>\n",
       "      <td>NaN</td>\n",
       "    </tr>\n",
       "    <tr>\n",
       "      <th>1</th>\n",
       "      <td>69.0</td>\n",
       "      <td>AZ</td>\n",
       "      <td>0.0</td>\n",
       "      <td>Female</td>\n",
       "      <td>114</td>\n",
       "      <td>10.0</td>\n",
       "      <td>train</td>\n",
       "      <td>NaN</td>\n",
       "    </tr>\n",
       "    <tr>\n",
       "      <th>2</th>\n",
       "      <td>68.0</td>\n",
       "      <td>NV</td>\n",
       "      <td>0.0</td>\n",
       "      <td>Male</td>\n",
       "      <td>6</td>\n",
       "      <td>10.0</td>\n",
       "      <td>train</td>\n",
       "      <td>NaN</td>\n",
       "    </tr>\n",
       "    <tr>\n",
       "      <th>3</th>\n",
       "      <td>73.0</td>\n",
       "      <td>OK</td>\n",
       "      <td>0.0</td>\n",
       "      <td>Male</td>\n",
       "      <td>81</td>\n",
       "      <td>10.0</td>\n",
       "      <td>train</td>\n",
       "      <td>NaN</td>\n",
       "    </tr>\n",
       "    <tr>\n",
       "      <th>4</th>\n",
       "      <td>71.0</td>\n",
       "      <td>NV</td>\n",
       "      <td>0.0</td>\n",
       "      <td>Female</td>\n",
       "      <td>81</td>\n",
       "      <td>7.0</td>\n",
       "      <td>train</td>\n",
       "      <td>NaN</td>\n",
       "    </tr>\n",
       "  </tbody>\n",
       "</table>\n",
       "</div>"
      ],
      "text/plain": [
       "    Age Applicant State/Province  Emails  Gender  Lead Source  \\\n",
       "0  76.0                       OH     0.0  Female           80   \n",
       "1  69.0                       AZ     0.0  Female          114   \n",
       "2  68.0                       NV     0.0    Male            6   \n",
       "3  73.0                       OK     0.0    Male           81   \n",
       "4  71.0                       NV     0.0  Female           81   \n",
       "\n",
       "   Neustar Result Code  label  target  \n",
       "0                  3.0  train     NaN  \n",
       "1                 10.0  train     NaN  \n",
       "2                 10.0  train     NaN  \n",
       "3                 10.0  train     NaN  \n",
       "4                  7.0  train     NaN  "
      ]
     },
     "execution_count": 72,
     "metadata": {},
     "output_type": "execute_result"
    }
   ],
   "source": [
    "concat_df.head()"
   ]
  },
  {
   "cell_type": "code",
   "execution_count": 73,
   "metadata": {
    "collapsed": true
   },
   "outputs": [],
   "source": [
    "#Check the results of Age and Email changes.\n",
    "#concat_df.describe()"
   ]
  },
  {
   "cell_type": "code",
   "execution_count": 74,
   "metadata": {
    "collapsed": true
   },
   "outputs": [],
   "source": [
    "#What else is missing\n",
    "#concat_df.isnull().sum().sort_values(ascending=False)"
   ]
  },
  {
   "cell_type": "code",
   "execution_count": 75,
   "metadata": {},
   "outputs": [
    {
     "name": "stdout",
     "output_type": "stream",
     "text": [
      "\n",
      "Gender is fairly balanced, but some entries are inconsistently labeled.\n"
     ]
    },
    {
     "data": {
      "image/png": "[encoded data removed]",
      "text/plain": [
       "<matplotlib.figure.Figure at 0x1b9de3934a8>"
      ]
     },
     "metadata": {},
     "output_type": "display_data"
    }
   ],
   "source": [
    "#Check distribution of Gender to determine best way to fill missing\n",
    "groupby = concat_df.groupby(['Gender'])\n",
    "plt.figure()\n",
    "groupby['Gender'].aggregate(len).plot(kind='bar', grid=False)\n",
    "plt.axhline(0, color='k')\n",
    "print()\n",
    "print(\"Gender is fairly balanced, but some entries are inconsistently labeled.\")"
   ]
  },
  {
   "cell_type": "markdown",
   "metadata": {},
   "source": [
    "#### Gender dummies"
   ]
  },
  {
   "cell_type": "code",
   "execution_count": 76,
   "metadata": {},
   "outputs": [
    {
     "name": "stderr",
     "output_type": "stream",
     "text": [
      "C:\\Users\\byron\\Anaconda3\\lib\\site-packages\\pandas\\core\\indexing.py:179: SettingWithCopyWarning: \n",
      "A value is trying to be set on a copy of a slice from a DataFrame\n",
      "\n",
      "See the caveats in the documentation: http://pandas.pydata.org/pandas-docs/stable/indexing.html#indexing-view-versus-copy\n",
      "  self._setitem_with_indexer(indexer, value)\n"
     ]
    }
   ],
   "source": [
    "#Code missing genders as 'UNK' because the dataset has a fairly balanced Gender column.\n",
    "\n",
    "#Convert Female to 'F' and Male to 'M'.  These will be encoded later.\n",
    "concat_df.Gender.loc[train_df['Gender']=='Female'] = 'F'\n",
    "concat_df.Gender.loc[train_df['Gender']=='Male'] = 'M'\n",
    "\n",
    "#Create Gender Dummies\n",
    "gender_dummy = pd.get_dummies(concat_df['Gender'], prefix='Gender', dummy_na=True)\n",
    "\n",
    "#Concat Gender Dummies\n",
    "concat_df = pd.concat([concat_df,gender_dummy], axis=1)\n",
    "\n",
    "#drop original column\n",
    "del concat_df['Gender']"
   ]
  },
  {
   "cell_type": "code",
   "execution_count": 77,
   "metadata": {},
   "outputs": [
    {
     "data": {
      "text/html": [
       "<div>\n",
       "<style>\n",
       "    .dataframe thead tr:only-child th {\n",
       "        text-align: right;\n",
       "    }\n",
       "\n",
       "    .dataframe thead th {\n",
       "        text-align: left;\n",
       "    }\n",
       "\n",
       "    .dataframe tbody tr th {\n",
       "        vertical-align: top;\n",
       "    }\n",
       "</style>\n",
       "<table border=\"1\" class=\"dataframe\">\n",
       "  <thead>\n",
       "    <tr style=\"text-align: right;\">\n",
       "      <th></th>\n",
       "      <th>Age</th>\n",
       "      <th>Applicant State/Province</th>\n",
       "      <th>Emails</th>\n",
       "      <th>Lead Source</th>\n",
       "      <th>Neustar Result Code</th>\n",
       "      <th>label</th>\n",
       "      <th>target</th>\n",
       "      <th>Gender_F</th>\n",
       "      <th>Gender_Female</th>\n",
       "      <th>Gender_M</th>\n",
       "      <th>Gender_Male</th>\n",
       "      <th>Gender_nan</th>\n",
       "    </tr>\n",
       "  </thead>\n",
       "  <tbody>\n",
       "    <tr>\n",
       "      <th>0</th>\n",
       "      <td>76.0</td>\n",
       "      <td>OH</td>\n",
       "      <td>0.0</td>\n",
       "      <td>80</td>\n",
       "      <td>3.0</td>\n",
       "      <td>train</td>\n",
       "      <td>NaN</td>\n",
       "      <td>1</td>\n",
       "      <td>0</td>\n",
       "      <td>0</td>\n",
       "      <td>0</td>\n",
       "      <td>0</td>\n",
       "    </tr>\n",
       "    <tr>\n",
       "      <th>1</th>\n",
       "      <td>69.0</td>\n",
       "      <td>AZ</td>\n",
       "      <td>0.0</td>\n",
       "      <td>114</td>\n",
       "      <td>10.0</td>\n",
       "      <td>train</td>\n",
       "      <td>NaN</td>\n",
       "      <td>1</td>\n",
       "      <td>0</td>\n",
       "      <td>0</td>\n",
       "      <td>0</td>\n",
       "      <td>0</td>\n",
       "    </tr>\n",
       "    <tr>\n",
       "      <th>2</th>\n",
       "      <td>68.0</td>\n",
       "      <td>NV</td>\n",
       "      <td>0.0</td>\n",
       "      <td>6</td>\n",
       "      <td>10.0</td>\n",
       "      <td>train</td>\n",
       "      <td>NaN</td>\n",
       "      <td>0</td>\n",
       "      <td>0</td>\n",
       "      <td>1</td>\n",
       "      <td>0</td>\n",
       "      <td>0</td>\n",
       "    </tr>\n",
       "    <tr>\n",
       "      <th>3</th>\n",
       "      <td>73.0</td>\n",
       "      <td>OK</td>\n",
       "      <td>0.0</td>\n",
       "      <td>81</td>\n",
       "      <td>10.0</td>\n",
       "      <td>train</td>\n",
       "      <td>NaN</td>\n",
       "      <td>0</td>\n",
       "      <td>0</td>\n",
       "      <td>1</td>\n",
       "      <td>0</td>\n",
       "      <td>0</td>\n",
       "    </tr>\n",
       "    <tr>\n",
       "      <th>4</th>\n",
       "      <td>71.0</td>\n",
       "      <td>NV</td>\n",
       "      <td>0.0</td>\n",
       "      <td>81</td>\n",
       "      <td>7.0</td>\n",
       "      <td>train</td>\n",
       "      <td>NaN</td>\n",
       "      <td>1</td>\n",
       "      <td>0</td>\n",
       "      <td>0</td>\n",
       "      <td>0</td>\n",
       "      <td>0</td>\n",
       "    </tr>\n",
       "  </tbody>\n",
       "</table>\n",
       "</div>"
      ],
      "text/plain": [
       "    Age Applicant State/Province  Emails  Lead Source  Neustar Result Code  \\\n",
       "0  76.0                       OH     0.0           80                  3.0   \n",
       "1  69.0                       AZ     0.0          114                 10.0   \n",
       "2  68.0                       NV     0.0            6                 10.0   \n",
       "3  73.0                       OK     0.0           81                 10.0   \n",
       "4  71.0                       NV     0.0           81                  7.0   \n",
       "\n",
       "   label  target  Gender_F  Gender_Female  Gender_M  Gender_Male  Gender_nan  \n",
       "0  train     NaN         1              0         0            0           0  \n",
       "1  train     NaN         1              0         0            0           0  \n",
       "2  train     NaN         0              0         1            0           0  \n",
       "3  train     NaN         0              0         1            0           0  \n",
       "4  train     NaN         1              0         0            0           0  "
      ]
     },
     "execution_count": 77,
     "metadata": {},
     "output_type": "execute_result"
    }
   ],
   "source": [
    "concat_df.head()"
   ]
  },
  {
   "cell_type": "code",
   "execution_count": 78,
   "metadata": {},
   "outputs": [
    {
     "data": {
      "text/plain": [
       "target                      160855\n",
       "Neustar Result Code          11555\n",
       "Applicant State/Province      1328\n",
       "Gender_nan                       0\n",
       "Gender_Male                      0\n",
       "Gender_M                         0\n",
       "Gender_Female                    0\n",
       "Gender_F                         0\n",
       "label                            0\n",
       "Lead Source                      0\n",
       "Emails                           0\n",
       "Age                              0\n",
       "dtype: int64"
      ]
     },
     "execution_count": 78,
     "metadata": {},
     "output_type": "execute_result"
    }
   ],
   "source": [
    "#What else is missing\n",
    "concat_df.isnull().sum().sort_values(ascending=False)"
   ]
  },
  {
   "cell_type": "markdown",
   "metadata": {},
   "source": [
    "#### State Dummies"
   ]
  },
  {
   "cell_type": "code",
   "execution_count": 79,
   "metadata": {
    "collapsed": true
   },
   "outputs": [],
   "source": [
    "#No clear category to missing values.\n",
    "\n",
    "#Create Dummies\n",
    "dummy = pd.get_dummies(concat_df['Applicant State/Province'], prefix='STATE', dummy_na=True)\n",
    "\n",
    "#Concat Gender Dummies\n",
    "concat_df = pd.concat([concat_df,dummy], axis=1)\n",
    "\n",
    "#drop original column\n",
    "del concat_df['Applicant State/Province']\n",
    "\n",
    "#concat_df.head()"
   ]
  },
  {
   "cell_type": "code",
   "execution_count": 80,
   "metadata": {},
   "outputs": [
    {
     "data": {
      "text/plain": [
       " 10.0    109951\n",
       " 1.0      15554\n",
       " 7.0      14004\n",
       " 5.0      13862\n",
       "NaN       11555\n",
       " 3.0       6473\n",
       " 0.0        583\n",
       "Name: Neustar Result Code, dtype: int64"
      ]
     },
     "execution_count": 80,
     "metadata": {},
     "output_type": "execute_result"
    }
   ],
   "source": [
    "concat_df['Neustar Result Code'].value_counts(dropna=False)"
   ]
  },
  {
   "cell_type": "markdown",
   "metadata": {},
   "source": [
    "#### Neustar dummies"
   ]
  },
  {
   "cell_type": "code",
   "execution_count": 81,
   "metadata": {},
   "outputs": [
    {
     "data": {
      "text/html": [
       "<div>\n",
       "<style>\n",
       "    .dataframe thead tr:only-child th {\n",
       "        text-align: right;\n",
       "    }\n",
       "\n",
       "    .dataframe thead th {\n",
       "        text-align: left;\n",
       "    }\n",
       "\n",
       "    .dataframe tbody tr th {\n",
       "        vertical-align: top;\n",
       "    }\n",
       "</style>\n",
       "<table border=\"1\" class=\"dataframe\">\n",
       "  <thead>\n",
       "    <tr style=\"text-align: right;\">\n",
       "      <th></th>\n",
       "      <th>Age</th>\n",
       "      <th>Emails</th>\n",
       "      <th>Lead Source</th>\n",
       "      <th>label</th>\n",
       "      <th>target</th>\n",
       "      <th>Gender_F</th>\n",
       "      <th>Gender_Female</th>\n",
       "      <th>Gender_M</th>\n",
       "      <th>Gender_Male</th>\n",
       "      <th>Gender_nan</th>\n",
       "      <th>...</th>\n",
       "      <th>STATE_WV</th>\n",
       "      <th>STATE_WY</th>\n",
       "      <th>STATE_nan</th>\n",
       "      <th>Neustar_0.0</th>\n",
       "      <th>Neustar_1.0</th>\n",
       "      <th>Neustar_3.0</th>\n",
       "      <th>Neustar_5.0</th>\n",
       "      <th>Neustar_7.0</th>\n",
       "      <th>Neustar_10.0</th>\n",
       "      <th>Neustar_nan</th>\n",
       "    </tr>\n",
       "  </thead>\n",
       "  <tbody>\n",
       "    <tr>\n",
       "      <th>0</th>\n",
       "      <td>76.0</td>\n",
       "      <td>0.0</td>\n",
       "      <td>80</td>\n",
       "      <td>train</td>\n",
       "      <td>NaN</td>\n",
       "      <td>1</td>\n",
       "      <td>0</td>\n",
       "      <td>0</td>\n",
       "      <td>0</td>\n",
       "      <td>0</td>\n",
       "      <td>...</td>\n",
       "      <td>0</td>\n",
       "      <td>0</td>\n",
       "      <td>0</td>\n",
       "      <td>0</td>\n",
       "      <td>0</td>\n",
       "      <td>1</td>\n",
       "      <td>0</td>\n",
       "      <td>0</td>\n",
       "      <td>0</td>\n",
       "      <td>0</td>\n",
       "    </tr>\n",
       "    <tr>\n",
       "      <th>1</th>\n",
       "      <td>69.0</td>\n",
       "      <td>0.0</td>\n",
       "      <td>114</td>\n",
       "      <td>train</td>\n",
       "      <td>NaN</td>\n",
       "      <td>1</td>\n",
       "      <td>0</td>\n",
       "      <td>0</td>\n",
       "      <td>0</td>\n",
       "      <td>0</td>\n",
       "      <td>...</td>\n",
       "      <td>0</td>\n",
       "      <td>0</td>\n",
       "      <td>0</td>\n",
       "      <td>0</td>\n",
       "      <td>0</td>\n",
       "      <td>0</td>\n",
       "      <td>0</td>\n",
       "      <td>0</td>\n",
       "      <td>1</td>\n",
       "      <td>0</td>\n",
       "    </tr>\n",
       "    <tr>\n",
       "      <th>2</th>\n",
       "      <td>68.0</td>\n",
       "      <td>0.0</td>\n",
       "      <td>6</td>\n",
       "      <td>train</td>\n",
       "      <td>NaN</td>\n",
       "      <td>0</td>\n",
       "      <td>0</td>\n",
       "      <td>1</td>\n",
       "      <td>0</td>\n",
       "      <td>0</td>\n",
       "      <td>...</td>\n",
       "      <td>0</td>\n",
       "      <td>0</td>\n",
       "      <td>0</td>\n",
       "      <td>0</td>\n",
       "      <td>0</td>\n",
       "      <td>0</td>\n",
       "      <td>0</td>\n",
       "      <td>0</td>\n",
       "      <td>1</td>\n",
       "      <td>0</td>\n",
       "    </tr>\n",
       "    <tr>\n",
       "      <th>3</th>\n",
       "      <td>73.0</td>\n",
       "      <td>0.0</td>\n",
       "      <td>81</td>\n",
       "      <td>train</td>\n",
       "      <td>NaN</td>\n",
       "      <td>0</td>\n",
       "      <td>0</td>\n",
       "      <td>1</td>\n",
       "      <td>0</td>\n",
       "      <td>0</td>\n",
       "      <td>...</td>\n",
       "      <td>0</td>\n",
       "      <td>0</td>\n",
       "      <td>0</td>\n",
       "      <td>0</td>\n",
       "      <td>0</td>\n",
       "      <td>0</td>\n",
       "      <td>0</td>\n",
       "      <td>0</td>\n",
       "      <td>1</td>\n",
       "      <td>0</td>\n",
       "    </tr>\n",
       "    <tr>\n",
       "      <th>4</th>\n",
       "      <td>71.0</td>\n",
       "      <td>0.0</td>\n",
       "      <td>81</td>\n",
       "      <td>train</td>\n",
       "      <td>NaN</td>\n",
       "      <td>1</td>\n",
       "      <td>0</td>\n",
       "      <td>0</td>\n",
       "      <td>0</td>\n",
       "      <td>0</td>\n",
       "      <td>...</td>\n",
       "      <td>0</td>\n",
       "      <td>0</td>\n",
       "      <td>0</td>\n",
       "      <td>0</td>\n",
       "      <td>0</td>\n",
       "      <td>0</td>\n",
       "      <td>0</td>\n",
       "      <td>1</td>\n",
       "      <td>0</td>\n",
       "      <td>0</td>\n",
       "    </tr>\n",
       "  </tbody>\n",
       "</table>\n",
       "<p>5 rows × 69 columns</p>\n",
       "</div>"
      ],
      "text/plain": [
       "    Age  Emails  Lead Source  label  target  Gender_F  Gender_Female  \\\n",
       "0  76.0     0.0           80  train     NaN         1              0   \n",
       "1  69.0     0.0          114  train     NaN         1              0   \n",
       "2  68.0     0.0            6  train     NaN         0              0   \n",
       "3  73.0     0.0           81  train     NaN         0              0   \n",
       "4  71.0     0.0           81  train     NaN         1              0   \n",
       "\n",
       "   Gender_M  Gender_Male  Gender_nan     ...       STATE_WV  STATE_WY  \\\n",
       "0         0            0           0     ...              0         0   \n",
       "1         0            0           0     ...              0         0   \n",
       "2         1            0           0     ...              0         0   \n",
       "3         1            0           0     ...              0         0   \n",
       "4         0            0           0     ...              0         0   \n",
       "\n",
       "   STATE_nan  Neustar_0.0  Neustar_1.0  Neustar_3.0  Neustar_5.0  Neustar_7.0  \\\n",
       "0          0            0            0            1            0            0   \n",
       "1          0            0            0            0            0            0   \n",
       "2          0            0            0            0            0            0   \n",
       "3          0            0            0            0            0            0   \n",
       "4          0            0            0            0            0            1   \n",
       "\n",
       "   Neustar_10.0  Neustar_nan  \n",
       "0             0            0  \n",
       "1             1            0  \n",
       "2             1            0  \n",
       "3             1            0  \n",
       "4             0            0  \n",
       "\n",
       "[5 rows x 69 columns]"
      ]
     },
     "execution_count": 81,
     "metadata": {},
     "output_type": "execute_result"
    }
   ],
   "source": [
    "#No clear category to missing values.  Code Neustar Nan as UNK\n",
    "\n",
    "#Create Dummies\n",
    "dummy = pd.get_dummies(concat_df['Neustar Result Code'], prefix='Neustar', dummy_na=True)\n",
    "\n",
    "#Concat Gender Dummies\n",
    "concat_df = pd.concat([concat_df,dummy], axis=1)\n",
    "\n",
    "#drop original column\n",
    "del concat_df['Neustar Result Code']\n",
    "\n",
    "concat_df.head()"
   ]
  },
  {
   "cell_type": "code",
   "execution_count": 82,
   "metadata": {
    "collapsed": true
   },
   "outputs": [],
   "source": [
    "#concat_df['Lead Source'].value_counts(dropna=False).head()"
   ]
  },
  {
   "cell_type": "markdown",
   "metadata": {},
   "source": [
    "## Lead Source Dummies"
   ]
  },
  {
   "cell_type": "code",
   "execution_count": 83,
   "metadata": {},
   "outputs": [
    {
     "data": {
      "text/html": [
       "<div>\n",
       "<style>\n",
       "    .dataframe thead tr:only-child th {\n",
       "        text-align: right;\n",
       "    }\n",
       "\n",
       "    .dataframe thead th {\n",
       "        text-align: left;\n",
       "    }\n",
       "\n",
       "    .dataframe tbody tr th {\n",
       "        vertical-align: top;\n",
       "    }\n",
       "</style>\n",
       "<table border=\"1\" class=\"dataframe\">\n",
       "  <thead>\n",
       "    <tr style=\"text-align: right;\">\n",
       "      <th></th>\n",
       "      <th>Age</th>\n",
       "      <th>Emails</th>\n",
       "      <th>label</th>\n",
       "      <th>target</th>\n",
       "      <th>Gender_F</th>\n",
       "      <th>Gender_Female</th>\n",
       "      <th>Gender_M</th>\n",
       "      <th>Gender_Male</th>\n",
       "      <th>Gender_nan</th>\n",
       "      <th>STATE_AK</th>\n",
       "      <th>...</th>\n",
       "      <th>Lead_179.0</th>\n",
       "      <th>Lead_180.0</th>\n",
       "      <th>Lead_181.0</th>\n",
       "      <th>Lead_182.0</th>\n",
       "      <th>Lead_183.0</th>\n",
       "      <th>Lead_184.0</th>\n",
       "      <th>Lead_185.0</th>\n",
       "      <th>Lead_186.0</th>\n",
       "      <th>Lead_187.0</th>\n",
       "      <th>Lead_nan</th>\n",
       "    </tr>\n",
       "  </thead>\n",
       "  <tbody>\n",
       "    <tr>\n",
       "      <th>0</th>\n",
       "      <td>76.0</td>\n",
       "      <td>0.0</td>\n",
       "      <td>train</td>\n",
       "      <td>NaN</td>\n",
       "      <td>1</td>\n",
       "      <td>0</td>\n",
       "      <td>0</td>\n",
       "      <td>0</td>\n",
       "      <td>0</td>\n",
       "      <td>0</td>\n",
       "      <td>...</td>\n",
       "      <td>0</td>\n",
       "      <td>0</td>\n",
       "      <td>0</td>\n",
       "      <td>0</td>\n",
       "      <td>0</td>\n",
       "      <td>0</td>\n",
       "      <td>0</td>\n",
       "      <td>0</td>\n",
       "      <td>0</td>\n",
       "      <td>0</td>\n",
       "    </tr>\n",
       "    <tr>\n",
       "      <th>1</th>\n",
       "      <td>69.0</td>\n",
       "      <td>0.0</td>\n",
       "      <td>train</td>\n",
       "      <td>NaN</td>\n",
       "      <td>1</td>\n",
       "      <td>0</td>\n",
       "      <td>0</td>\n",
       "      <td>0</td>\n",
       "      <td>0</td>\n",
       "      <td>0</td>\n",
       "      <td>...</td>\n",
       "      <td>0</td>\n",
       "      <td>0</td>\n",
       "      <td>0</td>\n",
       "      <td>0</td>\n",
       "      <td>0</td>\n",
       "      <td>0</td>\n",
       "      <td>0</td>\n",
       "      <td>0</td>\n",
       "      <td>0</td>\n",
       "      <td>0</td>\n",
       "    </tr>\n",
       "    <tr>\n",
       "      <th>2</th>\n",
       "      <td>68.0</td>\n",
       "      <td>0.0</td>\n",
       "      <td>train</td>\n",
       "      <td>NaN</td>\n",
       "      <td>0</td>\n",
       "      <td>0</td>\n",
       "      <td>1</td>\n",
       "      <td>0</td>\n",
       "      <td>0</td>\n",
       "      <td>0</td>\n",
       "      <td>...</td>\n",
       "      <td>0</td>\n",
       "      <td>0</td>\n",
       "      <td>0</td>\n",
       "      <td>0</td>\n",
       "      <td>0</td>\n",
       "      <td>0</td>\n",
       "      <td>0</td>\n",
       "      <td>0</td>\n",
       "      <td>0</td>\n",
       "      <td>0</td>\n",
       "    </tr>\n",
       "    <tr>\n",
       "      <th>3</th>\n",
       "      <td>73.0</td>\n",
       "      <td>0.0</td>\n",
       "      <td>train</td>\n",
       "      <td>NaN</td>\n",
       "      <td>0</td>\n",
       "      <td>0</td>\n",
       "      <td>1</td>\n",
       "      <td>0</td>\n",
       "      <td>0</td>\n",
       "      <td>0</td>\n",
       "      <td>...</td>\n",
       "      <td>0</td>\n",
       "      <td>0</td>\n",
       "      <td>0</td>\n",
       "      <td>0</td>\n",
       "      <td>0</td>\n",
       "      <td>0</td>\n",
       "      <td>0</td>\n",
       "      <td>0</td>\n",
       "      <td>0</td>\n",
       "      <td>0</td>\n",
       "    </tr>\n",
       "    <tr>\n",
       "      <th>4</th>\n",
       "      <td>71.0</td>\n",
       "      <td>0.0</td>\n",
       "      <td>train</td>\n",
       "      <td>NaN</td>\n",
       "      <td>1</td>\n",
       "      <td>0</td>\n",
       "      <td>0</td>\n",
       "      <td>0</td>\n",
       "      <td>0</td>\n",
       "      <td>0</td>\n",
       "      <td>...</td>\n",
       "      <td>0</td>\n",
       "      <td>0</td>\n",
       "      <td>0</td>\n",
       "      <td>0</td>\n",
       "      <td>0</td>\n",
       "      <td>0</td>\n",
       "      <td>0</td>\n",
       "      <td>0</td>\n",
       "      <td>0</td>\n",
       "      <td>0</td>\n",
       "    </tr>\n",
       "  </tbody>\n",
       "</table>\n",
       "<p>5 rows × 257 columns</p>\n",
       "</div>"
      ],
      "text/plain": [
       "    Age  Emails  label  target  Gender_F  Gender_Female  Gender_M  \\\n",
       "0  76.0     0.0  train     NaN         1              0         0   \n",
       "1  69.0     0.0  train     NaN         1              0         0   \n",
       "2  68.0     0.0  train     NaN         0              0         1   \n",
       "3  73.0     0.0  train     NaN         0              0         1   \n",
       "4  71.0     0.0  train     NaN         1              0         0   \n",
       "\n",
       "   Gender_Male  Gender_nan  STATE_AK    ...     Lead_179.0  Lead_180.0  \\\n",
       "0            0           0         0    ...              0           0   \n",
       "1            0           0         0    ...              0           0   \n",
       "2            0           0         0    ...              0           0   \n",
       "3            0           0         0    ...              0           0   \n",
       "4            0           0         0    ...              0           0   \n",
       "\n",
       "   Lead_181.0  Lead_182.0  Lead_183.0  Lead_184.0  Lead_185.0  Lead_186.0  \\\n",
       "0           0           0           0           0           0           0   \n",
       "1           0           0           0           0           0           0   \n",
       "2           0           0           0           0           0           0   \n",
       "3           0           0           0           0           0           0   \n",
       "4           0           0           0           0           0           0   \n",
       "\n",
       "   Lead_187.0  Lead_nan  \n",
       "0           0         0  \n",
       "1           0         0  \n",
       "2           0         0  \n",
       "3           0         0  \n",
       "4           0         0  \n",
       "\n",
       "[5 rows x 257 columns]"
      ]
     },
     "execution_count": 83,
     "metadata": {},
     "output_type": "execute_result"
    }
   ],
   "source": [
    "#Create dummies Lead Source.  Determined that Lead Source 113 was the only lead source correlated to the target.\n",
    "\n",
    "#Create Dummies\n",
    "dummy = pd.get_dummies(concat_df['Lead Source'], prefix='Lead', dummy_na=True)\n",
    "\n",
    "#Concat Dummies\n",
    "concat_df = pd.concat([concat_df, dummy], axis=1)\n",
    "\n",
    "#drop original column\n",
    "del concat_df['Lead Source']\n",
    "\n",
    "concat_df.head()"
   ]
  },
  {
   "cell_type": "markdown",
   "metadata": {},
   "source": [
    "## Normalize Columns"
   ]
  },
  {
   "cell_type": "code",
   "execution_count": 84,
   "metadata": {},
   "outputs": [
    {
     "data": {
      "text/plain": [
       "count    171982.000000\n",
       "mean          0.012349\n",
       "std           0.041464\n",
       "min           0.000000\n",
       "25%           0.000000\n",
       "50%           0.000000\n",
       "75%           0.000000\n",
       "max           1.000000\n",
       "Name: Emails, dtype: float64"
      ]
     },
     "execution_count": 84,
     "metadata": {},
     "output_type": "execute_result"
    }
   ],
   "source": [
    "#Normalize Age and Emails.  Going to use min/max scale so the values are within the same range as dummies.\n",
    "\n",
    "concat_df.Age = (concat_df.Age - concat_df.Age.min(axis=0)) / (concat_df.Age.max(axis=0) - concat_df.Age.min(axis=0))\n",
    "concat_df.Emails = (concat_df.Emails - concat_df.Emails.min(axis=0)) / (concat_df.Emails.max(axis=0) - concat_df.Emails.min(axis=0))\n",
    "\n",
    "#check transformations\n",
    "concat_df.Age.describe()\n",
    "concat_df.Emails.describe()"
   ]
  },
  {
   "cell_type": "markdown",
   "metadata": {},
   "source": [
    "## Split Data Sets"
   ]
  },
  {
   "cell_type": "code",
   "execution_count": 85,
   "metadata": {},
   "outputs": [
    {
     "data": {
      "text/html": [
       "<div>\n",
       "<style>\n",
       "    .dataframe thead tr:only-child th {\n",
       "        text-align: right;\n",
       "    }\n",
       "\n",
       "    .dataframe thead th {\n",
       "        text-align: left;\n",
       "    }\n",
       "\n",
       "    .dataframe tbody tr th {\n",
       "        vertical-align: top;\n",
       "    }\n",
       "</style>\n",
       "<table border=\"1\" class=\"dataframe\">\n",
       "  <thead>\n",
       "    <tr style=\"text-align: right;\">\n",
       "      <th></th>\n",
       "      <th>Age</th>\n",
       "      <th>Emails</th>\n",
       "      <th>target</th>\n",
       "      <th>Gender_F</th>\n",
       "      <th>Gender_Female</th>\n",
       "      <th>Gender_M</th>\n",
       "      <th>Gender_Male</th>\n",
       "      <th>Gender_nan</th>\n",
       "      <th>STATE_AK</th>\n",
       "      <th>STATE_AL</th>\n",
       "      <th>...</th>\n",
       "      <th>Lead_179.0</th>\n",
       "      <th>Lead_180.0</th>\n",
       "      <th>Lead_181.0</th>\n",
       "      <th>Lead_182.0</th>\n",
       "      <th>Lead_183.0</th>\n",
       "      <th>Lead_184.0</th>\n",
       "      <th>Lead_185.0</th>\n",
       "      <th>Lead_186.0</th>\n",
       "      <th>Lead_187.0</th>\n",
       "      <th>Lead_nan</th>\n",
       "    </tr>\n",
       "  </thead>\n",
       "  <tbody>\n",
       "    <tr>\n",
       "      <th>0</th>\n",
       "      <td>0.833333</td>\n",
       "      <td>0.0</td>\n",
       "      <td>NaN</td>\n",
       "      <td>1</td>\n",
       "      <td>0</td>\n",
       "      <td>0</td>\n",
       "      <td>0</td>\n",
       "      <td>0</td>\n",
       "      <td>0</td>\n",
       "      <td>0</td>\n",
       "      <td>...</td>\n",
       "      <td>0</td>\n",
       "      <td>0</td>\n",
       "      <td>0</td>\n",
       "      <td>0</td>\n",
       "      <td>0</td>\n",
       "      <td>0</td>\n",
       "      <td>0</td>\n",
       "      <td>0</td>\n",
       "      <td>0</td>\n",
       "      <td>0</td>\n",
       "    </tr>\n",
       "    <tr>\n",
       "      <th>1</th>\n",
       "      <td>0.727273</td>\n",
       "      <td>0.0</td>\n",
       "      <td>NaN</td>\n",
       "      <td>1</td>\n",
       "      <td>0</td>\n",
       "      <td>0</td>\n",
       "      <td>0</td>\n",
       "      <td>0</td>\n",
       "      <td>0</td>\n",
       "      <td>0</td>\n",
       "      <td>...</td>\n",
       "      <td>0</td>\n",
       "      <td>0</td>\n",
       "      <td>0</td>\n",
       "      <td>0</td>\n",
       "      <td>0</td>\n",
       "      <td>0</td>\n",
       "      <td>0</td>\n",
       "      <td>0</td>\n",
       "      <td>0</td>\n",
       "      <td>0</td>\n",
       "    </tr>\n",
       "    <tr>\n",
       "      <th>2</th>\n",
       "      <td>0.712121</td>\n",
       "      <td>0.0</td>\n",
       "      <td>NaN</td>\n",
       "      <td>0</td>\n",
       "      <td>0</td>\n",
       "      <td>1</td>\n",
       "      <td>0</td>\n",
       "      <td>0</td>\n",
       "      <td>0</td>\n",
       "      <td>0</td>\n",
       "      <td>...</td>\n",
       "      <td>0</td>\n",
       "      <td>0</td>\n",
       "      <td>0</td>\n",
       "      <td>0</td>\n",
       "      <td>0</td>\n",
       "      <td>0</td>\n",
       "      <td>0</td>\n",
       "      <td>0</td>\n",
       "      <td>0</td>\n",
       "      <td>0</td>\n",
       "    </tr>\n",
       "    <tr>\n",
       "      <th>3</th>\n",
       "      <td>0.787879</td>\n",
       "      <td>0.0</td>\n",
       "      <td>NaN</td>\n",
       "      <td>0</td>\n",
       "      <td>0</td>\n",
       "      <td>1</td>\n",
       "      <td>0</td>\n",
       "      <td>0</td>\n",
       "      <td>0</td>\n",
       "      <td>0</td>\n",
       "      <td>...</td>\n",
       "      <td>0</td>\n",
       "      <td>0</td>\n",
       "      <td>0</td>\n",
       "      <td>0</td>\n",
       "      <td>0</td>\n",
       "      <td>0</td>\n",
       "      <td>0</td>\n",
       "      <td>0</td>\n",
       "      <td>0</td>\n",
       "      <td>0</td>\n",
       "    </tr>\n",
       "    <tr>\n",
       "      <th>4</th>\n",
       "      <td>0.757576</td>\n",
       "      <td>0.0</td>\n",
       "      <td>NaN</td>\n",
       "      <td>1</td>\n",
       "      <td>0</td>\n",
       "      <td>0</td>\n",
       "      <td>0</td>\n",
       "      <td>0</td>\n",
       "      <td>0</td>\n",
       "      <td>0</td>\n",
       "      <td>...</td>\n",
       "      <td>0</td>\n",
       "      <td>0</td>\n",
       "      <td>0</td>\n",
       "      <td>0</td>\n",
       "      <td>0</td>\n",
       "      <td>0</td>\n",
       "      <td>0</td>\n",
       "      <td>0</td>\n",
       "      <td>0</td>\n",
       "      <td>0</td>\n",
       "    </tr>\n",
       "  </tbody>\n",
       "</table>\n",
       "<p>5 rows × 256 columns</p>\n",
       "</div>"
      ],
      "text/plain": [
       "        Age  Emails  target  Gender_F  Gender_Female  Gender_M  Gender_Male  \\\n",
       "0  0.833333     0.0     NaN         1              0         0            0   \n",
       "1  0.727273     0.0     NaN         1              0         0            0   \n",
       "2  0.712121     0.0     NaN         0              0         1            0   \n",
       "3  0.787879     0.0     NaN         0              0         1            0   \n",
       "4  0.757576     0.0     NaN         1              0         0            0   \n",
       "\n",
       "   Gender_nan  STATE_AK  STATE_AL    ...     Lead_179.0  Lead_180.0  \\\n",
       "0           0         0         0    ...              0           0   \n",
       "1           0         0         0    ...              0           0   \n",
       "2           0         0         0    ...              0           0   \n",
       "3           0         0         0    ...              0           0   \n",
       "4           0         0         0    ...              0           0   \n",
       "\n",
       "   Lead_181.0  Lead_182.0  Lead_183.0  Lead_184.0  Lead_185.0  Lead_186.0  \\\n",
       "0           0           0           0           0           0           0   \n",
       "1           0           0           0           0           0           0   \n",
       "2           0           0           0           0           0           0   \n",
       "3           0           0           0           0           0           0   \n",
       "4           0           0           0           0           0           0   \n",
       "\n",
       "   Lead_187.0  Lead_nan  \n",
       "0           0         0  \n",
       "1           0         0  \n",
       "2           0         0  \n",
       "3           0         0  \n",
       "4           0         0  \n",
       "\n",
       "[5 rows x 256 columns]"
      ]
     },
     "execution_count": 85,
     "metadata": {},
     "output_type": "execute_result"
    }
   ],
   "source": [
    "#split files\n",
    "train_df = concat_df[concat_df['label'] == 'train']\n",
    "holdout_df = concat_df[concat_df['label'] == 'holdout']\n",
    "\n",
    "#drop labels\n",
    "train_df = train_df.drop('label', axis=1)\n",
    "holdout_df = holdout_df.drop('label', axis=1)\n",
    "holdout_df = holdout_df.drop('target',axis=1)\n",
    "\n",
    "#check results\n",
    "train_df.head()"
   ]
  },
  {
   "cell_type": "code",
   "execution_count": 86,
   "metadata": {},
   "outputs": [
    {
     "data": {
      "text/html": [
       "<div>\n",
       "<style>\n",
       "    .dataframe thead tr:only-child th {\n",
       "        text-align: right;\n",
       "    }\n",
       "\n",
       "    .dataframe thead th {\n",
       "        text-align: left;\n",
       "    }\n",
       "\n",
       "    .dataframe tbody tr th {\n",
       "        vertical-align: top;\n",
       "    }\n",
       "</style>\n",
       "<table border=\"1\" class=\"dataframe\">\n",
       "  <thead>\n",
       "    <tr style=\"text-align: right;\">\n",
       "      <th></th>\n",
       "      <th>Age</th>\n",
       "      <th>Emails</th>\n",
       "      <th>Gender_F</th>\n",
       "      <th>Gender_Female</th>\n",
       "      <th>Gender_M</th>\n",
       "      <th>Gender_Male</th>\n",
       "      <th>Gender_nan</th>\n",
       "      <th>STATE_AK</th>\n",
       "      <th>STATE_AL</th>\n",
       "      <th>STATE_AR</th>\n",
       "      <th>...</th>\n",
       "      <th>Lead_179.0</th>\n",
       "      <th>Lead_180.0</th>\n",
       "      <th>Lead_181.0</th>\n",
       "      <th>Lead_182.0</th>\n",
       "      <th>Lead_183.0</th>\n",
       "      <th>Lead_184.0</th>\n",
       "      <th>Lead_185.0</th>\n",
       "      <th>Lead_186.0</th>\n",
       "      <th>Lead_187.0</th>\n",
       "      <th>Lead_nan</th>\n",
       "    </tr>\n",
       "  </thead>\n",
       "  <tbody>\n",
       "    <tr>\n",
       "      <th>0</th>\n",
       "      <td>0.803030</td>\n",
       "      <td>0.000000</td>\n",
       "      <td>1</td>\n",
       "      <td>0</td>\n",
       "      <td>0</td>\n",
       "      <td>0</td>\n",
       "      <td>0</td>\n",
       "      <td>0</td>\n",
       "      <td>0</td>\n",
       "      <td>0</td>\n",
       "      <td>...</td>\n",
       "      <td>0</td>\n",
       "      <td>0</td>\n",
       "      <td>0</td>\n",
       "      <td>0</td>\n",
       "      <td>0</td>\n",
       "      <td>0</td>\n",
       "      <td>0</td>\n",
       "      <td>0</td>\n",
       "      <td>0</td>\n",
       "      <td>0</td>\n",
       "    </tr>\n",
       "    <tr>\n",
       "      <th>1</th>\n",
       "      <td>0.727273</td>\n",
       "      <td>0.166667</td>\n",
       "      <td>1</td>\n",
       "      <td>0</td>\n",
       "      <td>0</td>\n",
       "      <td>0</td>\n",
       "      <td>0</td>\n",
       "      <td>0</td>\n",
       "      <td>0</td>\n",
       "      <td>0</td>\n",
       "      <td>...</td>\n",
       "      <td>0</td>\n",
       "      <td>0</td>\n",
       "      <td>0</td>\n",
       "      <td>0</td>\n",
       "      <td>0</td>\n",
       "      <td>0</td>\n",
       "      <td>0</td>\n",
       "      <td>0</td>\n",
       "      <td>0</td>\n",
       "      <td>0</td>\n",
       "    </tr>\n",
       "    <tr>\n",
       "      <th>2</th>\n",
       "      <td>0.681818</td>\n",
       "      <td>0.000000</td>\n",
       "      <td>0</td>\n",
       "      <td>0</td>\n",
       "      <td>1</td>\n",
       "      <td>0</td>\n",
       "      <td>0</td>\n",
       "      <td>0</td>\n",
       "      <td>0</td>\n",
       "      <td>0</td>\n",
       "      <td>...</td>\n",
       "      <td>0</td>\n",
       "      <td>0</td>\n",
       "      <td>0</td>\n",
       "      <td>0</td>\n",
       "      <td>0</td>\n",
       "      <td>0</td>\n",
       "      <td>0</td>\n",
       "      <td>0</td>\n",
       "      <td>0</td>\n",
       "      <td>0</td>\n",
       "    </tr>\n",
       "    <tr>\n",
       "      <th>3</th>\n",
       "      <td>0.681818</td>\n",
       "      <td>0.083333</td>\n",
       "      <td>0</td>\n",
       "      <td>0</td>\n",
       "      <td>1</td>\n",
       "      <td>0</td>\n",
       "      <td>0</td>\n",
       "      <td>0</td>\n",
       "      <td>0</td>\n",
       "      <td>0</td>\n",
       "      <td>...</td>\n",
       "      <td>0</td>\n",
       "      <td>0</td>\n",
       "      <td>0</td>\n",
       "      <td>0</td>\n",
       "      <td>0</td>\n",
       "      <td>0</td>\n",
       "      <td>0</td>\n",
       "      <td>0</td>\n",
       "      <td>0</td>\n",
       "      <td>0</td>\n",
       "    </tr>\n",
       "    <tr>\n",
       "      <th>4</th>\n",
       "      <td>0.666667</td>\n",
       "      <td>0.000000</td>\n",
       "      <td>1</td>\n",
       "      <td>0</td>\n",
       "      <td>0</td>\n",
       "      <td>0</td>\n",
       "      <td>0</td>\n",
       "      <td>0</td>\n",
       "      <td>0</td>\n",
       "      <td>0</td>\n",
       "      <td>...</td>\n",
       "      <td>0</td>\n",
       "      <td>0</td>\n",
       "      <td>0</td>\n",
       "      <td>0</td>\n",
       "      <td>0</td>\n",
       "      <td>0</td>\n",
       "      <td>0</td>\n",
       "      <td>0</td>\n",
       "      <td>0</td>\n",
       "      <td>0</td>\n",
       "    </tr>\n",
       "  </tbody>\n",
       "</table>\n",
       "<p>5 rows × 255 columns</p>\n",
       "</div>"
      ],
      "text/plain": [
       "        Age    Emails  Gender_F  Gender_Female  Gender_M  Gender_Male  \\\n",
       "0  0.803030  0.000000         1              0         0            0   \n",
       "1  0.727273  0.166667         1              0         0            0   \n",
       "2  0.681818  0.000000         0              0         1            0   \n",
       "3  0.681818  0.083333         0              0         1            0   \n",
       "4  0.666667  0.000000         1              0         0            0   \n",
       "\n",
       "   Gender_nan  STATE_AK  STATE_AL  STATE_AR    ...     Lead_179.0  Lead_180.0  \\\n",
       "0           0         0         0         0    ...              0           0   \n",
       "1           0         0         0         0    ...              0           0   \n",
       "2           0         0         0         0    ...              0           0   \n",
       "3           0         0         0         0    ...              0           0   \n",
       "4           0         0         0         0    ...              0           0   \n",
       "\n",
       "   Lead_181.0  Lead_182.0  Lead_183.0  Lead_184.0  Lead_185.0  Lead_186.0  \\\n",
       "0           0           0           0           0           0           0   \n",
       "1           0           0           0           0           0           0   \n",
       "2           0           0           0           0           0           0   \n",
       "3           0           0           0           0           0           0   \n",
       "4           0           0           0           0           0           0   \n",
       "\n",
       "   Lead_187.0  Lead_nan  \n",
       "0           0         0  \n",
       "1           0         0  \n",
       "2           0         0  \n",
       "3           0         0  \n",
       "4           0         0  \n",
       "\n",
       "[5 rows x 255 columns]"
      ]
     },
     "execution_count": 86,
     "metadata": {},
     "output_type": "execute_result"
    }
   ],
   "source": [
    "#check holdout set\n",
    "holdout_df.head()"
   ]
  },
  {
   "cell_type": "markdown",
   "metadata": {},
   "source": [
    "## Check Target Distribution"
   ]
  },
  {
   "cell_type": "markdown",
   "metadata": {},
   "source": [
    "## Replace Target NaN w/ 0"
   ]
  },
  {
   "cell_type": "code",
   "execution_count": 87,
   "metadata": {},
   "outputs": [
    {
     "name": "stderr",
     "output_type": "stream",
     "text": [
      "C:\\Users\\byron\\Anaconda3\\lib\\site-packages\\pandas\\core\\indexing.py:179: SettingWithCopyWarning: \n",
      "A value is trying to be set on a copy of a slice from a DataFrame\n",
      "\n",
      "See the caveats in the documentation: http://pandas.pydata.org/pandas-docs/stable/indexing.html#indexing-view-versus-copy\n",
      "  self._setitem_with_indexer(indexer, value)\n"
     ]
    },
    {
     "data": {
      "text/html": [
       "<div>\n",
       "<style>\n",
       "    .dataframe thead tr:only-child th {\n",
       "        text-align: right;\n",
       "    }\n",
       "\n",
       "    .dataframe thead th {\n",
       "        text-align: left;\n",
       "    }\n",
       "\n",
       "    .dataframe tbody tr th {\n",
       "        vertical-align: top;\n",
       "    }\n",
       "</style>\n",
       "<table border=\"1\" class=\"dataframe\">\n",
       "  <thead>\n",
       "    <tr style=\"text-align: right;\">\n",
       "      <th></th>\n",
       "      <th>Age</th>\n",
       "      <th>Emails</th>\n",
       "      <th>target</th>\n",
       "      <th>Gender_F</th>\n",
       "      <th>Gender_Female</th>\n",
       "      <th>Gender_M</th>\n",
       "      <th>Gender_Male</th>\n",
       "      <th>Gender_nan</th>\n",
       "      <th>STATE_AK</th>\n",
       "      <th>STATE_AL</th>\n",
       "      <th>...</th>\n",
       "      <th>Lead_179.0</th>\n",
       "      <th>Lead_180.0</th>\n",
       "      <th>Lead_181.0</th>\n",
       "      <th>Lead_182.0</th>\n",
       "      <th>Lead_183.0</th>\n",
       "      <th>Lead_184.0</th>\n",
       "      <th>Lead_185.0</th>\n",
       "      <th>Lead_186.0</th>\n",
       "      <th>Lead_187.0</th>\n",
       "      <th>Lead_nan</th>\n",
       "    </tr>\n",
       "  </thead>\n",
       "  <tbody>\n",
       "    <tr>\n",
       "      <th>137799</th>\n",
       "      <td>0.681818</td>\n",
       "      <td>0.0</td>\n",
       "      <td>0.0</td>\n",
       "      <td>0</td>\n",
       "      <td>0</td>\n",
       "      <td>1</td>\n",
       "      <td>0</td>\n",
       "      <td>0</td>\n",
       "      <td>0</td>\n",
       "      <td>0</td>\n",
       "      <td>...</td>\n",
       "      <td>0</td>\n",
       "      <td>0</td>\n",
       "      <td>0</td>\n",
       "      <td>0</td>\n",
       "      <td>0</td>\n",
       "      <td>0</td>\n",
       "      <td>0</td>\n",
       "      <td>0</td>\n",
       "      <td>0</td>\n",
       "      <td>0</td>\n",
       "    </tr>\n",
       "    <tr>\n",
       "      <th>137800</th>\n",
       "      <td>0.818182</td>\n",
       "      <td>0.0</td>\n",
       "      <td>1.0</td>\n",
       "      <td>1</td>\n",
       "      <td>0</td>\n",
       "      <td>0</td>\n",
       "      <td>0</td>\n",
       "      <td>0</td>\n",
       "      <td>0</td>\n",
       "      <td>0</td>\n",
       "      <td>...</td>\n",
       "      <td>0</td>\n",
       "      <td>0</td>\n",
       "      <td>0</td>\n",
       "      <td>0</td>\n",
       "      <td>0</td>\n",
       "      <td>0</td>\n",
       "      <td>0</td>\n",
       "      <td>0</td>\n",
       "      <td>0</td>\n",
       "      <td>0</td>\n",
       "    </tr>\n",
       "    <tr>\n",
       "      <th>137801</th>\n",
       "      <td>0.712121</td>\n",
       "      <td>0.0</td>\n",
       "      <td>0.0</td>\n",
       "      <td>0</td>\n",
       "      <td>0</td>\n",
       "      <td>1</td>\n",
       "      <td>0</td>\n",
       "      <td>0</td>\n",
       "      <td>0</td>\n",
       "      <td>0</td>\n",
       "      <td>...</td>\n",
       "      <td>0</td>\n",
       "      <td>0</td>\n",
       "      <td>0</td>\n",
       "      <td>0</td>\n",
       "      <td>0</td>\n",
       "      <td>0</td>\n",
       "      <td>0</td>\n",
       "      <td>0</td>\n",
       "      <td>0</td>\n",
       "      <td>0</td>\n",
       "    </tr>\n",
       "    <tr>\n",
       "      <th>137802</th>\n",
       "      <td>0.803030</td>\n",
       "      <td>0.0</td>\n",
       "      <td>0.0</td>\n",
       "      <td>1</td>\n",
       "      <td>0</td>\n",
       "      <td>0</td>\n",
       "      <td>0</td>\n",
       "      <td>0</td>\n",
       "      <td>0</td>\n",
       "      <td>0</td>\n",
       "      <td>...</td>\n",
       "      <td>0</td>\n",
       "      <td>0</td>\n",
       "      <td>0</td>\n",
       "      <td>0</td>\n",
       "      <td>0</td>\n",
       "      <td>0</td>\n",
       "      <td>0</td>\n",
       "      <td>0</td>\n",
       "      <td>0</td>\n",
       "      <td>0</td>\n",
       "    </tr>\n",
       "    <tr>\n",
       "      <th>137803</th>\n",
       "      <td>0.696970</td>\n",
       "      <td>0.0</td>\n",
       "      <td>0.0</td>\n",
       "      <td>1</td>\n",
       "      <td>0</td>\n",
       "      <td>0</td>\n",
       "      <td>0</td>\n",
       "      <td>0</td>\n",
       "      <td>0</td>\n",
       "      <td>0</td>\n",
       "      <td>...</td>\n",
       "      <td>0</td>\n",
       "      <td>0</td>\n",
       "      <td>0</td>\n",
       "      <td>0</td>\n",
       "      <td>0</td>\n",
       "      <td>0</td>\n",
       "      <td>0</td>\n",
       "      <td>0</td>\n",
       "      <td>0</td>\n",
       "      <td>0</td>\n",
       "    </tr>\n",
       "  </tbody>\n",
       "</table>\n",
       "<p>5 rows × 256 columns</p>\n",
       "</div>"
      ],
      "text/plain": [
       "             Age  Emails  target  Gender_F  Gender_Female  Gender_M  \\\n",
       "137799  0.681818     0.0     0.0         0              0         1   \n",
       "137800  0.818182     0.0     1.0         1              0         0   \n",
       "137801  0.712121     0.0     0.0         0              0         1   \n",
       "137802  0.803030     0.0     0.0         1              0         0   \n",
       "137803  0.696970     0.0     0.0         1              0         0   \n",
       "\n",
       "        Gender_Male  Gender_nan  STATE_AK  STATE_AL    ...     Lead_179.0  \\\n",
       "137799            0           0         0         0    ...              0   \n",
       "137800            0           0         0         0    ...              0   \n",
       "137801            0           0         0         0    ...              0   \n",
       "137802            0           0         0         0    ...              0   \n",
       "137803            0           0         0         0    ...              0   \n",
       "\n",
       "        Lead_180.0  Lead_181.0  Lead_182.0  Lead_183.0  Lead_184.0  \\\n",
       "137799           0           0           0           0           0   \n",
       "137800           0           0           0           0           0   \n",
       "137801           0           0           0           0           0   \n",
       "137802           0           0           0           0           0   \n",
       "137803           0           0           0           0           0   \n",
       "\n",
       "        Lead_185.0  Lead_186.0  Lead_187.0  Lead_nan  \n",
       "137799           0           0           0         0  \n",
       "137800           0           0           0         0  \n",
       "137801           0           0           0         0  \n",
       "137802           0           0           0         0  \n",
       "137803           0           0           0         0  \n",
       "\n",
       "[5 rows x 256 columns]"
      ]
     },
     "execution_count": 87,
     "metadata": {},
     "output_type": "execute_result"
    }
   ],
   "source": [
    "#replace target NaN with 0\n",
    "train_df.target.loc[train_df['target'].isnull()] = 0\n",
    "train_df.tail()"
   ]
  },
  {
   "cell_type": "markdown",
   "metadata": {},
   "source": [
    "#### Move target to first position of table."
   ]
  },
  {
   "cell_type": "code",
   "execution_count": 88,
   "metadata": {},
   "outputs": [
    {
     "data": {
      "text/html": [
       "<div>\n",
       "<style>\n",
       "    .dataframe thead tr:only-child th {\n",
       "        text-align: right;\n",
       "    }\n",
       "\n",
       "    .dataframe thead th {\n",
       "        text-align: left;\n",
       "    }\n",
       "\n",
       "    .dataframe tbody tr th {\n",
       "        vertical-align: top;\n",
       "    }\n",
       "</style>\n",
       "<table border=\"1\" class=\"dataframe\">\n",
       "  <thead>\n",
       "    <tr style=\"text-align: right;\">\n",
       "      <th></th>\n",
       "      <th>target</th>\n",
       "      <th>Age</th>\n",
       "      <th>Emails</th>\n",
       "      <th>Gender_F</th>\n",
       "      <th>Gender_Female</th>\n",
       "      <th>Gender_M</th>\n",
       "      <th>Gender_Male</th>\n",
       "      <th>Gender_nan</th>\n",
       "      <th>STATE_AK</th>\n",
       "      <th>STATE_AL</th>\n",
       "      <th>...</th>\n",
       "      <th>Lead_179.0</th>\n",
       "      <th>Lead_180.0</th>\n",
       "      <th>Lead_181.0</th>\n",
       "      <th>Lead_182.0</th>\n",
       "      <th>Lead_183.0</th>\n",
       "      <th>Lead_184.0</th>\n",
       "      <th>Lead_185.0</th>\n",
       "      <th>Lead_186.0</th>\n",
       "      <th>Lead_187.0</th>\n",
       "      <th>Lead_nan</th>\n",
       "    </tr>\n",
       "  </thead>\n",
       "  <tbody>\n",
       "    <tr>\n",
       "      <th>0</th>\n",
       "      <td>0.0</td>\n",
       "      <td>0.833333</td>\n",
       "      <td>0.0</td>\n",
       "      <td>1</td>\n",
       "      <td>0</td>\n",
       "      <td>0</td>\n",
       "      <td>0</td>\n",
       "      <td>0</td>\n",
       "      <td>0</td>\n",
       "      <td>0</td>\n",
       "      <td>...</td>\n",
       "      <td>0</td>\n",
       "      <td>0</td>\n",
       "      <td>0</td>\n",
       "      <td>0</td>\n",
       "      <td>0</td>\n",
       "      <td>0</td>\n",
       "      <td>0</td>\n",
       "      <td>0</td>\n",
       "      <td>0</td>\n",
       "      <td>0</td>\n",
       "    </tr>\n",
       "  </tbody>\n",
       "</table>\n",
       "<p>1 rows × 256 columns</p>\n",
       "</div>"
      ],
      "text/plain": [
       "   target       Age  Emails  Gender_F  Gender_Female  Gender_M  Gender_Male  \\\n",
       "0     0.0  0.833333     0.0         1              0         0            0   \n",
       "\n",
       "   Gender_nan  STATE_AK  STATE_AL    ...     Lead_179.0  Lead_180.0  \\\n",
       "0           0         0         0    ...              0           0   \n",
       "\n",
       "   Lead_181.0  Lead_182.0  Lead_183.0  Lead_184.0  Lead_185.0  Lead_186.0  \\\n",
       "0           0           0           0           0           0           0   \n",
       "\n",
       "   Lead_187.0  Lead_nan  \n",
       "0           0         0  \n",
       "\n",
       "[1 rows x 256 columns]"
      ]
     },
     "execution_count": 88,
     "metadata": {},
     "output_type": "execute_result"
    }
   ],
   "source": [
    "# Move target to first position.\n",
    "# designate target variable name\n",
    "targetName = 'target'\n",
    "targetSeries = train_df[targetName]\n",
    "#remove target from current location and insert in collum 0\n",
    "del train_df[targetName]\n",
    "train_df.insert(0, targetName, targetSeries)\n",
    "#reprint dataframe and see target is in position 0\n",
    "train_df.head(1)"
   ]
  },
  {
   "cell_type": "code",
   "execution_count": 89,
   "metadata": {},
   "outputs": [
    {
     "name": "stdout",
     "output_type": "stream",
     "text": [
      "Target Percent Distribution\n",
      "target\n",
      "0.0    0.919255\n",
      "1.0    0.080745\n",
      "Name: target, dtype: float64\n",
      "\n",
      "Target Distribution\n",
      "target\n",
      "0.0    126677.0\n",
      "1.0     11127.0\n",
      "Name: target, dtype: float64\n",
      "\n"
     ]
    },
    {
     "data": {
      "image/png": "[encoded data removed]",
      "text/plain": [
       "<matplotlib.figure.Figure at 0x1b9dff5b2e8>"
      ]
     },
     "metadata": {},
     "output_type": "display_data"
    }
   ],
   "source": [
    "#Basic bar chart since the target is binominal\n",
    "groupby = train_df.groupby(targetName) #target name defined in above section.\n",
    "targetEDA=groupby[targetName].aggregate(len)\n",
    "plt.figure()\n",
    "targetEDA.plot(kind='bar', grid=False)\n",
    "plt.axhline(0, color='k')\n",
    "print(\"Target Percent Distribution\")\n",
    "print(targetEDA / len(train_df.index))\n",
    "print()\n",
    "print(\"Target Distribution\")\n",
    "print(targetEDA)\n",
    "print()"
   ]
  },
  {
   "cell_type": "markdown",
   "metadata": {},
   "source": [
    "The dataset is imbalanced.  92% of customers have not made a purchase.  It may be necessary to try sampling techniques (upsampling/downsampling, KNN imputations, etc)."
   ]
  },
  {
   "cell_type": "markdown",
   "metadata": {},
   "source": [
    "## Create test train split 40/60 for feature selection phase"
   ]
  },
  {
   "cell_type": "code",
   "execution_count": 90,
   "metadata": {},
   "outputs": [
    {
     "name": "stdout",
     "output_type": "stream",
     "text": [
      "(55121, 255)\n",
      "(55121,)\n",
      "(82683, 255)\n",
      "(82683,)\n"
     ]
    }
   ],
   "source": [
    "#Test Train Split 40/60\n",
    "from sklearn.model_selection  import train_test_split, cross_val_score, KFold\n",
    "\n",
    "X_train, X_test, y_train, y_test = train_test_split(\n",
    "    train_df.iloc[:,1:].values, train_df.iloc[:,0].values, test_size=0.60, random_state=1)\n",
    "\n",
    "#confirm rows and column counts are as expected\n",
    "print(X_train.shape)\n",
    "print(y_train.shape)\n",
    "print(X_test.shape)\n",
    "print(y_test.shape)"
   ]
  },
  {
   "cell_type": "markdown",
   "metadata": {},
   "source": [
    "## Use random forest to identify important features"
   ]
  },
  {
   "cell_type": "code",
   "execution_count": 91,
   "metadata": {},
   "outputs": [
    {
     "name": "stdout",
     "output_type": "stream",
     "text": [
      "\n",
      "Random Forest Accuracy Score 0.91032013836\n",
      "             precision    recall  f1-score   support\n",
      "\n",
      "        0.0       0.93      0.97      0.95     76018\n",
      "        1.0       0.40      0.22      0.28      6665\n",
      "\n",
      "avg / total       0.89      0.91      0.90     82683\n",
      "\n",
      "[[73812  2206]\n",
      " [ 5209  1456]]\n"
     ]
    },
    {
     "data": {
      "text/plain": [
       "0.5947175854449287"
      ]
     },
     "execution_count": 91,
     "metadata": {},
     "output_type": "execute_result"
    }
   ],
   "source": [
    "#Random Forest Model\n",
    "from sklearn.ensemble import RandomForestClassifier\n",
    "#call up the model\n",
    "clf_RF1 = RandomForestClassifier(n_estimators=100, n_jobs=-1, random_state=123)\n",
    "#Fit clf to the training data\n",
    "clf_RF1 = clf_RF1.fit(X_train, y_train)\n",
    "#Predict clf DT model again test data\n",
    "y_pred_RF1 = clf_RF1.predict(X_test)\n",
    "\n",
    "#print metrics\n",
    "\n",
    "print()\n",
    "print(\"Random Forest Accuracy Score\", accuracy_score(y_test, y_pred_RF1))\n",
    "print(classification_report(y_test, y_pred_RF1))\n",
    "print(confusion_matrix(y_test, y_pred_RF1))\n",
    "roc_auc_score(y_test, y_pred_RF1, sample_weight=None)"
   ]
  },
  {
   "cell_type": "code",
   "execution_count": 92,
   "metadata": {},
   "outputs": [
    {
     "data": {
      "image/png": "[encoded data removed]",
      "text/plain": [
       "<matplotlib.figure.Figure at 0x1b9e512ed30>"
      ]
     },
     "metadata": {},
     "output_type": "display_data"
    }
   ],
   "source": [
    "imp_feat_rf = pd.Series(clf_RF1.feature_importances_, index=train_df.iloc[: , 1:].columns).sort_values(ascending=False)\n",
    "imp_feat_rf[:40].plot(kind='bar', title='Feature Importance with Random Forest', figsize=(12,8))\n",
    "plt.ylabel('Feature Importance values')\n",
    "plt.subplots_adjust(bottom=0.25)\n",
    "plt.savefig('FeatImportance.png')\n",
    "plt.show()"
   ]
  },
  {
   "cell_type": "markdown",
   "metadata": {},
   "source": [
    "#### Top Important features\n",
    "- Age\n",
    "- Emails\n",
    "- Gender\n",
    "- Lead Source 122, 113, and 131\n",
    "- State is Texas\n",
    "- Neustar Code 10"
   ]
  },
  {
   "cell_type": "markdown",
   "metadata": {},
   "source": [
    "## Try balanced class weight to see if important features change"
   ]
  },
  {
   "cell_type": "code",
   "execution_count": 93,
   "metadata": {},
   "outputs": [
    {
     "name": "stdout",
     "output_type": "stream",
     "text": [
      "\n",
      "Random Forest Accuracy Score 0.89356941572\n",
      "             precision    recall  f1-score   support\n",
      "\n",
      "        0.0       0.93      0.95      0.94     76018\n",
      "        1.0       0.30      0.24      0.27      6665\n",
      "\n",
      "avg / total       0.88      0.89      0.89     82683\n",
      "\n",
      "[[72258  3760]\n",
      " [ 5040  1625]]\n"
     ]
    },
    {
     "data": {
      "text/plain": [
       "0.59717449160232661"
      ]
     },
     "execution_count": 93,
     "metadata": {},
     "output_type": "execute_result"
    }
   ],
   "source": [
    "#Random Forest Model\n",
    "from sklearn.ensemble import RandomForestClassifier\n",
    "#call up the model\n",
    "clf_RF2 = RandomForestClassifier(n_estimators=100, n_jobs=-1, class_weight='balanced', random_state=123)\n",
    "#Fit clf to the training data\n",
    "clf_RF2 = clf_RF2.fit(X_train, y_train)\n",
    "#Predict clf DT model again test data\n",
    "y_pred_RF2 = clf_RF2.predict(X_test)\n",
    "\n",
    "#print metrics\n",
    "\n",
    "print()\n",
    "print(\"Random Forest Accuracy Score\", accuracy_score(y_test, y_pred_RF2))\n",
    "print(classification_report(y_test, y_pred_RF2))\n",
    "print(confusion_matrix(y_test, y_pred_RF2))\n",
    "roc_auc_score(y_test, y_pred_RF2, sample_weight=None)"
   ]
  },
  {
   "cell_type": "code",
   "execution_count": 94,
   "metadata": {},
   "outputs": [
    {
     "data": {
      "image/png": "[encoded data removed]",
      "text/plain": [
       "<matplotlib.figure.Figure at 0x1b9def94a90>"
      ]
     },
     "metadata": {},
     "output_type": "display_data"
    }
   ],
   "source": [
    "imp_feat_rf = pd.Series(clf_RF2.feature_importances_, index=train_df.iloc[: , 1:].columns).sort_values(ascending=False)\n",
    "imp_feat_rf[:40].plot(kind='bar', title='Feature Importance with Random Forest', figsize=(12,8))\n",
    "plt.ylabel('Feature Importance values')\n",
    "plt.subplots_adjust(bottom=0.25)\n",
    "plt.savefig('FeatImportance.png')\n",
    "plt.show()"
   ]
  },
  {
   "cell_type": "markdown",
   "metadata": {},
   "source": [
    "Important features did not change, but the importance of key features is represented differently."
   ]
  },
  {
   "cell_type": "markdown",
   "metadata": {},
   "source": [
    "# Begin Modeling Process"
   ]
  },
  {
   "cell_type": "markdown",
   "metadata": {},
   "source": [
    "## Create test train split 70/30"
   ]
  },
  {
   "cell_type": "code",
   "execution_count": 95,
   "metadata": {},
   "outputs": [
    {
     "name": "stdout",
     "output_type": "stream",
     "text": [
      "(96462, 255)\n",
      "(96462,)\n",
      "(41342, 255)\n",
      "(41342,)\n"
     ]
    }
   ],
   "source": [
    "#Test Train Split 70/30\n",
    "from sklearn.model_selection  import train_test_split, cross_val_score, KFold\n",
    "\n",
    "X_train, X_test, y_train, y_test = train_test_split(\n",
    "    train_df.iloc[:,1:].values, train_df.iloc[:,0].values, test_size=0.30, random_state=1)\n",
    "\n",
    "#confirm rows and column counts are as expected\n",
    "print(X_train.shape)\n",
    "print(y_train.shape)\n",
    "print(X_test.shape)\n",
    "print(y_test.shape)"
   ]
  },
  {
   "cell_type": "markdown",
   "metadata": {},
   "source": [
    "## Logistic Regressions"
   ]
  },
  {
   "cell_type": "markdown",
   "metadata": {},
   "source": [
    "Using penalty on models to reduce dimensions"
   ]
  },
  {
   "cell_type": "markdown",
   "metadata": {},
   "source": [
    "## Logistic Regression"
   ]
  },
  {
   "cell_type": "code",
   "execution_count": 96,
   "metadata": {},
   "outputs": [
    {
     "name": "stdout",
     "output_type": "stream",
     "text": [
      "LogisticRegression(C=1.0, class_weight=None, dual=False, fit_intercept=True,\n",
      "          intercept_scaling=1, max_iter=100, multi_class='ovr', n_jobs=1,\n",
      "          penalty='l2', random_state=None, solver='liblinear', tol=0.0001,\n",
      "          verbose=0, warm_start=False)\n"
     ]
    }
   ],
   "source": [
    "from sklearn.linear_model import LogisticRegression\n",
    "print(LogisticRegression())"
   ]
  },
  {
   "cell_type": "code",
   "execution_count": 97,
   "metadata": {},
   "outputs": [
    {
     "name": "stdout",
     "output_type": "stream",
     "text": [
      "Accuracy Score 0.923129021334\n",
      "             precision    recall  f1-score   support\n",
      "\n",
      "        0.0       0.93      0.99      0.96     37990\n",
      "        1.0       0.59      0.17      0.26      3352\n",
      "\n",
      "avg / total       0.90      0.92      0.90     41342\n",
      "\n",
      "[[37606   384]\n",
      " [ 2794   558]]\n"
     ]
    },
    {
     "data": {
      "text/plain": [
       "0.57817992864596324"
      ]
     },
     "execution_count": 97,
     "metadata": {},
     "output_type": "execute_result"
    }
   ],
   "source": [
    "from sklearn.linear_model import LogisticRegression\n",
    "log = LogisticRegression()\n",
    "#Fit to the training data\n",
    "log = log.fit(X_train, y_train)\n",
    "y_pred = log.predict(X_test)\n",
    "\n",
    "print(\"Accuracy Score\", accuracy_score(y_test, y_pred))\n",
    "print(classification_report(y_test, y_pred))\n",
    "print(confusion_matrix(y_test, y_pred))\n",
    "\n",
    "roc_auc_score(y_test, y_pred)"
   ]
  },
  {
   "cell_type": "markdown",
   "metadata": {},
   "source": [
    "## Logistic Regression w/ Ridge (l2), C=100"
   ]
  },
  {
   "cell_type": "code",
   "execution_count": 103,
   "metadata": {},
   "outputs": [
    {
     "name": "stdout",
     "output_type": "stream",
     "text": [
      "Accuracy Score 0.923395094577\n",
      "             precision    recall  f1-score   support\n",
      "\n",
      "        0.0       0.93      0.99      0.96     37990\n",
      "        1.0       0.59      0.18      0.27      3352\n",
      "\n",
      "avg / total       0.90      0.92      0.90     41342\n",
      "\n",
      "[[37580   410]\n",
      " [ 2757   595]]\n"
     ]
    },
    {
     "data": {
      "text/plain": [
       "0.58335682641016573"
      ]
     },
     "execution_count": 103,
     "metadata": {},
     "output_type": "execute_result"
    }
   ],
   "source": [
    "from sklearn.linear_model import LogisticRegression\n",
    "log = LogisticRegression(penalty='l2', solver='lbfgs', n_jobs=-1, C=100)\n",
    "#Fit to the training data\n",
    "log = log.fit(X_train, y_train)\n",
    "y_pred = log.predict(X_test)\n",
    "\n",
    "print(\"Accuracy Score\", accuracy_score(y_test, y_pred))\n",
    "print(classification_report(y_test, y_pred))\n",
    "print(confusion_matrix(y_test, y_pred))\n",
    "\n",
    "roc_auc_score(y_test, y_pred)"
   ]
  },
  {
   "cell_type": "markdown",
   "metadata": {},
   "source": [
    "## Logistic Regression w/ Lasso (l1) penalty C=100"
   ]
  },
  {
   "cell_type": "code",
   "execution_count": 102,
   "metadata": {},
   "outputs": [
    {
     "name": "stdout",
     "output_type": "stream",
     "text": [
      "Accuracy Score 0.923395094577\n",
      "             precision    recall  f1-score   support\n",
      "\n",
      "        0.0       0.93      0.99      0.96     37990\n",
      "        1.0       0.59      0.18      0.27      3352\n",
      "\n",
      "avg / total       0.90      0.92      0.90     41342\n",
      "\n",
      "[[37579   411]\n",
      " [ 2756   596]]\n"
     ]
    },
    {
     "name": "stderr",
     "output_type": "stream",
     "text": [
      "C:\\Users\\byron\\Anaconda3\\lib\\site-packages\\sklearn\\linear_model\\sag.py:326: ConvergenceWarning: The max_iter was reached which means the coef_ did not converge\n",
      "  \"the coef_ did not converge\", ConvergenceWarning)\n"
     ]
    },
    {
     "data": {
      "text/plain": [
       "0.58349282972971794"
      ]
     },
     "execution_count": 102,
     "metadata": {},
     "output_type": "execute_result"
    }
   ],
   "source": [
    "from sklearn.linear_model import LogisticRegression\n",
    "log = LogisticRegression(penalty='l1', solver='saga', n_jobs=-1, C=100)\n",
    "#Fit to the training data\n",
    "log = log.fit(X_train, y_train)\n",
    "y_pred = log.predict(X_test)\n",
    "\n",
    "print(\"Accuracy Score\", accuracy_score(y_test, y_pred))\n",
    "print(classification_report(y_test, y_pred))\n",
    "print(confusion_matrix(y_test, y_pred))\n",
    "\n",
    "roc_auc_score(y_test, y_pred)"
   ]
  },
  {
   "cell_type": "markdown",
   "metadata": {},
   "source": [
    "## Decision Tree Model (default)"
   ]
  },
  {
   "cell_type": "markdown",
   "metadata": {},
   "source": [
    "Initial model w/ out of the box settings.  Precision for minority class is .34 and recall is .26.  Needs a lot of improvement."
   ]
  },
  {
   "cell_type": "code",
   "execution_count": 143,
   "metadata": {},
   "outputs": [
    {
     "name": "stdout",
     "output_type": "stream",
     "text": [
      "DecisionTreeClassifier(class_weight=None, criterion='gini', max_depth=None,\n",
      "            max_features=None, max_leaf_nodes=None,\n",
      "            min_impurity_decrease=0.0, min_impurity_split=None,\n",
      "            min_samples_leaf=1, min_samples_split=2,\n",
      "            min_weight_fraction_leaf=0.0, presort=False, random_state=123,\n",
      "            splitter='best')\n",
      "\n",
      "Decision Accuracy Score 0.900149968555\n",
      "             precision    recall  f1-score   support\n",
      "\n",
      "        0.0       0.94      0.96      0.95     37990\n",
      "        1.0       0.34      0.26      0.29      3352\n",
      "\n",
      "avg / total       0.89      0.90      0.89     41342\n",
      "\n",
      "[[36359  1631]\n",
      " [ 2497   855]]\n"
     ]
    },
    {
     "data": {
      "text/plain": [
       "0.60606962421338106"
      ]
     },
     "execution_count": 143,
     "metadata": {},
     "output_type": "execute_result"
    }
   ],
   "source": [
    "#Decision Tree train model. Call up my model and name it clf\n",
    "from sklearn import tree \n",
    "clf_dt = tree.DecisionTreeClassifier(random_state=123)\n",
    "#Call up the model to see the parameters you can tune (and their default setting)\n",
    "print(clf_dt)\n",
    "#Fit clf to the training data\n",
    "clf_dt = clf_dt.fit(X_train, y_train)\n",
    "#Predict clf DT model again test data\n",
    "y_pred_dt = clf_dt.predict(X_test)\n",
    "\n",
    "#print metrics\n",
    "\n",
    "print()\n",
    "print(\"Decision Accuracy Score\", accuracy_score(y_test, y_pred_dt))\n",
    "print(classification_report(y_test, y_pred_dt))\n",
    "print(confusion_matrix(y_test, y_pred_dt))\n",
    "\n",
    "roc_auc_score(y_test, y_pred_dt, sample_weight=None)"
   ]
  },
  {
   "cell_type": "markdown",
   "metadata": {},
   "source": [
    "## Decision Tree (class_weight = 'balanced')"
   ]
  },
  {
   "cell_type": "code",
   "execution_count": 144,
   "metadata": {},
   "outputs": [
    {
     "name": "stdout",
     "output_type": "stream",
     "text": [
      "\n",
      "Decision Accuracy Score 0.851869769242\n",
      "             precision    recall  f1-score   support\n",
      "\n",
      "        0.0       0.94      0.89      0.92     37990\n",
      "        1.0       0.24      0.39      0.30      3352\n",
      "\n",
      "avg / total       0.89      0.85      0.87     41342\n",
      "\n",
      "[[33913  4077]\n",
      " [ 2047  1305]]\n"
     ]
    },
    {
     "data": {
      "text/plain": [
       "0.64100104694050253"
      ]
     },
     "execution_count": 144,
     "metadata": {},
     "output_type": "execute_result"
    }
   ],
   "source": [
    "#Decision Tree train model.\n",
    "from sklearn import tree \n",
    "#call up the model\n",
    "clf_dt2 = tree.DecisionTreeClassifier(class_weight='balanced', random_state=123)\n",
    "#Fit clf to the training data\n",
    "clf_dt2 = clf_dt2.fit(X_train, y_train)\n",
    "#Predict clf DT model again test data\n",
    "y_pred_dt2 = clf_dt2.predict(X_test)\n",
    "\n",
    "#print metrics\n",
    "\n",
    "print()\n",
    "print(\"Decision Accuracy Score\", accuracy_score(y_test, y_pred_dt2))\n",
    "print(classification_report(y_test, y_pred_dt2))\n",
    "print(confusion_matrix(y_test, y_pred_dt2))\n",
    "roc_auc_score(y_test, y_pred_dt2)"
   ]
  },
  {
   "cell_type": "markdown",
   "metadata": {},
   "source": [
    "# Best Model for AUC (.74)"
   ]
  },
  {
   "cell_type": "markdown",
   "metadata": {},
   "source": [
    "## Decision Tree (class_weight = 'balanced', max_depth=6)"
   ]
  },
  {
   "cell_type": "code",
   "execution_count": 104,
   "metadata": {},
   "outputs": [
    {
     "name": "stdout",
     "output_type": "stream",
     "text": [
      "\n",
      "Decision Accuracy Score 0.855570606163\n",
      "             precision    recall  f1-score   support\n",
      "\n",
      "        0.0       0.96      0.88      0.92     37990\n",
      "        1.0       0.30      0.60      0.40      3352\n",
      "\n",
      "avg / total       0.91      0.86      0.88     41342\n",
      "\n",
      "[[33345  4645]\n",
      " [ 1326  2026]]\n"
     ]
    },
    {
     "data": {
      "text/plain": [
       "0.74107312815016635"
      ]
     },
     "execution_count": 104,
     "metadata": {},
     "output_type": "execute_result"
    }
   ],
   "source": [
    "#Decision Tree train model.\n",
    "from sklearn import tree \n",
    "#call up the model\n",
    "clf_dt3 = tree.DecisionTreeClassifier(class_weight='balanced', max_depth=6, random_state=123)\n",
    "#Fit clf to the training data\n",
    "clf_dt3 = clf_dt3.fit(X_train, y_train)\n",
    "#Predict clf DT model again test data\n",
    "y_pred_dt3 = clf_dt3.predict(X_test)\n",
    "\n",
    "#print metrics\n",
    "\n",
    "print()\n",
    "print(\"Decision Accuracy Score\", accuracy_score(y_test, y_pred_dt3))\n",
    "print(classification_report(y_test, y_pred_dt3))\n",
    "print(confusion_matrix(y_test, y_pred_dt3))\n",
    "roc_auc_score(y_test, y_pred_dt3, sample_weight=None)"
   ]
  },
  {
   "cell_type": "markdown",
   "metadata": {},
   "source": [
    "#### Cross validation shows model has consistent results."
   ]
  },
  {
   "cell_type": "code",
   "execution_count": 146,
   "metadata": {},
   "outputs": [
    {
     "name": "stdout",
     "output_type": "stream",
     "text": [
      "Cross Validation Score for each K - clf_dt3 [ 0.85363325  0.86379185  0.85290764  0.85373691  0.85415155  0.85195936\n",
      "  0.85465478  0.85598756  0.85370658  0.84955936]\n",
      "Decision Tree mean: 0.854408884846\n",
      "\n"
     ]
    }
   ],
   "source": [
    "#Cross Validate Best Model\n",
    "clf_dt3_scores = cross_val_score(clf_dt3, X_train, y_train, cv=10)\n",
    "print(\"Cross Validation Score for each K - clf_dt3\", clf_dt3_scores)\n",
    "print(\"Decision Tree mean:\", clf_dt3_scores.mean())  \n",
    "print()"
   ]
  },
  {
   "cell_type": "markdown",
   "metadata": {},
   "source": [
    "## Random Forest (500 trees)"
   ]
  },
  {
   "cell_type": "markdown",
   "metadata": {},
   "source": [
    "Poor performance for this model as well."
   ]
  },
  {
   "cell_type": "code",
   "execution_count": 147,
   "metadata": {},
   "outputs": [
    {
     "name": "stdout",
     "output_type": "stream",
     "text": [
      "RandomForestClassifier(bootstrap=True, class_weight=None, criterion='gini',\n",
      "            max_depth=None, max_features='auto', max_leaf_nodes=None,\n",
      "            min_impurity_decrease=0.0, min_impurity_split=None,\n",
      "            min_samples_leaf=1, min_samples_split=2,\n",
      "            min_weight_fraction_leaf=0.0, n_estimators=500, n_jobs=-1,\n",
      "            oob_score=False, random_state=123, verbose=0, warm_start=False)\n",
      "\n",
      "Random Forest Accuracy Score 0.911397610179\n",
      "             precision    recall  f1-score   support\n",
      "\n",
      "        0.0       0.93      0.97      0.95     37990\n",
      "        1.0       0.42      0.23      0.29      3352\n",
      "\n",
      "avg / total       0.89      0.91      0.90     41342\n",
      "\n",
      "[[36914  1076]\n",
      " [ 2587   765]]\n"
     ]
    },
    {
     "data": {
      "text/plain": [
       "0.59994935704094976"
      ]
     },
     "execution_count": 147,
     "metadata": {},
     "output_type": "execute_result"
    }
   ],
   "source": [
    "#Random Forest Model\n",
    "from sklearn.ensemble import RandomForestClassifier\n",
    "#call up the model\n",
    "clf_RF1 = RandomForestClassifier(n_estimators=500, n_jobs=-1, random_state=123)\n",
    "print(clf_RF1)\n",
    "#Fit clf to the training data\n",
    "clf_RF1 = clf_RF1.fit(X_train, y_train)\n",
    "#Predict clf DT model again test data\n",
    "y_pred_RF1 = clf_RF1.predict(X_test)\n",
    "\n",
    "\n",
    "#print metrics\n",
    "\n",
    "print()\n",
    "print(\"Random Forest Accuracy Score\", accuracy_score(y_test, y_pred_RF1))\n",
    "print(classification_report(y_test, y_pred_RF1))\n",
    "print(confusion_matrix(y_test, y_pred_RF1))\n",
    "roc_auc_score(y_test, y_pred_RF1, sample_weight=None)"
   ]
  },
  {
   "cell_type": "markdown",
   "metadata": {},
   "source": [
    "## AdaBoost (200 trees)"
   ]
  },
  {
   "cell_type": "code",
   "execution_count": 148,
   "metadata": {},
   "outputs": [
    {
     "name": "stdout",
     "output_type": "stream",
     "text": [
      "\n",
      "Accuracy Score 0.902133423637\n",
      "             precision    recall  f1-score   support\n",
      "\n",
      "        0.0       0.94      0.96      0.95     37990\n",
      "        1.0       0.35      0.25      0.29      3352\n",
      "\n",
      "avg / total       0.89      0.90      0.89     41342\n",
      "\n",
      "[[36471  1519]\n",
      " [ 2527   825]]\n"
     ]
    },
    {
     "data": {
      "text/plain": [
       "0.60306875600349541"
      ]
     },
     "execution_count": 148,
     "metadata": {},
     "output_type": "execute_result"
    }
   ],
   "source": [
    "#AdaBoost\n",
    "from sklearn.ensemble import AdaBoostClassifier\n",
    "from sklearn.tree import DecisionTreeClassifier\n",
    "#call up the model\n",
    "bdt1 = AdaBoostClassifier(DecisionTreeClassifier(),\n",
    "                          n_estimators=200, random_state=123)\n",
    "\n",
    "#Fit clf to the training data\n",
    "bdt1 = bdt1.fit(X_train, y_train)\n",
    "#Predict clf DT model again test data\n",
    "y_pred_bdt1 = bdt1.predict(X_test)\n",
    "\n",
    "#print metrics\n",
    "\n",
    "print()\n",
    "print(\"Accuracy Score\", accuracy_score(y_test, y_pred_bdt1))\n",
    "print(classification_report(y_test, y_pred_bdt1))\n",
    "print(confusion_matrix(y_test, y_pred_bdt1))\n",
    "roc_auc_score(y_test, y_pred_bdt1)"
   ]
  },
  {
   "cell_type": "markdown",
   "metadata": {},
   "source": [
    "## Bagging (200 trees)"
   ]
  },
  {
   "cell_type": "markdown",
   "metadata": {},
   "source": [
    "91% Accuracy, 0.41 precision, 0.14 recall"
   ]
  },
  {
   "cell_type": "code",
   "execution_count": 149,
   "metadata": {},
   "outputs": [
    {
     "name": "stdout",
     "output_type": "stream",
     "text": [
      "BaggingClassifier(base_estimator=None, bootstrap=True,\n",
      "         bootstrap_features=False, max_features=1.0, max_samples=1.0,\n",
      "         n_estimators=10, n_jobs=1, oob_score=False, random_state=None,\n",
      "         verbose=0, warm_start=False)\n"
     ]
    }
   ],
   "source": [
    "from sklearn.ensemble import BaggingClassifier\n",
    "print(BaggingClassifier())"
   ]
  },
  {
   "cell_type": "code",
   "execution_count": 105,
   "metadata": {},
   "outputs": [
    {
     "name": "stdout",
     "output_type": "stream",
     "text": [
      "\n",
      "Accuracy Score 0.908567558415\n",
      "             precision    recall  f1-score   support\n",
      "\n",
      "        0.0       0.94      0.97      0.95     37990\n",
      "        1.0       0.40      0.25      0.31      3352\n",
      "\n",
      "avg / total       0.89      0.91      0.90     41342\n",
      "\n",
      "[[36726  1264]\n",
      " [ 2516   836]]\n"
     ]
    },
    {
     "data": {
      "text/plain": [
       "0.60806571381364649"
      ]
     },
     "execution_count": 105,
     "metadata": {},
     "output_type": "execute_result"
    }
   ],
   "source": [
    "#Bagging\n",
    "from sklearn.ensemble import BaggingClassifier\n",
    "from sklearn.tree import DecisionTreeClassifier\n",
    "#call up the model\n",
    "bag1 = BaggingClassifier(DecisionTreeClassifier(), n_estimators=200 , n_jobs=-1 ,random_state=123)\n",
    "#Fit clf to the training data\n",
    "bag1 = bag1.fit(X_train, y_train)\n",
    "#Predict clf DT model again test data\n",
    "y_pred_bag1 = bag1.predict(X_test)\n",
    "\n",
    "#print metrics\n",
    "\n",
    "print()\n",
    "print(\"Accuracy Score\", accuracy_score(y_test, y_pred_bag1))\n",
    "print(classification_report(y_test, y_pred_bag1))\n",
    "print(confusion_matrix(y_test, y_pred_bag1))\n",
    "roc_auc_score(y_test, y_pred_bag1)"
   ]
  },
  {
   "cell_type": "markdown",
   "metadata": {},
   "source": [
    "## Bagging (200 trees, max_samples .8, class_weight='balanced')"
   ]
  },
  {
   "cell_type": "markdown",
   "metadata": {},
   "source": [
    "Overall accuracy increased, but recall is near 0% for target."
   ]
  },
  {
   "cell_type": "code",
   "execution_count": 106,
   "metadata": {},
   "outputs": [
    {
     "name": "stdout",
     "output_type": "stream",
     "text": [
      "\n",
      "Accuracy Score 0.891635624788\n",
      "             precision    recall  f1-score   support\n",
      "\n",
      "        0.0       0.94      0.94      0.94     37990\n",
      "        1.0       0.33      0.32      0.32      3352\n",
      "\n",
      "avg / total       0.89      0.89      0.89     41342\n",
      "\n",
      "[[35788  2202]\n",
      " [ 2278  1074]]\n"
     ]
    },
    {
     "data": {
      "text/plain": [
       "0.63122155309053196"
      ]
     },
     "execution_count": 106,
     "metadata": {},
     "output_type": "execute_result"
    }
   ],
   "source": [
    "#Bagging\n",
    "from sklearn.ensemble import BaggingClassifier\n",
    "from sklearn.tree import DecisionTreeClassifier\n",
    "#call up the model\n",
    "bag2 = BaggingClassifier(DecisionTreeClassifier(class_weight='balanced'), \n",
    "                         n_estimators=200, \n",
    "                         max_samples=.8,\n",
    "                         bootstrap_features=False,\n",
    "                         n_jobs=-1 ,\n",
    "                         random_state=123)\n",
    "\n",
    "#Fit clf to the training data\n",
    "bag2 = bag2.fit(X_train, y_train)\n",
    "#Predict clf DT model again test data\n",
    "y_pred_bag2 = bag2.predict(X_test)\n",
    "\n",
    "#print metrics\n",
    "\n",
    "print()\n",
    "print(\"Accuracy Score\", accuracy_score(y_test, y_pred_bag2))\n",
    "print(classification_report(y_test, y_pred_bag2))\n",
    "print(confusion_matrix(y_test, y_pred_bag2))\n",
    "roc_auc_score(y_test, y_pred_bag2)"
   ]
  },
  {
   "cell_type": "markdown",
   "metadata": {},
   "source": [
    "## XGboost Default"
   ]
  },
  {
   "cell_type": "markdown",
   "metadata": {},
   "source": [
    "92% accuracy, 0.64 precision, 0.06 recall"
   ]
  },
  {
   "cell_type": "code",
   "execution_count": 108,
   "metadata": {},
   "outputs": [
    {
     "name": "stderr",
     "output_type": "stream",
     "text": [
      "C:\\Users\\byron\\Anaconda3\\lib\\site-packages\\sklearn\\cross_validation.py:41: DeprecationWarning: This module was deprecated in version 0.18 in favor of the model_selection module into which all the refactored classes and functions are moved. Also note that the interface of the new CV iterators are different from that of this module. This module will be removed in 0.20.\n",
      "  \"This module will be removed in 0.20.\", DeprecationWarning)\n"
     ]
    },
    {
     "data": {
      "text/plain": [
       "XGBClassifier(base_score=0.5, colsample_bylevel=1, colsample_bytree=1,\n",
       "       gamma=0, learning_rate=0.1, max_delta_step=0, max_depth=3,\n",
       "       min_child_weight=1, missing=None, n_estimators=100, nthread=-1,\n",
       "       objective='binary:logistic', reg_alpha=0, reg_lambda=1,\n",
       "       scale_pos_weight=1, seed=0, silent=True, subsample=1)"
      ]
     },
     "execution_count": 108,
     "metadata": {},
     "output_type": "execute_result"
    }
   ],
   "source": [
    "from xgboost import XGBClassifier\n",
    "XGBClassifier()"
   ]
  },
  {
   "cell_type": "code",
   "execution_count": 109,
   "metadata": {},
   "outputs": [
    {
     "name": "stdout",
     "output_type": "stream",
     "text": [
      "\n",
      "Accuracy Score 0.922693628755\n",
      "             precision    recall  f1-score   support\n",
      "\n",
      "        0.0       0.93      1.00      0.96     37990\n",
      "        1.0       0.66      0.10      0.17      3352\n",
      "\n",
      "avg / total       0.90      0.92      0.90     41342\n",
      "\n",
      "[[37823   167]\n",
      " [ 3029   323]]\n"
     ]
    },
    {
     "data": {
      "text/plain": [
       "0.54598224410267493"
      ]
     },
     "execution_count": 109,
     "metadata": {},
     "output_type": "execute_result"
    }
   ],
   "source": [
    "from xgboost import XGBClassifier\n",
    "\n",
    "#call up the model\n",
    "xgb = XGBClassifier()\n",
    "\n",
    "#Fit clf to the training data\n",
    "xgb = xgb.fit(X_train, y_train)\n",
    "#Predict clf DT model again test data\n",
    "y_pred_xgb = xgb.predict(X_test)\n",
    "\n",
    "#print metrics\n",
    "\n",
    "print()\n",
    "print(\"Accuracy Score\", accuracy_score(y_test, y_pred_xgb))\n",
    "print(classification_report(y_test, y_pred_xgb))\n",
    "print(confusion_matrix(y_test, y_pred_xgb))\n",
    "roc_auc_score(y_test, y_pred_xgb)"
   ]
  },
  {
   "cell_type": "markdown",
   "metadata": {},
   "source": [
    "## XGBoost with 125 estimators, learning rate 0.3, Max_Depth 3, colsample_bytree .8"
   ]
  },
  {
   "cell_type": "code",
   "execution_count": 110,
   "metadata": {},
   "outputs": [
    {
     "name": "stdout",
     "output_type": "stream",
     "text": [
      "\n",
      "Accuracy Score 0.923854675633\n",
      "             precision    recall  f1-score   support\n",
      "\n",
      "        0.0       0.93      0.99      0.96     37990\n",
      "        1.0       0.61      0.16      0.26      3352\n",
      "\n",
      "avg / total       0.91      0.92      0.90     41342\n",
      "\n",
      "[[37642   348]\n",
      " [ 2800   552]]\n"
     ]
    },
    {
     "data": {
      "text/plain": [
       "0.57775874947621564"
      ]
     },
     "execution_count": 110,
     "metadata": {},
     "output_type": "execute_result"
    }
   ],
   "source": [
    "from xgboost import XGBClassifier\n",
    "\n",
    "#call up the model\n",
    "xgb = XGBClassifier(learning_rate=.3, \n",
    "                    n_estimators = 125, \n",
    "                    max_depth=3, \n",
    "                    min_child_weight=1,\n",
    "                    colsample_bytree=.8)\n",
    "\n",
    "#Fit clf to the training data\n",
    "xgb = xgb.fit(X_train, y_train)\n",
    "#Predict clf DT model again test data\n",
    "y_pred_xgb = xgb.predict(X_test)\n",
    "\n",
    "#print metrics\n",
    "\n",
    "print()\n",
    "print(\"Accuracy Score\", accuracy_score(y_test, y_pred_xgb))\n",
    "print(classification_report(y_test, y_pred_xgb))\n",
    "print(confusion_matrix(y_test, y_pred_xgb))\n",
    "roc_auc_score(y_test, y_pred_xgb)"
   ]
  },
  {
   "cell_type": "markdown",
   "metadata": {},
   "source": [
    "## Neural Network (ANN) w/ regularization, 8 layer, 30 nodes"
   ]
  },
  {
   "cell_type": "code",
   "execution_count": 111,
   "metadata": {
    "scrolled": true
   },
   "outputs": [
    {
     "name": "stdout",
     "output_type": "stream",
     "text": [
      "\n",
      "Accuracy Score 0.9222340477\n",
      "             precision    recall  f1-score   support\n",
      "\n",
      "        0.0       0.93      0.99      0.96     37990\n",
      "        1.0       0.56      0.19      0.28      3352\n",
      "\n",
      "avg / total       0.90      0.92      0.90     41342\n",
      "\n",
      "[[37494   496]\n",
      " [ 2719   633]]\n"
     ]
    },
    {
     "data": {
      "text/plain": [
       "0.58789320735704209"
      ]
     },
     "execution_count": 111,
     "metadata": {},
     "output_type": "execute_result"
    }
   ],
   "source": [
    "from sklearn.neural_network import MLPClassifier\n",
    "\n",
    "ann = MLPClassifier(solver='adam',\n",
    "                    hidden_layer_sizes=(8, 30), random_state=123)\n",
    "\n",
    "#Fit clf to the training data\n",
    "ann_train = ann.fit(X_train, y_train)\n",
    "#Predict clf DT model again test data\n",
    "y_pred_ann = ann.predict(X_test)\n",
    "\n",
    "#print metrics\n",
    "\n",
    "print()\n",
    "print(\"Accuracy Score\", accuracy_score(y_test, y_pred_ann))\n",
    "print(classification_report(y_test, y_pred_ann))\n",
    "print(confusion_matrix(y_test, y_pred_ann))\n",
    "roc_auc_score(y_test, y_pred_ann)"
   ]
  },
  {
   "cell_type": "markdown",
   "metadata": {},
   "source": [
    "## Stacking Model"
   ]
  },
  {
   "cell_type": "code",
   "execution_count": 114,
   "metadata": {},
   "outputs": [
    {
     "name": "stdout",
     "output_type": "stream",
     "text": [
      "Accuracy: 0.91 (+/- 0.00) [Random Forest]\n",
      "Accuracy: 0.85 (+/- 0.00) [balanced Decision Tree]\n",
      "Accuracy: 0.92 (+/- 0.00) [XGBoost]\n",
      "Accuracy: 0.92 (+/- 0.00) [Ensemble]\n"
     ]
    }
   ],
   "source": [
    "#Stacking\n",
    "from sklearn.linear_model import LogisticRegression\n",
    "from sklearn.naive_bayes import GaussianNB\n",
    "from sklearn.ensemble import RandomForestClassifier\n",
    "from sklearn.ensemble import VotingClassifier\n",
    "from sklearn.ensemble import AdaBoostClassifier\n",
    "from sklearn.tree import DecisionTreeClassifier\n",
    "#Three Models RF, NB, BDT\n",
    "clf1 = RandomForestClassifier(random_state=123)\n",
    "clf2 = DecisionTreeClassifier(class_weight='balanced', max_depth=6, random_state=123)\n",
    "xgb = XGBClassifier()\n",
    "\n",
    "\n",
    "eclf1 = VotingClassifier(estimators=[('rf', clf1), ('dt', clf2), ('xgb', xgb)], voting='hard')\n",
    "for MV, label in zip([clf1, clf2, xgb, eclf1], ['Random Forest', 'balanced Decision Tree', 'XGBoost', 'Ensemble']):\n",
    "\n",
    "    scores = cross_val_score(MV, X_train, y_train, cv=5, scoring='accuracy')\n",
    "    print(\"Accuracy: %0.2f (+/- %0.2f) [%s]\" % (scores.mean(), scores.std(), label))"
   ]
  },
  {
   "cell_type": "code",
   "execution_count": 115,
   "metadata": {},
   "outputs": [
    {
     "name": "stdout",
     "output_type": "stream",
     "text": [
      "Accuracy Score 0.917468917808\n",
      "             precision    recall  f1-score   support\n",
      "\n",
      "        0.0       0.93      0.98      0.96     37990\n",
      "        1.0       0.48      0.21      0.30      3352\n",
      "\n",
      "avg / total       0.90      0.92      0.90     41342\n",
      "\n",
      "[[37216   774]\n",
      " [ 2638   714]]\n"
     ]
    },
    {
     "data": {
      "text/plain": [
       "0.59631668866508647"
      ]
     },
     "execution_count": 115,
     "metadata": {},
     "output_type": "execute_result"
    }
   ],
   "source": [
    "eclf1=eclf1.fit(X_train, y_train)\n",
    "y_pred_eclf1 = eclf1.predict(X_test)\n",
    "print(\"Accuracy Score\", accuracy_score(y_test, y_pred_eclf1))\n",
    "print(classification_report(y_test, y_pred_eclf1))\n",
    "print(confusion_matrix(y_test, y_pred_eclf1))\n",
    "roc_auc_score(y_test, y_pred_eclf1)"
   ]
  },
  {
   "cell_type": "markdown",
   "metadata": {},
   "source": [
    "## SVM (did not have processing poewr to run multiple renditions)"
   ]
  },
  {
   "cell_type": "markdown",
   "metadata": {},
   "source": [
    "## Linear SVM"
   ]
  },
  {
   "cell_type": "code",
   "execution_count": 119,
   "metadata": {},
   "outputs": [
    {
     "name": "stdout",
     "output_type": "stream",
     "text": [
      "\n",
      "Accuracy Score 0.922451743989\n",
      "             precision    recall  f1-score   support\n",
      "\n",
      "        0.0       0.93      1.00      0.96     37990\n",
      "        1.0       0.64      0.10      0.17      3352\n",
      "\n",
      "avg / total       0.90      0.92      0.90     41342\n",
      "\n",
      "[[37801   189]\n",
      " [ 3017   335]]\n"
     ]
    },
    {
     "data": {
      "text/plain": [
       "0.54748267035477871"
      ]
     },
     "execution_count": 119,
     "metadata": {},
     "output_type": "execute_result"
    }
   ],
   "source": [
    "from sklearn.svm import SVC\n",
    "\n",
    "svc=SVC(C=1.0, kernel='linear', random_state=123)\n",
    "\n",
    "svc.fit(X_train, y_train)\n",
    "\n",
    "y_pred_svc = svc.predict(X_test)\n",
    "\n",
    "#print metrics\n",
    "\n",
    "print()\n",
    "print(\"Accuracy Score\", accuracy_score(y_test, y_pred_svc))\n",
    "print(classification_report(y_test, y_pred_svc))\n",
    "print(confusion_matrix(y_test, y_pred_svc))\n",
    "roc_auc_score(y_test, y_pred_svc)"
   ]
  },
  {
   "cell_type": "markdown",
   "metadata": {},
   "source": [
    "# Best Model by far is Decision Tree (class_weight = 'balanced', max_depth=6).  AUC is .74."
   ]
  },
  {
   "cell_type": "markdown",
   "metadata": {
    "collapsed": true
   },
   "source": [
    "## Predict holdout values"
   ]
  },
  {
   "cell_type": "code",
   "execution_count": 53,
   "metadata": {
    "collapsed": true
   },
   "outputs": [],
   "source": [
    "#Make sure holdout dataset is in the correct format\n",
    "#holdout_df.head()"
   ]
  },
  {
   "cell_type": "code",
   "execution_count": 53,
   "metadata": {},
   "outputs": [
    {
     "data": {
      "text/html": [
       "<div>\n",
       "<style>\n",
       "    .dataframe thead tr:only-child th {\n",
       "        text-align: right;\n",
       "    }\n",
       "\n",
       "    .dataframe thead th {\n",
       "        text-align: left;\n",
       "    }\n",
       "\n",
       "    .dataframe tbody tr th {\n",
       "        vertical-align: top;\n",
       "    }\n",
       "</style>\n",
       "<table border=\"1\" class=\"dataframe\">\n",
       "  <thead>\n",
       "    <tr style=\"text-align: right;\">\n",
       "      <th></th>\n",
       "      <th>0</th>\n",
       "    </tr>\n",
       "  </thead>\n",
       "  <tbody>\n",
       "    <tr>\n",
       "      <th>0</th>\n",
       "      <td>0.0</td>\n",
       "    </tr>\n",
       "    <tr>\n",
       "      <th>1</th>\n",
       "      <td>1.0</td>\n",
       "    </tr>\n",
       "    <tr>\n",
       "      <th>2</th>\n",
       "      <td>1.0</td>\n",
       "    </tr>\n",
       "    <tr>\n",
       "      <th>3</th>\n",
       "      <td>1.0</td>\n",
       "    </tr>\n",
       "    <tr>\n",
       "      <th>4</th>\n",
       "      <td>1.0</td>\n",
       "    </tr>\n",
       "  </tbody>\n",
       "</table>\n",
       "</div>"
      ],
      "text/plain": [
       "     0\n",
       "0  0.0\n",
       "1  1.0\n",
       "2  1.0\n",
       "3  1.0\n",
       "4  1.0"
      ]
     },
     "execution_count": 53,
     "metadata": {},
     "output_type": "execute_result"
    }
   ],
   "source": [
    "#predict values w/ new dataset using best model.\n",
    "prob_pred = pd.DataFrame(clf_dt3.predict_proba(holdout_df))\n",
    "pred = pd.DataFrame(clf_dt3.predict(holdout_df))\n",
    "prob_pred.head()\n",
    "pred.head()"
   ]
  },
  {
   "cell_type": "code",
   "execution_count": 54,
   "metadata": {
    "collapsed": true
   },
   "outputs": [],
   "source": [
    "#read in clean data set\n",
    "holdout_2_df=pd.read_csv(path + 'holdout.csv')"
   ]
  },
  {
   "cell_type": "code",
   "execution_count": 55,
   "metadata": {},
   "outputs": [
    {
     "data": {
      "text/html": [
       "<div>\n",
       "<style>\n",
       "    .dataframe thead tr:only-child th {\n",
       "        text-align: right;\n",
       "    }\n",
       "\n",
       "    .dataframe thead th {\n",
       "        text-align: left;\n",
       "    }\n",
       "\n",
       "    .dataframe tbody tr th {\n",
       "        vertical-align: top;\n",
       "    }\n",
       "</style>\n",
       "<table border=\"1\" class=\"dataframe\">\n",
       "  <thead>\n",
       "    <tr style=\"text-align: right;\">\n",
       "      <th></th>\n",
       "      <th>System ID</th>\n",
       "      <th>Created Date Time</th>\n",
       "      <th>Neustar Result Code</th>\n",
       "      <th>Lead Source</th>\n",
       "      <th>Emails</th>\n",
       "      <th>Birthdate</th>\n",
       "      <th>Gender</th>\n",
       "      <th>Applicant State/Province</th>\n",
       "      <th>Applicant Zip/Postal Code</th>\n",
       "      <th>Applicant City</th>\n",
       "      <th>0</th>\n",
       "      <th>1</th>\n",
       "      <th>0</th>\n",
       "    </tr>\n",
       "  </thead>\n",
       "  <tbody>\n",
       "    <tr>\n",
       "      <th>0</th>\n",
       "      <td>00Qd000000q7hjDEAQ</td>\n",
       "      <td>9/16/2016 13:23</td>\n",
       "      <td>10.0</td>\n",
       "      <td>85</td>\n",
       "      <td>NaN</td>\n",
       "      <td>9/21/1943</td>\n",
       "      <td>Female</td>\n",
       "      <td>TX</td>\n",
       "      <td>75901</td>\n",
       "      <td>Lufkin</td>\n",
       "      <td>0.541887</td>\n",
       "      <td>0.458113</td>\n",
       "      <td>0.0</td>\n",
       "    </tr>\n",
       "    <tr>\n",
       "      <th>1</th>\n",
       "      <td>00Qd000000pHFGPEA4</td>\n",
       "      <td>9/8/2016 21:21</td>\n",
       "      <td>5.0</td>\n",
       "      <td>102</td>\n",
       "      <td>2.0</td>\n",
       "      <td>10/15/1948</td>\n",
       "      <td>Female</td>\n",
       "      <td>PA</td>\n",
       "      <td>15613</td>\n",
       "      <td>Apollo</td>\n",
       "      <td>0.107091</td>\n",
       "      <td>0.892909</td>\n",
       "      <td>1.0</td>\n",
       "    </tr>\n",
       "    <tr>\n",
       "      <th>2</th>\n",
       "      <td>00Qd000000q8h9WEAQ</td>\n",
       "      <td>9/28/2016 15:23</td>\n",
       "      <td>7.0</td>\n",
       "      <td>25</td>\n",
       "      <td>NaN</td>\n",
       "      <td>7/24/1951</td>\n",
       "      <td>Male</td>\n",
       "      <td>GA</td>\n",
       "      <td>30474</td>\n",
       "      <td>Vidalia</td>\n",
       "      <td>0.438762</td>\n",
       "      <td>0.561238</td>\n",
       "      <td>1.0</td>\n",
       "    </tr>\n",
       "    <tr>\n",
       "      <th>3</th>\n",
       "      <td>00Qd000000r5f5TEAQ</td>\n",
       "      <td>10/1/2016 23:25</td>\n",
       "      <td>10.0</td>\n",
       "      <td>80</td>\n",
       "      <td>1.0</td>\n",
       "      <td>11/20/1951</td>\n",
       "      <td>Male</td>\n",
       "      <td>AZ</td>\n",
       "      <td>85748</td>\n",
       "      <td>Tucson</td>\n",
       "      <td>0.213171</td>\n",
       "      <td>0.786829</td>\n",
       "      <td>1.0</td>\n",
       "    </tr>\n",
       "    <tr>\n",
       "      <th>4</th>\n",
       "      <td>00Qd000000pIkMQEA0</td>\n",
       "      <td>9/8/2016 7:32</td>\n",
       "      <td>10.0</td>\n",
       "      <td>4</td>\n",
       "      <td>NaN</td>\n",
       "      <td>2/2/1952</td>\n",
       "      <td>Female</td>\n",
       "      <td>OH</td>\n",
       "      <td>43154</td>\n",
       "      <td>Stoutsville</td>\n",
       "      <td>0.392350</td>\n",
       "      <td>0.607650</td>\n",
       "      <td>1.0</td>\n",
       "    </tr>\n",
       "  </tbody>\n",
       "</table>\n",
       "</div>"
      ],
      "text/plain": [
       "            System ID Created Date Time  Neustar Result Code  Lead Source  \\\n",
       "0  00Qd000000q7hjDEAQ   9/16/2016 13:23                 10.0           85   \n",
       "1  00Qd000000pHFGPEA4    9/8/2016 21:21                  5.0          102   \n",
       "2  00Qd000000q8h9WEAQ   9/28/2016 15:23                  7.0           25   \n",
       "3  00Qd000000r5f5TEAQ   10/1/2016 23:25                 10.0           80   \n",
       "4  00Qd000000pIkMQEA0     9/8/2016 7:32                 10.0            4   \n",
       "\n",
       "   Emails   Birthdate  Gender Applicant State/Province  \\\n",
       "0     NaN   9/21/1943  Female                       TX   \n",
       "1     2.0  10/15/1948  Female                       PA   \n",
       "2     NaN   7/24/1951    Male                       GA   \n",
       "3     1.0  11/20/1951    Male                       AZ   \n",
       "4     NaN    2/2/1952  Female                       OH   \n",
       "\n",
       "  Applicant Zip/Postal Code Applicant City         0         1    0  \n",
       "0                     75901         Lufkin  0.541887  0.458113  0.0  \n",
       "1                     15613         Apollo  0.107091  0.892909  1.0  \n",
       "2                     30474        Vidalia  0.438762  0.561238  1.0  \n",
       "3                     85748         Tucson  0.213171  0.786829  1.0  \n",
       "4                     43154    Stoutsville  0.392350  0.607650  1.0  "
      ]
     },
     "execution_count": 55,
     "metadata": {},
     "output_type": "execute_result"
    }
   ],
   "source": [
    "#concat predictions\n",
    "holdout_2_df=pd.concat([holdout_2_df, prob_pred], axis=1)\n",
    "holdout_2_df=pd.concat([holdout_2_df, pred], axis=1)\n",
    "holdout_2_df.head()"
   ]
  },
  {
   "cell_type": "code",
   "execution_count": 56,
   "metadata": {
    "collapsed": true
   },
   "outputs": [],
   "source": [
    "holdout_2_df.to_csv(path + 'holdout_final.csv')"
   ]
  }
 ],
 "metadata": {
  "kernelspec": {
   "display_name": "Python 3",
   "language": "python",
   "name": "python3"
  },
  "language_info": {
   "codemirror_mode": {
    "name": "ipython",
    "version": 3
   },
   "file_extension": ".py",
   "mimetype": "text/x-python",
   "name": "python",
   "nbconvert_exporter": "python",
   "pygments_lexer": "ipython3",
   "version": "3.6.3"
  }
 },
 "nbformat": 4,
 "nbformat_minor": 2
}
